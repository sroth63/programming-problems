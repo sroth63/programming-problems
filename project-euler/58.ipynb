{
 "cells": [
  {
   "cell_type": "markdown",
   "metadata": {},
   "source": [
    "## 58 - Spiral Primes\n",
    "> Starting with $1$ and spiralling anticlockwise in the following way, a square spiral with side length $7$ is formed.\n",
    "    <p class=\"center monospace\"><span class=\"red\"><b>37</b></span> 36 35 34 33 32 <span class=\"red\"><b>31</b></span><br>\n",
    "    38 <span class=\"red\"><b>17</b></span> 16 15 14 <span class=\"red\"><b>13</b></span> 30<br>\n",
    "    39 18 <span class=\"red\"> <b>05</b></span>  04 <span class=\"red\"> <b>03</b></span> 12 29<br>\n",
    "    40 19  06  01  02 11 28<br>\n",
    "    41 20 <span class=\"red\"> <b>07</b></span>  08  09 10 27<br>\n",
    "    42 21 22 23 24 25 26<br><span class=\"red\"><b>43</b></span> 44 45 46 47 48 49</p>\n",
    "    <p>It is interesting to note that the odd squares lie along the bottom right diagonal, but what is more interesting is that $8$ out of the $13$ numbers lying along both diagonals are prime; that is, a ratio of $8/13 \\approx 62\\%$.</p>\n",
    "    <p>If one complete new layer is wrapped around the spiral above, a square spiral with side length $9$ will be formed. If this process is continued, what is the side length of the square spiral for which the ratio of primes along both diagonals first falls below $10\\%$?</p>\n",
    "\n",
    "If the length of the square is $2k+1$, then there are $4k+1$ numbers on the diagonal, and the numbers in the corners are $(2k+1)^2$ (which is never prime), $(2k+1)^2-2k$, $(2k+1)^2-4k$ and $(2k+1)^2-6k$."
   ]
  },
  {
   "cell_type": "code",
   "execution_count": 1,
   "metadata": {
    "execution": {
     "iopub.execute_input": "2025-04-01T20:30:15.264424Z",
     "iopub.status.busy": "2025-04-01T20:30:15.263749Z",
     "iopub.status.idle": "2025-04-01T20:30:18.906509Z",
     "shell.execute_reply": "2025-04-01T20:30:18.905853Z"
    }
   },
   "outputs": [
    {
     "name": "stdout",
     "output_type": "stream",
     "text": [
      "26241\n"
     ]
    }
   ],
   "source": [
    "def is_prime(n):\n",
    "    if n <= 1:\n",
    "      return False\n",
    "    for j in range(2, int(n**0.5)+1):\n",
    "        if n % j==0:\n",
    "            return False\n",
    "    return True\n",
    "\n",
    "ratio = 1\n",
    "k = 1\n",
    "N = 0\n",
    "while ratio > 0.1:\n",
    "    corner = (2*k+1)**2\n",
    "    N += is_prime(corner-2*k)+is_prime(corner-4*k)+is_prime(corner-6*k)\n",
    "    ratio = N/(4*k + 1)\n",
    "    k += 1\n",
    "\n",
    "print(2*k-1)"
   ]
  }
 ],
 "metadata": {
  "kernelspec": {
   "display_name": "Python 3",
   "language": "python",
   "name": "python3"
  },
  "language_info": {
   "codemirror_mode": {
    "name": "ipython",
    "version": 3
   },
   "file_extension": ".py",
   "mimetype": "text/x-python",
   "name": "python",
   "nbconvert_exporter": "python",
   "pygments_lexer": "ipython3",
   "version": "3.12.3"
  }
 },
 "nbformat": 4,
 "nbformat_minor": 2
}
