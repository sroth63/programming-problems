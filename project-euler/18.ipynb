{
 "cells": [
  {
   "cell_type": "markdown",
   "metadata": {},
   "source": [
    "## 18 - Maximum Path Sum I\n",
    "> By starting at the top of the triangle below and moving to adjacent numbers on the row below, the maximum total from top to bottom is $23$.\\\n",
    "    <p style=\"text-align: center;\"><span class=\"red\"><b>3</b></span><br><span class=\"red\"><b>7</b></span> 4<br>\n",
    "    2 <span class=\"red\"><b>4</b></span> 6<br>\n",
    "    8 5 <span class=\"red\"><b>9</b></span> 3</p>\n",
    "    <p>That is, $3 + 7 + 4 + 9 = 23$.</p>\n",
    "    <p>Find the maximum total from top to bottom of the triangle below:</p>\n",
    "    <p style=\"text-align: center;\">75<br>\n",
    "    95 64<br>\n",
    "    17 47 82<br>\n",
    "    18 35 87 10<br>\n",
    "    20 04 82 47 65<br>\n",
    "    19 01 23 75 03 34<br>\n",
    "    88 02 77 73 07 63 67<br>\n",
    "    99 65 04 28 06 16 70 92<br>\n",
    "    41 41 26 56 83 40 80 70 33<br>\n",
    "    41 48 72 33 47 32 37 16 94 29<br>\n",
    "    53 71 44 65 25 43 91 52 97 51 14<br>\n",
    "    70 11 33 28 77 73 17 78 39 68 17 57<br>\n",
    "    91 71 52 38 17 14 91 43 58 50 27 29 48<br>\n",
    "    63 66 04 68 89 53 67 30 73 16 69 87 40 31<br>\n",
    "    04 62 98 27 23 09 70 98 73 93 38 53 60 04 23</p>\n",
    "    <p class=\"note\"><b>NOTE:</b> As there are only $16384$ routes, it is possible to solve this problem by trying every route. However, <a href=\"(https://projecteuler.net/problem=67)\">Problem 67</a>, is the same challenge with a triangle containing one-hundred rows; it cannot be solved by brute force, and requires a clever method! ;o)</p>\n",
    "\n",
    "I used dynamic programming. `d[(i,j)]` contains the biggest sum of a path between the point `(i,j)` and the bottom of the triangle."
   ]
  },
  {
   "cell_type": "code",
   "execution_count": 1,
   "metadata": {
    "execution": {
     "iopub.execute_input": "2025-04-01T20:27:32.701901Z",
     "iopub.status.busy": "2025-04-01T20:27:32.701416Z",
     "iopub.status.idle": "2025-04-01T20:27:32.712909Z",
     "shell.execute_reply": "2025-04-01T20:27:32.711992Z"
    }
   },
   "outputs": [
    {
     "name": "stdout",
     "output_type": "stream",
     "text": [
      "1074\n"
     ]
    }
   ],
   "source": [
    "numbers = \"75 95 64 17 47 82 18 35 87 10 20 04 82 47 65 19 01 23 75 03 34 88 02 77 73 07 63 67 99 65 04 28 06 16 70 92 41 41 26 56 83 40 80 70 33 41 48 72 33 47 32 37 16 94 29 53 71 44 65 25 43 91 52 97 51 14 70 11 33 28 77 73 17 78 39 68 17 57 91 71 52 38 17 14 91 43 58 50 27 29 48 63 66 04 68 89 53 67 30 73 16 69 87 40 31 04 62 98 27 23 09 70 98 73 93 38 53 60 04 23\".split()\n",
    "\n",
    "n = 15\n",
    "\n",
    "triangle = [[0 for _ in range(n)] for _ in range(n)]\n",
    "k = 0\n",
    "for i in range(n):\n",
    "    for j in range(i+1):\n",
    "        triangle[i][j] = int(numbers[k])\n",
    "        k += 1\n",
    "\n",
    "d = {}\n",
    "for j in range(n):\n",
    "    d[(n-1,j)] = triangle[n-1][j]\n",
    "i = n-2\n",
    "while i >= 0:\n",
    "    for j in range(i+1):\n",
    "        d[(i,j)] = triangle[i][j] + max(d[(i+1,j)],d[(i+1,j+1)])\n",
    "    i -= 1\n",
    "print(d[(0,0)])"
   ]
  }
 ],
 "metadata": {
  "kernelspec": {
   "display_name": "Python 3",
   "language": "python",
   "name": "python3"
  },
  "language_info": {
   "codemirror_mode": {
    "name": "ipython",
    "version": 3
   },
   "file_extension": ".py",
   "mimetype": "text/x-python",
   "name": "python",
   "nbconvert_exporter": "python",
   "pygments_lexer": "ipython3",
   "version": "3.12.3"
  }
 },
 "nbformat": 4,
 "nbformat_minor": 2
}
