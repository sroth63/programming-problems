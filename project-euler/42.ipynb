{
 "cells": [
  {
   "cell_type": "markdown",
   "metadata": {},
   "source": [
    "## 42 - Coded Triangle Numbers\n",
    "> The $n$<sup>th</sup> term of the sequence of triangle numbers is given by, $t_n = \\frac12n(n+1)$; so the first ten triangle numbers are: $$1, 3, 6, 10, 15, 21, 28, 36, 45, 55, \\dots$$</p>\n",
    "    <p>By converting each letter in a word to a number corresponding to its alphabetical position and adding these values we form a word value. For example, the word value for SKY is $19 + 11 + 25 = 55 = t_{10}$. If the word value is a triangle number then we shall call the word a triangle word.</p>\n",
    "    <p>Using <a href=\"https://projecteuler.net/resources/documents/0042_words.txt\">words.txt</a> (right click and 'Save Link/Target As...'), a 16K text file containing nearly two-thousand common English words, how many are triangle words?</p>\n"
   ]
  },
  {
   "cell_type": "code",
   "execution_count": 1,
   "metadata": {
    "execution": {
     "iopub.execute_input": "2025-04-01T20:29:34.525667Z",
     "iopub.status.busy": "2025-04-01T20:29:34.525131Z",
     "iopub.status.idle": "2025-04-01T20:29:34.543365Z",
     "shell.execute_reply": "2025-04-01T20:29:34.542234Z"
    }
   },
   "outputs": [
    {
     "name": "stdout",
     "output_type": "stream",
     "text": [
      "162\n"
     ]
    }
   ],
   "source": [
    "words = open(\"0042_words.txt\").read().split('\",\"')\n",
    "\n",
    "words[0] = words[0][1:]\n",
    "words[-1] = words[-1][:-1]\n",
    "\n",
    "t = [i*(i+1)//2 for i in range(1,40)] # a word value can't exceed, say, 26 * 20 = 520\n",
    "\n",
    "s = 0\n",
    "for word in words:\n",
    "    value = sum(ord(letter) - ord(\"A\") + 1 for letter in word)\n",
    "    if value in t:\n",
    "        s += 1\n",
    "print(s)"
   ]
  }
 ],
 "metadata": {
  "kernelspec": {
   "display_name": "Python 3",
   "language": "python",
   "name": "python3"
  },
  "language_info": {
   "codemirror_mode": {
    "name": "ipython",
    "version": 3
   },
   "file_extension": ".py",
   "mimetype": "text/x-python",
   "name": "python",
   "nbconvert_exporter": "python",
   "pygments_lexer": "ipython3",
   "version": "3.12.3"
  }
 },
 "nbformat": 4,
 "nbformat_minor": 2
}
