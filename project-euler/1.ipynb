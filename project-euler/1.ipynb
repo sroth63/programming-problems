{
 "cells": [
  {
   "cell_type": "markdown",
   "metadata": {},
   "source": [
    "# Project Euler\n",
    "This document contains my solutions to the first 100 [Project Euler](\"https://projecteuler.net/about\") problems. They are all coded in Python3, without any modules, and took less than one minute to run on my computer. I tried to never use any hypothesis that I wasn't sure about, but I didn't always succeed. I tried to keep my code understandable and to add explanations when it relies on some non-trivial math, but it may not be sufficient to understand everything.\n",
    "\n",
    "## 1 - Multiples of 3 or 5\n",
    "> If we list all the natural numbers below $10$ that are multiples of $3$ or $5$, we get $3,5,6$ and $9$. The sum of these multiples is $23$.\\\n",
    "  Find the sum of all the multiples of $3$ or $5$ below $1000$."
   ]
  },
  {
   "cell_type": "code",
   "execution_count": 1,
   "metadata": {
    "execution": {
     "iopub.execute_input": "2025-04-01T20:26:56.550377Z",
     "iopub.status.busy": "2025-04-01T20:26:56.549940Z",
     "iopub.status.idle": "2025-04-01T20:26:56.559080Z",
     "shell.execute_reply": "2025-04-01T20:26:56.558032Z"
    }
   },
   "outputs": [
    {
     "name": "stdout",
     "output_type": "stream",
     "text": [
      "233168\n"
     ]
    }
   ],
   "source": [
    "s = 0\n",
    "for i in range(1000):\n",
    "    if i % 3 == 0 or i % 5 == 0:\n",
    "        s += i\n",
    "print(s)"
   ]
  }
 ],
 "metadata": {
  "kernelspec": {
   "display_name": "Python 3",
   "language": "python",
   "name": "python3"
  },
  "language_info": {
   "codemirror_mode": {
    "name": "ipython",
    "version": 3
   },
   "file_extension": ".py",
   "mimetype": "text/x-python",
   "name": "python",
   "nbconvert_exporter": "python",
   "pygments_lexer": "ipython3",
   "version": "3.12.3"
  }
 },
 "nbformat": 4,
 "nbformat_minor": 2
}
