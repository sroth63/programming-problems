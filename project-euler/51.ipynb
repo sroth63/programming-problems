{
 "cells": [
  {
   "cell_type": "markdown",
   "metadata": {},
   "source": [
    "## 51 - Prime Digit Replacements\n",
    "> By replacing the 1<sup>st</sup> digit of the 2-digit number *3, it turns out that six of the nine possible values: 13, 23, 43, 53, 73, and 83, are all prime.\n",
    "    <p>By replacing the 3<sup>rd</sup> and 4<sup>th</sup> digits of 56**3 with the same digit, this 5-digit number is the first example having seven primes among the ten generated numbers, yielding the family: 56003, 56113, 56333, 56443, 56663, 56773, and 56993. Consequently 56003, being the first member of this family, is the smallest prime with this property.</p>\n",
    "    <p>Find the smallest prime which, by replacing part of the number (not necessarily adjacent digits) with the same digit, is part of an eight prime value family.</p>\n",
    "\n",
    "I assumed that there is a solution below $10^6$. If you replace a single digit, you can't get an eight prime value family because at least one number would be divisible by $3$. It's the same if you replace $2$, $4$ or $5$ digits. So we only have to check primes with exactly $3$ identical digits."
   ]
  },
  {
   "cell_type": "code",
   "execution_count": 1,
   "metadata": {
    "execution": {
     "iopub.execute_input": "2025-04-01T20:30:06.567596Z",
     "iopub.status.busy": "2025-04-01T20:30:06.567428Z",
     "iopub.status.idle": "2025-04-01T20:30:06.810276Z",
     "shell.execute_reply": "2025-04-01T20:30:06.809675Z"
    }
   },
   "outputs": [
    {
     "name": "stdout",
     "output_type": "stream",
     "text": [
      "121313\n"
     ]
    }
   ],
   "source": [
    "def sieve(n):\n",
    "    is_prime = [True] * (n + 1)\n",
    "    is_prime[0:2] = [False, False]\n",
    "    \n",
    "    for current in range(2, int(n**0.5) + 1):\n",
    "        if is_prime[current]:\n",
    "            is_prime[current*current:n+1:current] = [False] * len(range(current*current, n+1, current))\n",
    "    \n",
    "    primes = [num for num, prime in enumerate(is_prime) if prime]\n",
    "    return primes\n",
    "\n",
    "primes = set(sieve(10**6))\n",
    "\n",
    "def three_id_digits(n):\n",
    "    '''returns `None` if `n` doesn't have exactly 3 identical digits, and returns the indices of the 3 identical digits otherwise'''\n",
    "    assert n < 10**6\n",
    "    s = str(n)\n",
    "    counts = {}\n",
    "    for d in s:\n",
    "        counts[d] = counts.get(d, 0) + 1\n",
    "    digits_with_exactly_three = [d for d, count in counts.items() if count == 3]\n",
    "    if len(digits_with_exactly_three) != 1:\n",
    "        return None\n",
    "    \n",
    "    target_digit = digits_with_exactly_three[0]\n",
    "    indices = [i for i, d in enumerate(s) if d == target_digit]\n",
    "    return indices\n",
    "\n",
    "def find_family(n, indices):\n",
    "    '''\n",
    "    input: an integer `n` which has 3 identical digits indicated by the list `indices`\n",
    "    returns `None` if `n` isn't part of an eight prime value family, and returns the smallest member of that family if it exists.\n",
    "    '''\n",
    "    count = 0\n",
    "    for digit in range(10):\n",
    "        s = list(str(n))\n",
    "        for i in indices:\n",
    "            s[i] = str(digit)\n",
    "        new = int(''.join(s))\n",
    "        if new in primes and len(str(new)) == 6:\n",
    "            count += 1\n",
    "            if count == 1:\n",
    "                smallest = new\n",
    "    if count >= 8:\n",
    "        return smallest\n",
    "    else:\n",
    "        return None\n",
    "\n",
    "candidates = []\n",
    "\n",
    "for p in primes:\n",
    "    indices = three_id_digits(p)\n",
    "    if not(indices is None):\n",
    "        smallest = find_family(p, indices)\n",
    "        if not(smallest is None):\n",
    "            candidates.append(smallest)\n",
    "\n",
    "print(min(candidates))\n",
    "\n"
   ]
  }
 ],
 "metadata": {
  "kernelspec": {
   "display_name": "Python 3",
   "language": "python",
   "name": "python3"
  },
  "language_info": {
   "codemirror_mode": {
    "name": "ipython",
    "version": 3
   },
   "file_extension": ".py",
   "mimetype": "text/x-python",
   "name": "python",
   "nbconvert_exporter": "python",
   "pygments_lexer": "ipython3",
   "version": "3.12.3"
  }
 },
 "nbformat": 4,
 "nbformat_minor": 2
}
