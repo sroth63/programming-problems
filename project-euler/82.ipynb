{
 "cells": [
  {
   "cell_type": "markdown",
   "metadata": {},
   "source": [
    "## 82 - Path Sum: Three Ways\n",
    "> NOTE: This problem is a more challenging version of <a href=\"https://projecteuler.net/problem=81\">Problem 81</a>.\n",
    "    <p>The minimal path sum in the $5$ by $5$ matrix below, by starting in any cell in the left column and finishing in any cell in the right column, and only moving up, down, and right, is indicated in red and bold; the sum is equal to $994$.</p>\n",
    "    <div class=\"center\">$$\n",
    "    \\begin{pmatrix}\n",
    "    131 & 673 & \\color{red}{234} & \\color{red}{103} & \\color{red}{18}\\\\\n",
    "    \\color{red}{201} & \\color{red}{96} & \\color{red}{342} & 965 & 150\\\\\n",
    "    630 & 803 & 746 & 422 & 111\\\\\n",
    "    537 & 699 & 497 & 121 & 956\\\\\n",
    "    805 & 732 & 524 & 37 & 331\n",
    "    \\end{pmatrix}$$\n",
    "    </div>\n",
    "    <p>Find the minimal path sum from the left column to the right column in <a href=\"https://projecteuler.net/resources/documents/0082_matrix.txt\">matrix.txt</a> (right click and \"Save Link/Target As...\"), a 31K text file containing an $80$ by $80$ matrix.</p>\n",
    "\n",
    "I used dynamic programming. `T[i][j]` is the minimal path sum from the point at coordinates `(i, j)` to the right column."
   ]
  },
  {
   "cell_type": "code",
   "execution_count": 1,
   "metadata": {},
   "outputs": [
    {
     "name": "stdout",
     "output_type": "stream",
     "text": [
      "260324\n"
     ]
    }
   ],
   "source": [
    "grid = [[int(n) for n in line.split(',')] for line in open(\"0082_matrix.txt\")]\n",
    "\n",
    "N = 80\n",
    "T = [[float(\"inf\") for _ in range(N)] for _ in range(N)]\n",
    "for i in range(N):\n",
    "    T[i][-1] = grid[i][-1]\n",
    "\n",
    "for j in range(N-2, -1, -1):\n",
    "    for i in range(N):\n",
    "        T[i][j] = T[i][j + 1] + grid[i][j]\n",
    "    for i in range(1, N):\n",
    "        T[i][j] = min(T[i][j], T[i - 1][j] + grid[i][j])\n",
    "    for i in range(N-2, -1, -1):\n",
    "        T[i][j] = min(T[i][j], T[i + 1][j] + grid[i][j])\n",
    "\n",
    "print(min(T[i][0] for i in range(N)))"
   ]
  }
 ],
 "metadata": {
  "kernelspec": {
   "display_name": "Python 3",
   "language": "python",
   "name": "python3"
  },
  "language_info": {
   "codemirror_mode": {
    "name": "ipython",
    "version": 3
   },
   "file_extension": ".py",
   "mimetype": "text/x-python",
   "name": "python",
   "nbconvert_exporter": "python",
   "pygments_lexer": "ipython3",
   "version": "3.12.3"
  }
 },
 "nbformat": 4,
 "nbformat_minor": 2
}
