{
 "cells": [
  {
   "cell_type": "markdown",
   "metadata": {},
   "source": [
    "## 22 - Names Scores\n",
    "> Using <a href=\"https://projecteuler.net/resources/documents/0022_names.txt\">names.txt</a> (right click and 'Save Link/Target As...'), a 46K text file containing over five-thousand first names, begin by sorting it into alphabetical order. Then working out the alphabetical value for each name, multiply this value by its alphabetical position in the list to obtain a name score.\\\n",
    "    <p>For example, when the list is sorted into alphabetical order, COLIN, which is worth $3 + 15 + 12 + 9 + 14 = 53$, is the $938$ th name in the list. So, COLIN would obtain a score of $938 \\times 53 = 49714$.</p>\n",
    "    <p>What is the total of all the name scores in the file?</p>\n",
    "\n"
   ]
  },
  {
   "cell_type": "code",
   "execution_count": 1,
   "metadata": {
    "execution": {
     "iopub.execute_input": "2025-04-01T20:27:38.140154Z",
     "iopub.status.busy": "2025-04-01T20:27:38.139907Z",
     "iopub.status.idle": "2025-04-01T20:27:38.166658Z",
     "shell.execute_reply": "2025-04-01T20:27:38.165636Z"
    }
   },
   "outputs": [
    {
     "name": "stdout",
     "output_type": "stream",
     "text": [
      "871198282\n"
     ]
    }
   ],
   "source": [
    "l=sorted(open(\"0022_names.txt\").read().split(\",\"))\n",
    "\n",
    "for i in range(len(l)): #removing the \" \"\n",
    "    l[i]=l[i][1:-1]\n",
    "\n",
    "s = 0\n",
    "for i in range(len(l)):\n",
    "    v = 0\n",
    "    for j in range(len(l[i])):\n",
    "        v += ord(l[i][j]) - ord(\"A\") + 1\n",
    "    s += (i+1) * v\n",
    "print(s)"
   ]
  }
 ],
 "metadata": {
  "kernelspec": {
   "display_name": "Python 3",
   "language": "python",
   "name": "python3"
  },
  "language_info": {
   "codemirror_mode": {
    "name": "ipython",
    "version": 3
   },
   "file_extension": ".py",
   "mimetype": "text/x-python",
   "name": "python",
   "nbconvert_exporter": "python",
   "pygments_lexer": "ipython3",
   "version": "3.12.3"
  }
 },
 "nbformat": 4,
 "nbformat_minor": 2
}
