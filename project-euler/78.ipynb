{
 "cells": [
  {
   "cell_type": "markdown",
   "metadata": {},
   "source": [
    "## 78 - Coin Partitions\n",
    "> Let $p(n)$ represent the number of different ways in which $n$ coins can be separated into piles. For example, five coins can be separated into piles in exactly seven different ways, so $p(5)=7$.\n",
    "    <div class=\"margin_left\">\n",
    "    OOOOO<br>\n",
    "    OOOO   O<br>\n",
    "    OOO   OO<br>\n",
    "    OOO   O   O<br>\n",
    "    OO   OO   O<br>\n",
    "    OO   O   O   O<br>\n",
    "    O   O   O   O   O\n",
    "    </div>\n",
    "    <p>Find the least value of $n$ for which $p(n)$ is divisible by one million.</p>\n",
    "\n",
    "This time, dynamic programming is too slow, so I used the [pentagonal number theorem](https://en.wikipedia.org/wiki/Pentagonal_number_theorem)."
   ]
  },
  {
   "cell_type": "code",
   "execution_count": 1,
   "metadata": {
    "execution": {
     "iopub.execute_input": "2025-04-01T20:31:33.341513Z",
     "iopub.status.busy": "2025-04-01T20:31:33.340513Z",
     "iopub.status.idle": "2025-04-01T20:31:39.181762Z",
     "shell.execute_reply": "2025-04-01T20:31:39.181315Z"
    }
   },
   "outputs": [
    {
     "name": "stdout",
     "output_type": "stream",
     "text": [
      "55374\n"
     ]
    }
   ],
   "source": [
    "p = [1]\n",
    "n = 0\n",
    "\n",
    "while p[-1] % 10**6 != 0:\n",
    "    n += 1\n",
    "    part = 0\n",
    "    k = 1\n",
    "    while (pent := (k * (3*k - 1) // 2)) <= n:\n",
    "        part += (-1)**(k-1) * p[n - pent]\n",
    "        if (pent2 := (k * (3*k + 1) // 2)) <= n:\n",
    "            part += (-1)**(k-1) * p[n - pent2]\n",
    "        k += 1\n",
    "    p.append(part)\n",
    "\n",
    "print(n)"
   ]
  }
 ],
 "metadata": {
  "kernelspec": {
   "display_name": "Python 3",
   "language": "python",
   "name": "python3"
  },
  "language_info": {
   "codemirror_mode": {
    "name": "ipython",
    "version": 3
   },
   "file_extension": ".py",
   "mimetype": "text/x-python",
   "name": "python",
   "nbconvert_exporter": "python",
   "pygments_lexer": "ipython3",
   "version": "3.12.3"
  }
 },
 "nbformat": 4,
 "nbformat_minor": 2
}
