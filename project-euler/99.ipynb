{
 "cells": [
  {
   "cell_type": "markdown",
   "metadata": {},
   "source": [
    "## 99 - Largest Exponential\n",
    "> Comparing two numbers written in index form like $2^{11}$ and $3^7$ is not difficult, as any calculator would confirm that $2^{11} = 2048 \\lt 3^7 = 2187$.\n",
    "    <p>However, confirming that $632382^{518061} \\gt 519432^{525806}$ would be much more difficult, as both numbers contain over three million digits.</p>\n",
    "    <p>Using <a href=\"https://projecteuler.net/resources/documents/0099_base_exp.txt\">base_exp.txt</a> (right click and 'Save Link/Target As...'), a 22K text file containing one thousand lines with a base/exponent pair on each line, determine which line number has the greatest numerical value.</p>\n",
    "    <p class=\"smaller\">NOTE: The first two lines in the file represent the numbers in the example given above.</p>\n",
    "\n",
    "I converted everything into logarithms, which allows much quicker computations. However, as I didn't want to use any modules, I had to implement my own logarithm function. It proved rather challenging to have an implementation that is both quick and high-precision. I used the expansion of the logarithm using the inverse hyperbolic tangent function. This expansion converges much quicker when the argument is close to 1, so I first reduced the argument by repeatedly dividing it by 2."
   ]
  },
  {
   "cell_type": "code",
   "execution_count": 1,
   "metadata": {},
   "outputs": [
    {
     "name": "stdout",
     "output_type": "stream",
     "text": [
      "709\n"
     ]
    }
   ],
   "source": [
    "def ln(x, iterations=50):\n",
    "    # Hard-coded high-precision value for ln(2)\n",
    "    LN2 = 0.6931471805599453\n",
    "    \n",
    "    # Argument reduction: bring x into (0.5, 2)\n",
    "    n = 0\n",
    "    x_reduced = x\n",
    "    while x_reduced > 2:\n",
    "        x_reduced /= 2\n",
    "        n += 1\n",
    "    while x_reduced < 0.5:\n",
    "        x_reduced *= 2\n",
    "        n -= 1\n",
    "    \n",
    "    # Use transformation: u = (x-1)/(x+1)\n",
    "    u = (x_reduced - 1) / (x_reduced + 1)\n",
    "    \n",
    "    # Compute the series: ln(x_reduced) = 2 * (u + u^3/3 + u^5/5 + ...)\n",
    "    series_sum = 0.0\n",
    "    u_power = u  # will hold u^(2*i+1)\n",
    "    for i in range(iterations):\n",
    "        term = u_power / (2 * i + 1)\n",
    "        series_sum += term\n",
    "        u_power *= u * u  # increase the exponent by 2\n",
    "    \n",
    "    ln_reduced = 2 * series_sum\n",
    "    \n",
    "    # Combine with the reduction: ln(x) = ln(x_reduced) + n * ln(2)\n",
    "    return ln_reduced + n * LN2\n",
    "\n",
    "\n",
    "content = open(\"0099_base_exp.txt\").read().splitlines()\n",
    "\n",
    "best = 0\n",
    "best_index = 0\n",
    "for i in range(len(content)):\n",
    "    a, b = map(int, content[i].split(\",\"))\n",
    "    new = b * ln(a)\n",
    "    if new > best:\n",
    "        best = new\n",
    "        best_index = i\n",
    "\n",
    "print(best_index + 1)"
   ]
  }
 ],
 "metadata": {
  "kernelspec": {
   "display_name": "Python 3",
   "language": "python",
   "name": "python3"
  },
  "language_info": {
   "codemirror_mode": {
    "name": "ipython",
    "version": 3
   },
   "file_extension": ".py",
   "mimetype": "text/x-python",
   "name": "python",
   "nbconvert_exporter": "python",
   "pygments_lexer": "ipython3",
   "version": "3.12.3"
  }
 },
 "nbformat": 4,
 "nbformat_minor": 2
}
