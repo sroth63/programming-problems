{
 "cells": [
  {
   "cell_type": "markdown",
   "metadata": {},
   "source": [
    "## 34 - Digit Factorials\n",
    "> $145$ is a curious number, as $1! + 4! + 5! = 1 + 24 + 120 = 145$.\\\n",
    "    <p>Find the sum of all numbers which are equal to the sum of the factorial of their digits.</p>\n",
    "    (Note: As $1! = 1$ and $2! = 2$ are not sums they are not included.)\n",
    "\n",
    "The number of digits of a positive integer $n$ is $\\lfloor\\log_{10} n\\rfloor+1$. So the sum of the factorial of the digits of $n$ is $\\le 9! (\\log_{10} (n)+1)$. Thus, if $9! (\\log_{10} (n)+1) < n$, i.e. $n < 10^{n/9! - 1}$, we can stop.\n"
   ]
  },
  {
   "cell_type": "code",
   "execution_count": 1,
   "metadata": {
    "execution": {
     "iopub.execute_input": "2025-04-01T20:28:00.224300Z",
     "iopub.status.busy": "2025-04-01T20:28:00.223884Z",
     "iopub.status.idle": "2025-04-01T20:28:08.123177Z",
     "shell.execute_reply": "2025-04-01T20:28:08.122556Z"
    }
   },
   "outputs": [
    {
     "name": "stdout",
     "output_type": "stream",
     "text": [
      "40730\n"
     ]
    }
   ],
   "source": [
    "fact=[1]\n",
    "for i in range(1,10):\n",
    "    fact.append(fact[-1]*i)\n",
    "\n",
    "n = 10\n",
    "s = 0\n",
    "while n >= 10**(n/fact[-1] -1):\n",
    "    if n == sum(fact[int(str(n)[j])] for j in range(len(str(n)))):\n",
    "        s += n\n",
    "    n += 1\n",
    "\n",
    "print(s)"
   ]
  }
 ],
 "metadata": {
  "kernelspec": {
   "display_name": "Python 3",
   "language": "python",
   "name": "python3"
  },
  "language_info": {
   "codemirror_mode": {
    "name": "ipython",
    "version": 3
   },
   "file_extension": ".py",
   "mimetype": "text/x-python",
   "name": "python",
   "nbconvert_exporter": "python",
   "pygments_lexer": "ipython3",
   "version": "3.12.3"
  }
 },
 "nbformat": 4,
 "nbformat_minor": 2
}
