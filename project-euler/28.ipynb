{
 "cells": [
  {
   "cell_type": "markdown",
   "metadata": {},
   "source": [
    "## 28 - Number Spiral Diagonals\n",
    "> Starting with the number $1$ and moving to the right in a clockwise direction a $5$ by $5$ spiral is formed as follows:\\\n",
    "    <p class=\"monospace center\"><span class=\"red\"><b>21</b></span> 22 23 24 <span class=\"red\"><b>25</b></span><br>\n",
    "    20  <span class=\"red\"><b>07</b></span>  08  <span class=\"red\"><b>09</b></span> 10<br>\n",
    "    19  06  <span class=\"red\"><b>01</b></span>  02 11<br>\n",
    "    18  <span class=\"red\"><b>05</b></span>  04  <span class=\"red\"><b>03</b></span> 12<br>\n",
    "    <span class=\"red\"><b>17</b></span> 16 15 14 <span class=\"red\"><b>13</b></span></p>\n",
    "    <p>It can be verified that the sum of the numbers on the diagonals is $101$.</p>\n",
    "    <p>What is the sum of the numbers on the diagonals in a $1001$ by $1001$ spiral formed in the same way?</p>\n",
    "\n",
    "We just have to find formulas for the diagonal numbers, which is boring but not too difficult."
   ]
  },
  {
   "cell_type": "code",
   "execution_count": 1,
   "metadata": {
    "execution": {
     "iopub.execute_input": "2025-04-01T20:27:48.016991Z",
     "iopub.status.busy": "2025-04-01T20:27:48.016482Z",
     "iopub.status.idle": "2025-04-01T20:27:48.027051Z",
     "shell.execute_reply": "2025-04-01T20:27:48.025750Z"
    }
   },
   "outputs": [
    {
     "name": "stdout",
     "output_type": "stream",
     "text": [
      "669171001\n"
     ]
    }
   ],
   "source": [
    "s = 1\n",
    "for i in range(1, 501):\n",
    "    s += ((2*i + 1)**2 + 4*i**2 + 1) * 3 // 2\n",
    "    s += ((2*i - 1)**2 + (2*i)**2 + 1) // 2\n",
    "print(s)"
   ]
  }
 ],
 "metadata": {
  "kernelspec": {
   "display_name": "Python 3",
   "language": "python",
   "name": "python3"
  },
  "language_info": {
   "codemirror_mode": {
    "name": "ipython",
    "version": 3
   },
   "file_extension": ".py",
   "mimetype": "text/x-python",
   "name": "python",
   "nbconvert_exporter": "python",
   "pygments_lexer": "ipython3",
   "version": "3.12.3"
  }
 },
 "nbformat": 4,
 "nbformat_minor": 2
}
