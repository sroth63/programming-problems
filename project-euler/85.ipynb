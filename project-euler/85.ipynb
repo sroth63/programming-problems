{
 "cells": [
  {
   "cell_type": "markdown",
   "metadata": {},
   "source": [
    "## 85 - Counting Rectangles\n",
    "> By counting carefully it can be seen that a rectangular grid measuring $3$ by $2$ contains eighteen rectangles:\n",
    "    <div class=\"center\">\n",
    "    <img src=\"https://projecteuler.net/resources/images/0085.png?1678992052\" class=\"dark_img\" alt=\"\"></div>\n",
    "    <p>Although there exists no rectangular grid that contains exactly two million rectangles, find the area of the grid with the nearest solution.</p>\n",
    "\n",
    "If the grid has size $a \\times b$ then it contains $\\frac{a(a+1)}2 \\times \\frac{b(b+1)}2$ rectangles ($\\frac{a(a+1)}2$ choices for the horizontal sides and $\\frac{b(b+1)}2$ for the rectangular sides).\n",
    "\n",
    "If $a \\ge 2000$ then the number of rectangles is at least $1000 \\times 2001 > 2 \\times 10^6$, and the same goes for $b$."
   ]
  },
  {
   "cell_type": "code",
   "execution_count": 1,
   "metadata": {},
   "outputs": [
    {
     "name": "stdout",
     "output_type": "stream",
     "text": [
      "2772\n"
     ]
    }
   ],
   "source": [
    "best_difference = 2*10**6\n",
    "\n",
    "for a in range(2000):\n",
    "    for b in range(2000):\n",
    "        difference = abs((a*(a+1)*b*(b+1))//4 - 2*10**6)\n",
    "        if difference < best_difference:\n",
    "            best_difference = difference\n",
    "            a0,b0=a,b\n",
    "\n",
    "print(a0*b0)"
   ]
  }
 ],
 "metadata": {
  "kernelspec": {
   "display_name": "Python 3",
   "language": "python",
   "name": "python3"
  },
  "language_info": {
   "codemirror_mode": {
    "name": "ipython",
    "version": 3
   },
   "file_extension": ".py",
   "mimetype": "text/x-python",
   "name": "python",
   "nbconvert_exporter": "python",
   "pygments_lexer": "ipython3",
   "version": "3.12.3"
  }
 },
 "nbformat": 4,
 "nbformat_minor": 2
}
