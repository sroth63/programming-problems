{
 "cells": [
  {
   "cell_type": "markdown",
   "metadata": {},
   "source": [
    "## 50 - Consecutive Prime Sum\n",
    "> The prime $41$, can be written as the sum of six consecutive primes: $$41 = 2 + 3 + 5 + 7 + 11 + 13.$$\n",
    "    <p>This is the longest sum of consecutive primes that adds to a prime below one-hundred.</p>\n",
    "    <p>The longest sum of consecutive primes below one-thousand that adds to a prime, contains $21$ terms, and is equal to $953$.</p>\n",
    "    <p>Which prime, below one-million, can be written as the sum of the most consecutive primes?</p>\n"
   ]
  },
  {
   "cell_type": "code",
   "execution_count": 1,
   "metadata": {
    "execution": {
     "iopub.execute_input": "2025-04-01T20:30:02.495074Z",
     "iopub.status.busy": "2025-04-01T20:30:02.494753Z",
     "iopub.status.idle": "2025-04-01T20:30:05.688395Z",
     "shell.execute_reply": "2025-04-01T20:30:05.687728Z"
    }
   },
   "outputs": [
    {
     "name": "stdout",
     "output_type": "stream",
     "text": [
      "997651\n"
     ]
    }
   ],
   "source": [
    "def sieve(n):\n",
    "    is_prime = [True] * (n + 1)\n",
    "    is_prime[0:2] = [False, False]\n",
    "    \n",
    "    for current in range(2, int(n**0.5) + 1):\n",
    "        if is_prime[current]:\n",
    "            is_prime[current*current:n+1:current] = [False] * len(range(current*current, n+1, current))\n",
    "    \n",
    "    primes = [num for num, prime in enumerate(is_prime) if prime]\n",
    "    return primes\n",
    "\n",
    "primes = sieve(10**6)\n",
    "\n",
    "best_start, best_length = 0, 0\n",
    "start = 0\n",
    "\n",
    "while start < len(primes):\n",
    "    for length in range(best_length + 1, len(primes) - start):\n",
    "        s = sum(primes[start + k] for k in range(length))\n",
    "        if s >= 10**6:\n",
    "            break\n",
    "        if s in primes:\n",
    "            best_start, best_length = start, length\n",
    "    start += 1\n",
    "\n",
    "print(sum(primes[best_start + k] for k in range(best_length)))"
   ]
  }
 ],
 "metadata": {
  "kernelspec": {
   "display_name": "Python 3",
   "language": "python",
   "name": "python3"
  },
  "language_info": {
   "codemirror_mode": {
    "name": "ipython",
    "version": 3
   },
   "file_extension": ".py",
   "mimetype": "text/x-python",
   "name": "python",
   "nbconvert_exporter": "python",
   "pygments_lexer": "ipython3",
   "version": "3.12.3"
  }
 },
 "nbformat": 4,
 "nbformat_minor": 2
}
