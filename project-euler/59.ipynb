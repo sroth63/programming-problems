{
 "cells": [
  {
   "cell_type": "markdown",
   "metadata": {},
   "source": [
    "## 59 - XOR Decryption\n",
    "> Each character on a computer is assigned a unique code and the preferred standard is ASCII (American Standard Code for Information Interchange). For example, uppercase A = 65, asterisk (*) = 42, and lowercase k = 107.\n",
    "    <p>A modern encryption method is to take a text file, convert the bytes to ASCII, then XOR each byte with a given value, taken from a secret key. The advantage with the XOR function is that using the same encryption key on the cipher text, restores the plain text; for example, 65 XOR 42 = 107, then 107 XOR 42 = 65.</p>\n",
    "    <p>For unbreakable encryption, the key is the same length as the plain text message, and the key is made up of random bytes. The user would keep the encrypted message and the encryption key in different locations, and without both \"halves\", it is impossible to decrypt the message.</p>\n",
    "    <p>Unfortunately, this method is impractical for most users, so the modified method is to use a password as a key. If the password is shorter than the message, which is likely, the key is repeated cyclically throughout the message. The balance for this method is using a sufficiently long password key for security, but short enough to be memorable.</p>\n",
    "    <p>Your task has been made easy, as the encryption key consists of three lower case characters. Using <a href=\"https://projecteuler.net/resources/documents/0059_cipher.txt\">0059_cipher.txt</a> (right click and 'Save Link/Target As...'), a file containing the encrypted ASCII codes, and the knowledge that the plain text must contain common English words, decrypt the message and find the sum of the ASCII values in the original text.</p>\n",
    "\n"
   ]
  },
  {
   "cell_type": "code",
   "execution_count": 1,
   "metadata": {
    "execution": {
     "iopub.execute_input": "2025-04-01T20:30:19.884956Z",
     "iopub.status.busy": "2025-04-01T20:30:19.884802Z",
     "iopub.status.idle": "2025-04-01T20:30:22.325416Z",
     "shell.execute_reply": "2025-04-01T20:30:22.324730Z"
    }
   },
   "outputs": [
    {
     "name": "stdout",
     "output_type": "stream",
     "text": [
      "An extract taken from the introduction of one of Euler's most celebrated papers, \"De summis serierum reciprocarum\" [On the sums of series of reciprocals]: I have recently found, quite unexpectedly, an elegant expression for the entire sum of this series 1 + 1/4 + 1/9 + 1/16 + etc., which depends on the quadrature of the circle, so that if the true sum of this series is obtained, from it at once the quadrature of the circle follows. Namely, I have found that the sum of this series is a sixth part of the square of the perimeter of the circle whose diameter is 1; or by putting the sum of this series equal to s, it has the ratio sqrt(6) multiplied by s to 1 of the perimeter to the diameter. I will soon show that the sum of this series to be approximately 1.644934066842264364; and from multiplying this number by six, and then taking the square root, the number 3.141592653589793238 is indeed produced, which expresses the perimeter of a circle whose diameter is 1. Following again the same steps by which I had arrived at this sum, I have discovered that the sum of the series 1 + 1/16 + 1/81 + 1/256 + 1/625 + etc. also depends on the quadrature of the circle. Namely, the sum of this multiplied by 90 gives the biquadrate (fourth power) of the circumference of the perimeter of a circle whose diameter is 1. And by similar reasoning I have likewise been able to determine the sums of the subsequent series in which the exponents are even numbers.\n",
      "129448\n"
     ]
    }
   ],
   "source": [
    "code = list(map(int, open(\"0059_cipher.txt\").read().split(\",\")))\n",
    "\n",
    "def xor(l1,l2):\n",
    "    assert len(l1)==len(l2)\n",
    "    return [l1[i]^l2[i] for i in range(len(l1))]\n",
    "\n",
    "def decode(password):\n",
    "    return xor(code,password*(len(code)//3))\n",
    "\n",
    "def decode_text(password):\n",
    "    d=decode(password)\n",
    "    s=\"\"\n",
    "    for i in range(len(d)):\n",
    "        s=s+chr(d[i])\n",
    "    if \"and\" in s and \"is\" in s and \"he\" in s and \"have\" in s:\n",
    "        return s\n",
    "    else:\n",
    "        return None\n",
    "\n",
    "for i in range(26):\n",
    "    for j in range(26):\n",
    "        for k in range(26):\n",
    "            dec = decode_text([ord('a')+i, ord('a')+j, ord('a')+k])\n",
    "            if not(dec is None):\n",
    "                print(sum(ord(c) for c in dec))"
   ]
  }
 ],
 "metadata": {
  "kernelspec": {
   "display_name": "Python 3",
   "language": "python",
   "name": "python3"
  },
  "language_info": {
   "codemirror_mode": {
    "name": "ipython",
    "version": 3
   },
   "file_extension": ".py",
   "mimetype": "text/x-python",
   "name": "python",
   "nbconvert_exporter": "python",
   "pygments_lexer": "ipython3",
   "version": "3.12.3"
  }
 },
 "nbformat": 4,
 "nbformat_minor": 2
}
