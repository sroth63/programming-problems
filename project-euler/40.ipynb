{
 "cells": [
  {
   "cell_type": "markdown",
   "metadata": {},
   "source": [
    "## 40 - Champernowne's Constant\n",
    "> An irrational decimal fraction is created by concatenating the positive integers: $$0.12345678910{\\color{red}\\mathbf 1}112131415161718192021\\cdots$$\n",
    "    <p>It can be seen that the $12$<sup>th</sup> digit of the fractional part is $1$.</p>\n",
    "    <p>If $d_n$ represents the $n$<sup>th</sup> digit of the fractional part, find the value of the following expression. $$d_1 \\times d_{10} \\times d_{100} \\times d_{1000} \\times d_{10000} \\times d_{100000} \\times d_{1000000}$$</p>\n"
   ]
  },
  {
   "cell_type": "code",
   "execution_count": 1,
   "metadata": {
    "execution": {
     "iopub.execute_input": "2025-04-01T20:28:59.150028Z",
     "iopub.status.busy": "2025-04-01T20:28:59.149572Z",
     "iopub.status.idle": "2025-04-01T20:29:16.071327Z",
     "shell.execute_reply": "2025-04-01T20:29:16.070562Z"
    }
   },
   "outputs": [
    {
     "name": "stdout",
     "output_type": "stream",
     "text": [
      "210\n"
     ]
    }
   ],
   "source": [
    "champ = \"\"\n",
    "i = 0\n",
    "while len(champ)<1000000:\n",
    "    i += 1\n",
    "    champ += str(i)\n",
    "print(int(champ[0]) * int(champ[9]) * int(champ[99]) * int(champ[999]) * int(champ[9999]) * int(champ[99999]) * int(champ[999999]))"
   ]
  }
 ],
 "metadata": {
  "kernelspec": {
   "display_name": "Python 3",
   "language": "python",
   "name": "python3"
  },
  "language_info": {
   "codemirror_mode": {
    "name": "ipython",
    "version": 3
   },
   "file_extension": ".py",
   "mimetype": "text/x-python",
   "name": "python",
   "nbconvert_exporter": "python",
   "pygments_lexer": "ipython3",
   "version": "3.12.3"
  }
 },
 "nbformat": 4,
 "nbformat_minor": 2
}
