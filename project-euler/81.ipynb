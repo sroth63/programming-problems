{
 "cells": [
  {
   "cell_type": "markdown",
   "metadata": {},
   "source": [
    "## 81 - Path Sum: Two Ways\n",
    "> In the $5$ by $5$ matrix below, the minimal path sum from the top left to the bottom right, by <b>only moving to the right and down</b>, is indicated in bold red and is equal to $2427$.$$\n",
    "    \\begin{pmatrix}\n",
    "    \\color{red}{131} & 673 & 234 & 103 & 18\\\\\n",
    "    \\color{red}{201} & \\color{red}{96} & \\color{red}{342} & 965 & 150\\\\\n",
    "    630 & 803 & \\color{red}{746} & \\color{red}{422} & 111\\\\\n",
    "    537 & 699 & 497 & \\color{red}{121} & 956\\\\\n",
    "    805 & 732 & 524 & \\color{red}{37} & \\color{red}{331}\n",
    "    \\end{pmatrix}$$\n",
    "    <p>Find the minimal path sum from the top left to the bottom right by only moving right and down in <a href=\"https://projecteuler.net/resources/documents/0081_matrix.txt\">matrix.txt</a> (right click and \"Save Link/Target As...\"), a 31K text file containing an $80$ by $80$ matrix.</p>\n",
    "\n",
    "I transformed the grid into a graph whose vertices are the numbers of the grid and whose edges correspond to the possible moves. Then I used Dijkstra's algorithm."
   ]
  },
  {
   "cell_type": "code",
   "execution_count": 1,
   "metadata": {},
   "outputs": [
    {
     "name": "stdout",
     "output_type": "stream",
     "text": [
      "427337\n"
     ]
    }
   ],
   "source": [
    "def dijkstra(G, source):\n",
    "    dist = {}\n",
    "    for u in G:\n",
    "        dist[u] = float('inf')\n",
    "    dist[source] = 0\n",
    "\n",
    "    non_visited = list(G.keys())\n",
    "\n",
    "    while non_visited:\n",
    "        u = non_visited[0]\n",
    "        for v in non_visited:\n",
    "            if dist[v] < dist[u]:\n",
    "                u = v\n",
    "\n",
    "        non_visited.remove(u)\n",
    "\n",
    "        for (v, weight) in G[u]:\n",
    "            alt = dist[u] + weight\n",
    "            if alt < dist[v]:\n",
    "                dist[v] = alt\n",
    "\n",
    "    return dist\n",
    "\n",
    "grid = [[int(n) for n in line.split(',')] for line in open(\"0081_matrix.txt\")]\n",
    "def graph(T):\n",
    "    n = len(T)\n",
    "    G = {}\n",
    "    for i in range(n):\n",
    "        for j in range(n):\n",
    "            G[(i,j)] = []\n",
    "            if i + 1 < n:\n",
    "                G[(i,j)].append(((i + 1, j), T[i+1][j]))\n",
    "            if j + 1 < n:\n",
    "                G[(i,j)].append(((i, j + 1), T[i][j+1]))\n",
    "    return G\n",
    "\n",
    "print(dijkstra(graph(grid), (0,0))[(79,79)] + grid[0][0])"
   ]
  }
 ],
 "metadata": {
  "kernelspec": {
   "display_name": "Python 3",
   "language": "python",
   "name": "python3"
  },
  "language_info": {
   "codemirror_mode": {
    "name": "ipython",
    "version": 3
   },
   "file_extension": ".py",
   "mimetype": "text/x-python",
   "name": "python",
   "nbconvert_exporter": "python",
   "pygments_lexer": "ipython3",
   "version": "3.12.3"
  }
 },
 "nbformat": 4,
 "nbformat_minor": 2
}
