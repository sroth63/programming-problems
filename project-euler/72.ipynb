{
 "cells": [
  {
   "cell_type": "markdown",
   "metadata": {},
   "source": [
    "## 72 - Counting Fractions\n",
    "> Consider the fraction, $\\dfrac n d$, where $n$ and $d$ are positive integers. If $n \\lt d$ and $\\operatorname{HCF}(n,d)=1$, it is called a reduced proper fraction.\n",
    "    <p>If we list the set of reduced proper fractions for $d \\le 8$ in ascending order of size, we get:$$\\frac 1 8, \\frac 1 7, \\frac 1 6, \\frac 1 5, \\frac 1 4, \\frac 2 7, \\frac 1 3, \\frac 3 8, \\frac 2 5, \\frac 3 7, \\frac 1 2, \\frac 4 7, \\frac 3 5, \\frac 5 8, \\frac 2 3, \\frac 5 7, \\frac 3 4, \\frac 4 5, \\frac 5 6, \\frac 6 7, \\frac 7 8$$</p>\n",
    "    <p>It can be seen that there are $21$ elements in this set.</p>\n",
    "    <p>How many elements would be contained in the set of reduced proper fractions for $d \\le 1\\,000\\,000$?</p>\n",
    "\n",
    "We are looking for $\\sum_{d=2}^{10^6} \\phi(d)$, where $\\phi$ is Euler's totient function. To calculate the values of $\\phi$ efficiently, we use the formula $\\phi(d)=n\\prod_{p\\mid d}1-\\frac 1p$ and we use an adapted sieve of Eratosthenes."
   ]
  },
  {
   "cell_type": "code",
   "execution_count": 1,
   "metadata": {
    "execution": {
     "iopub.execute_input": "2025-04-01T20:31:17.064227Z",
     "iopub.status.busy": "2025-04-01T20:31:17.063829Z",
     "iopub.status.idle": "2025-04-01T20:31:17.969513Z",
     "shell.execute_reply": "2025-04-01T20:31:17.968856Z"
    }
   },
   "outputs": [
    {
     "name": "stdout",
     "output_type": "stream",
     "text": [
      "303963552391\n"
     ]
    }
   ],
   "source": [
    "limit = 10**6\n",
    "phi = [i for i in range(limit + 1)]\n",
    "\n",
    "for d in range(2, limit + 1):\n",
    "    if phi[d] == d:\n",
    "        for i in range(d, limit + 1, d):\n",
    "            phi[i] -= phi[i] // d\n",
    "\n",
    "print(sum(phi[2:]))"
   ]
  }
 ],
 "metadata": {
  "kernelspec": {
   "display_name": "Python 3",
   "language": "python",
   "name": "python3"
  },
  "language_info": {
   "codemirror_mode": {
    "name": "ipython",
    "version": 3
   },
   "file_extension": ".py",
   "mimetype": "text/x-python",
   "name": "python",
   "nbconvert_exporter": "python",
   "pygments_lexer": "ipython3",
   "version": "3.12.3"
  }
 },
 "nbformat": 4,
 "nbformat_minor": 2
}
