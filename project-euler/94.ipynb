{
 "cells": [
  {
   "cell_type": "markdown",
   "metadata": {},
   "source": [
    "## 94 - Almost Equilateral Triangles\n",
    "> It is easily proved that no equilateral triangle exists with integral length sides and integral area. However, the <dfn>almost equilateral triangle</dfn> $5$-$5$-$6$ has an area of $12$ square units.\n",
    "    <p>We shall define an <dfn>almost equilateral triangle</dfn> to be a triangle for which two sides are equal and the third differs by no more than one unit.</p>\n",
    "    <p>Find the sum of the perimeters of all <dfn>almost equilateral triangles</dfn> with integral side lengths and area and whose perimeters do not exceed one billion ($1\\,000\\,000\\,000$).</p>"
   ]
  },
  {
   "cell_type": "code",
   "execution_count": 1,
   "metadata": {},
   "outputs": [
    {
     "name": "stdout",
     "output_type": "stream",
     "text": [
      "518408346\n"
     ]
    }
   ],
   "source": [
    "def is_perfect_square(n):\n",
    "    \"\"\"\n",
    "    Determine whether n is a perfect square using binary search.\n",
    "    \"\"\"\n",
    "    left, right = 0, n\n",
    "    while left <= right:\n",
    "        mid = (left + right) // 2\n",
    "        square = mid * mid\n",
    "        if square == n:\n",
    "            return True\n",
    "        elif square < n:\n",
    "            left = mid + 1\n",
    "        else:\n",
    "            right = mid - 1\n",
    "    return False\n",
    "\n",
    "\n",
    "def process_formula(k_start, a_func, p_func, s2_func, limit=10**9):\n",
    "    \"\"\"\n",
    "    Process a sequence defined by functions of k until p exceeds the limit.\n",
    "    \n",
    "    For each integer k starting at k_start, compute:\n",
    "      - a = a_func(k)\n",
    "      - p = p_func(a)\n",
    "      - S2 = s2_func(p, a)\n",
    "      \n",
    "    If p <= limit and S2 is a perfect square, p is added to the results.\n",
    "    \"\"\"\n",
    "    results = []\n",
    "    k = k_start\n",
    "    while True:\n",
    "        a = a_func(k)\n",
    "        p = p_func(a)\n",
    "        if p > limit:\n",
    "            break\n",
    "        S2 = s2_func(p, a)\n",
    "        if is_perfect_square(S2):\n",
    "            results.append(p)\n",
    "        k += 1\n",
    "    return results\n",
    "\n",
    "LIMIT = 10**9\n",
    "\n",
    "# a = 2*k^2 + 1, p = 3*a + 1, S2 = (p*(a-1)*(a+1)^2)//16\n",
    "results1 = process_formula(\n",
    "    k_start=1,\n",
    "    a_func=lambda k: 2 * k**2 + 1,\n",
    "    p_func=lambda a: 3 * a + 1,\n",
    "    s2_func=lambda p, a: (p * (a - 1) * (a + 1)**2) // 16,\n",
    "    limit=LIMIT\n",
    ")\n",
    "\n",
    "# a = 4*k^2 + 1, p = 3*a + 1, S2 = (p*(a-1)*(a+1)^2)//16\n",
    "results2 = process_formula(\n",
    "    k_start=1,\n",
    "    a_func=lambda k: 4 * k**2 + 1,\n",
    "    p_func=lambda a: 3 * a + 1,\n",
    "    s2_func=lambda p, a: (p * (a - 1) * (a + 1)**2) // 16,\n",
    "    limit=LIMIT\n",
    ")\n",
    "\n",
    "# a = 2*k^2 - 1, p = 3*a - 1, S2 = (p*(a-1)^2*(a+1))//16\n",
    "results3 = process_formula(\n",
    "    k_start=2,\n",
    "    a_func=lambda k: 2 * k**2 - 1,\n",
    "    p_func=lambda a: 3 * a - 1,\n",
    "    s2_func=lambda p, a: (p * (a - 1)**2 * (a + 1)) // 16,\n",
    "    limit=LIMIT\n",
    ")\n",
    "\n",
    "# a = 4*k^2 - 1, p = 3*a - 1, S2 = (p*(a-1)^2*(a+1))//16\n",
    "results4 = process_formula(\n",
    "    k_start=1,\n",
    "    a_func=lambda k: 4 * k**2 - 1,\n",
    "    p_func=lambda a: 3 * a - 1,\n",
    "    s2_func=lambda p, a: (p * (a - 1)**2 * (a + 1)) // 16,\n",
    "    limit=LIMIT\n",
    ")\n",
    "\n",
    "all_results = results1 + results2 + results3 + results4\n",
    "\n",
    "print(sum(all_results))"
   ]
  }
 ],
 "metadata": {
  "kernelspec": {
   "display_name": "Python 3",
   "language": "python",
   "name": "python3"
  },
  "language_info": {
   "codemirror_mode": {
    "name": "ipython",
    "version": 3
   },
   "file_extension": ".py",
   "mimetype": "text/x-python",
   "name": "python",
   "nbconvert_exporter": "python",
   "pygments_lexer": "ipython3",
   "version": "3.12.3"
  }
 },
 "nbformat": 4,
 "nbformat_minor": 2
}
