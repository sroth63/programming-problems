{
 "cells": [
  {
   "cell_type": "markdown",
   "metadata": {},
   "source": [
    "## 60 - Prime Pair Sets\n",
    "> The primes $3$, $7$, $109$, and $673$, are quite remarkable. By taking any two primes and concatenating them in any order the result will always be prime. For example, taking $7$ and $109$, both $7109$ and $1097$ are prime. The sum of these four primes, $792$, represents the lowest sum for a set of four primes with this property.\n",
    "    <p>Find the lowest sum for a set of five primes for which any two primes concatenate to produce another prime.</p>\n",
    "\n",
    "I assumed there is a solution in which all primes are below $10^4$. I first generated all the pairs of primes which give two other primes by concatenating them in both orders. Then, I selected primes which are members of at least $4$ such pairs, and I tried all the possible concatenations to check if they are prime."
   ]
  },
  {
   "cell_type": "code",
   "execution_count": 1,
   "metadata": {
    "execution": {
     "iopub.execute_input": "2025-04-01T20:30:23.279352Z",
     "iopub.status.busy": "2025-04-01T20:30:23.278859Z",
     "iopub.status.idle": "2025-04-01T20:30:59.598827Z",
     "shell.execute_reply": "2025-04-01T20:30:59.597956Z"
    }
   },
   "outputs": [
    {
     "name": "stdout",
     "output_type": "stream",
     "text": [
      "26033\n"
     ]
    }
   ],
   "source": [
    "N = 10**4\n",
    "\n",
    "def conc(p1,p2):\n",
    "    return int(str(p1)+str(p2))\n",
    "\n",
    "def is_prime(n):\n",
    "    if n <= 1:\n",
    "      return False\n",
    "    for j in range(2, int(n**0.5)+1):\n",
    "        if n % j==0:\n",
    "            return False\n",
    "    return True\n",
    "\n",
    "def sieve(n):\n",
    "    is_prime = [True] * (n + 1)\n",
    "    is_prime[0:2] = [False, False]\n",
    "    \n",
    "    for current in range(2, int(n**0.5) + 1):\n",
    "        if is_prime[current]:\n",
    "            is_prime[current*current:n+1:current] = [False] * len(range(current*current, n+1, current))\n",
    "    \n",
    "    primes = [num for num, prime in enumerate(is_prime) if prime]\n",
    "    return primes\n",
    "\n",
    "primes = sieve(N)\n",
    "\n",
    "prime_pairs=set([])\n",
    "for i1 in range(len(primes)):\n",
    "    for i2 in range(i1):\n",
    "        p1,p2=primes[i1],primes[i2]\n",
    "        c1,c2=conc(p1,p2),conc(p2,p1)\n",
    "        if is_prime(c1) and is_prime(c2):\n",
    "            prime_pairs.add((p1,p2))\n",
    "\n",
    "dic={}\n",
    "for (p1,p2) in prime_pairs:\n",
    "    dic.setdefault(p1, []).append(p2)\n",
    "    dic.setdefault(p2, []).append(p1)\n",
    "\n",
    "quad=[] # list of quadruples of primes\n",
    "\n",
    "def test(a,b):\n",
    "    return (a,b) in prime_pairs or (b,a) in prime_pairs\n",
    "\n",
    "for p in dic:\n",
    "    l=dic[p]\n",
    "    if len(l)>=4:\n",
    "        for i1 in range(len(l)):\n",
    "            for i2 in range(i1):\n",
    "                for i3 in range(i2):\n",
    "                    p1,p2,p3=l[i1],l[i2],l[i3]\n",
    "                    if test(p1,p2) and test(p1,p3) and test(p2,p3):\n",
    "                        quad.append((p,p1,p2,p3))\n",
    "\n",
    "def find():\n",
    "    for (p1,p2,p3,p4) in quad:\n",
    "        for p in primes:\n",
    "            if test(p,p1) and test(p,p2) and test(p,p3) and test(p,p4):\n",
    "                return(p+p1+p2+p3+p4)\n",
    "            \n",
    "print(find())\n"
   ]
  }
 ],
 "metadata": {
  "kernelspec": {
   "display_name": "Python 3",
   "language": "python",
   "name": "python3"
  },
  "language_info": {
   "codemirror_mode": {
    "name": "ipython",
    "version": 3
   },
   "file_extension": ".py",
   "mimetype": "text/x-python",
   "name": "python",
   "nbconvert_exporter": "python",
   "pygments_lexer": "ipython3",
   "version": "3.12.3"
  }
 },
 "nbformat": 4,
 "nbformat_minor": 2
}
