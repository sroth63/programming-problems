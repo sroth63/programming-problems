{
 "cells": [
  {
   "cell_type": "markdown",
   "metadata": {},
   "source": [
    "## 53 - Combinatoric Selections\n",
    "> There are exactly ten ways of selecting three from five, 12345:\n",
    "    <p class=\"center\">123, 124, 125, 134, 135, 145, 234, 235, 245, and 345</p>\n",
    "    <p>In combinatorics, we use the notation, $\\displaystyle \\binom 5 3 = 10$.</p>\n",
    "    <p>In general, $\\displaystyle \\binom n r = \\dfrac{n!}{r!(n-r)!}$, where $r \\le n$, $n! = n \\times (n-1) \\times ... \\times 3 \\times 2 \\times 1$, and $0! = 1$.\n",
    "    </p>\n",
    "    <p>It is not until $n = 23$, that a value exceeds one-million: $\\displaystyle \\binom {23} {10} = 1144066$.</p>\n",
    "    <p>How many, not necessarily distinct, values of $\\displaystyle \\binom n r$ for $1 \\le n \\le 100$, are greater than one-million?</p>\n",
    "\n",
    "I just computed all possible values of $\\displaystyle\\binom n r$ using Pascal's triangle."
   ]
  },
  {
   "cell_type": "code",
   "execution_count": 1,
   "metadata": {
    "execution": {
     "iopub.execute_input": "2025-04-01T20:30:08.996334Z",
     "iopub.status.busy": "2025-04-01T20:30:08.995293Z",
     "iopub.status.idle": "2025-04-01T20:30:09.012220Z",
     "shell.execute_reply": "2025-04-01T20:30:09.010949Z"
    }
   },
   "outputs": [
    {
     "name": "stdout",
     "output_type": "stream",
     "text": [
      "4075\n"
     ]
    }
   ],
   "source": [
    "pascal = [[0 for _ in range(101)] for _ in range(101)]\n",
    "for n in range(101):\n",
    "    pascal[n][0]=1\n",
    "\n",
    "count = 0\n",
    "for n in range(1, 101):\n",
    "    for k in range(1, n+1):\n",
    "        pascal[n][k] = pascal[n-1][k-1] + pascal[n-1][k]\n",
    "        if pascal[n][k] > 10**6:\n",
    "            count += 1\n",
    "\n",
    "print(count)"
   ]
  }
 ],
 "metadata": {
  "kernelspec": {
   "display_name": "Python 3",
   "language": "python",
   "name": "python3"
  },
  "language_info": {
   "codemirror_mode": {
    "name": "ipython",
    "version": 3
   },
   "file_extension": ".py",
   "mimetype": "text/x-python",
   "name": "python",
   "nbconvert_exporter": "python",
   "pygments_lexer": "ipython3",
   "version": "3.12.3"
  }
 },
 "nbformat": 4,
 "nbformat_minor": 2
}
