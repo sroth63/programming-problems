{
 "cells": [
  {
   "cell_type": "markdown",
   "metadata": {},
   "source": [
    "## 52 - Permuted Multiples\n",
    "> It can be seen that the number, $125874$, and its double, $251748$, contain exactly the same digits, but in a different order.\n",
    "    <p>Find the smallest positive integer, $x$, such that $2x$, $3x$, $4x$, $5x$, and $6x$, contain the same digits.</p>\n",
    "\n"
   ]
  },
  {
   "cell_type": "code",
   "execution_count": 1,
   "metadata": {
    "execution": {
     "iopub.execute_input": "2025-04-01T20:30:07.803396Z",
     "iopub.status.busy": "2025-04-01T20:30:07.803075Z",
     "iopub.status.idle": "2025-04-01T20:30:07.914081Z",
     "shell.execute_reply": "2025-04-01T20:30:07.913692Z"
    }
   },
   "outputs": [
    {
     "name": "stdout",
     "output_type": "stream",
     "text": [
      "142857\n"
     ]
    }
   ],
   "source": [
    "def digit_list(n):\n",
    "    return sorted(list(str(n)))\n",
    "\n",
    "number_of_digits = 2\n",
    "no_solution_found = True\n",
    "while no_solution_found:\n",
    "    for j in range(0, 10**number_of_digits):\n",
    "        n = 10**number_of_digits+j\n",
    "        c = digit_list(n)\n",
    "        if all(c == digit_list(k*n) for k in range(2,7)):\n",
    "            print(n)\n",
    "            no_solution_found=False\n",
    "            break\n",
    "    number_of_digits+=1"
   ]
  }
 ],
 "metadata": {
  "kernelspec": {
   "display_name": "Python 3",
   "language": "python",
   "name": "python3"
  },
  "language_info": {
   "codemirror_mode": {
    "name": "ipython",
    "version": 3
   },
   "file_extension": ".py",
   "mimetype": "text/x-python",
   "name": "python",
   "nbconvert_exporter": "python",
   "pygments_lexer": "ipython3",
   "version": "3.12.3"
  }
 },
 "nbformat": 4,
 "nbformat_minor": 2
}
