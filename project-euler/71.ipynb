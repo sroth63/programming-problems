{
 "cells": [
  {
   "cell_type": "markdown",
   "metadata": {},
   "source": [
    "## 71 - Ordered Fractions\n",
    "> Consider the fraction, $\\dfrac n d$, where $n$ and $d$ are positive integers. If $n \\lt d$ and $\\operatorname{HCF}(n,d)=1$, it is called a reduced proper fraction.\n",
    "    <p>If we list the set of reduced proper fractions for $d \\le 8$ in ascending order of size, we get:$$\\frac 1 8, \\frac 1 7, \\frac 1 6, \\frac 1 5, \\frac 1 4, \\frac 2 7, \\frac 1 3, \\frac 3 8, \\mathbf{\\frac 2 5}, \\frac 3 7, \\frac 1 2, \\frac 4 7, \\frac 3 5, \\frac 5 8, \\frac 2 3, \\frac 5 7, \\frac 3 4, \\frac 4 5, \\frac 5 6, \\frac 6 7, \\frac 7 8$$</p>\n",
    "    <p>It can be seen that $\\dfrac 2 5$ is the fraction immediately to the left of $\\dfrac 3 7$.</p>\n",
    "    <p>By listing the set of reduced proper fractions for $d \\le 1\\,000\\,000$ in ascending order of size, find the numerator of the fraction immediately to the left of $\\dfrac 3 7$.</p>\n",
    "\n",
    "We have $\\frac nd < \\frac 37 \\iff 7 n \\le 3 d -1 \\iff n \\le \\frac{3 d-1}7$. So for a given denominator $d$, the best numerator $n$ is $\\lfloor (3 d-1)/7\\rfloor$."
   ]
  },
  {
   "cell_type": "code",
   "execution_count": 1,
   "metadata": {
    "execution": {
     "iopub.execute_input": "2025-04-01T20:31:15.371486Z",
     "iopub.status.busy": "2025-04-01T20:31:15.370568Z",
     "iopub.status.idle": "2025-04-01T20:31:16.167137Z",
     "shell.execute_reply": "2025-04-01T20:31:16.166412Z"
    }
   },
   "outputs": [
    {
     "name": "stdout",
     "output_type": "stream",
     "text": [
      "428570\n"
     ]
    }
   ],
   "source": [
    "def gcd(a, b):\n",
    "    while b:\n",
    "        a, b = b, a%b\n",
    "    return a\n",
    "\n",
    "best_n, best_d = 0, 1\n",
    "for d in range(2, 10**6):\n",
    "    n = (3 * d - 1) // 7\n",
    "    g = gcd(n, d)\n",
    "    n_red, d_red = n // g, d // g\n",
    "    if n_red * best_d > d_red * best_n:\n",
    "        best_n, best_d = n_red, d_red\n",
    "\n",
    "print(best_n)    "
   ]
  }
 ],
 "metadata": {
  "kernelspec": {
   "display_name": "Python 3",
   "language": "python",
   "name": "python3"
  },
  "language_info": {
   "codemirror_mode": {
    "name": "ipython",
    "version": 3
   },
   "file_extension": ".py",
   "mimetype": "text/x-python",
   "name": "python",
   "nbconvert_exporter": "python",
   "pygments_lexer": "ipython3",
   "version": "3.12.3"
  }
 },
 "nbformat": 4,
 "nbformat_minor": 2
}
