{
 "cells": [
  {
   "cell_type": "markdown",
   "metadata": {},
   "source": [
    "## 39 - Integer Right Triangles\n",
    "> If $p$ is the perimeter of a right angle triangle with integral length sides, $\\{a, b, c\\}$, there are exactly three solutions for $p = 120$.\n",
    "    <p>$\\{20,48,52\\}$, $\\{24,45,51\\}$, $\\{30,40,50\\}$</p>\n",
    "    <p>For which value of $p \\le 1000$, is the number of solutions maximised?</p>\n"
   ]
  },
  {
   "cell_type": "code",
   "execution_count": 1,
   "metadata": {
    "execution": {
     "iopub.execute_input": "2025-04-01T20:28:25.544915Z",
     "iopub.status.busy": "2025-04-01T20:28:25.544485Z",
     "iopub.status.idle": "2025-04-01T20:28:57.791199Z",
     "shell.execute_reply": "2025-04-01T20:28:57.790542Z"
    }
   },
   "outputs": [
    {
     "name": "stdout",
     "output_type": "stream",
     "text": [
      "840\n"
     ]
    }
   ],
   "source": [
    "nb_solutions = [0 for _ in range(1001)]\n",
    "for a in range(1,1000):\n",
    "    for b in range(1,1000):\n",
    "        for c in range(1, 1001 - a - b):\n",
    "            if a**2 + b**2 == c**2:\n",
    "                nb_solutions[a + b + c] += 1\n",
    "\n",
    "max = 0\n",
    "p = 0\n",
    "\n",
    "for i in range(1001):\n",
    "    if max < nb_solutions[i]:\n",
    "        max = nb_solutions[i]\n",
    "        p = i\n",
    "\n",
    "print(p)"
   ]
  }
 ],
 "metadata": {
  "kernelspec": {
   "display_name": "Python 3",
   "language": "python",
   "name": "python3"
  },
  "language_info": {
   "codemirror_mode": {
    "name": "ipython",
    "version": 3
   },
   "file_extension": ".py",
   "mimetype": "text/x-python",
   "name": "python",
   "nbconvert_exporter": "python",
   "pygments_lexer": "ipython3",
   "version": "3.12.3"
  }
 },
 "nbformat": 4,
 "nbformat_minor": 2
}
