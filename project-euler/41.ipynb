{
 "cells": [
  {
   "cell_type": "markdown",
   "metadata": {},
   "source": [
    "## 41 - Pandigital Prime\n",
    "> We shall say that an $n$-digit number is pandigital if it makes use of all the digits $1$ to $n$ exactly once. For example, $2143$ is a $4$-digit pandigital and is also prime.\n",
    "    <p>What is the largest $n$-digit pandigital prime that exists?</p>\n",
    "\n",
    "A pandigital prime has at most $7$ digits. Indeed, a pandigital number has at most $9$ digits, and a pandigital number that has $8$ or $9$ digits is divisible by $3$ (because the sum of its digits is divisible by $3$)."
   ]
  },
  {
   "cell_type": "code",
   "execution_count": 1,
   "metadata": {
    "execution": {
     "iopub.execute_input": "2025-04-01T20:29:17.212844Z",
     "iopub.status.busy": "2025-04-01T20:29:17.212322Z",
     "iopub.status.idle": "2025-04-01T20:29:29.889077Z",
     "shell.execute_reply": "2025-04-01T20:29:29.888556Z"
    }
   },
   "outputs": [
    {
     "name": "stdout",
     "output_type": "stream",
     "text": [
      "7652413\n"
     ]
    }
   ],
   "source": [
    "def is_pandigital(n):\n",
    "    return sorted(str(n)) == [str(i) for i in range(1,len(str(n))+1)]\n",
    "\n",
    "def is_prime(n):\n",
    "    if n <= 1:\n",
    "        return False\n",
    "    for i in range(2,int(n**0.5)+1):\n",
    "        if n % i == 0:\n",
    "            return False\n",
    "    return True\n",
    "\n",
    "biggest_pandigital_prime = 0\n",
    "\n",
    "for i in range(1, 10**7):\n",
    "    if is_pandigital(i) and is_prime(i):\n",
    "        biggest_pandigital_prime = i\n",
    "\n",
    "print(biggest_pandigital_prime)"
   ]
  }
 ],
 "metadata": {
  "kernelspec": {
   "display_name": "Python 3",
   "language": "python",
   "name": "python3"
  },
  "language_info": {
   "codemirror_mode": {
    "name": "ipython",
    "version": 3
   },
   "file_extension": ".py",
   "mimetype": "text/x-python",
   "name": "python",
   "nbconvert_exporter": "python",
   "pygments_lexer": "ipython3",
   "version": "3.12.3"
  }
 },
 "nbformat": 4,
 "nbformat_minor": 2
}
