{
 "cells": [
  {
   "cell_type": "markdown",
   "metadata": {},
   "source": [
    "## 96 - Su Doku\n",
    "> Su Doku (Japanese meaning <i>number place</i>) is the name given to a popular puzzle concept. Its origin is unclear, but credit must be attributed to Leonhard Euler who invented a similar, and much more difficult, puzzle idea called Latin Squares. The objective of Su Doku puzzles, however, is to replace the blanks (or zeros) in a 9 by 9 grid in such that each row, column, and 3 by 3 box contains each of the digits 1 to 9. Below is an example of a typical starting puzzle grid and its solution grid.\n",
    "    <div class=\"center\">\n",
    "    <img src=\"https://projecteuler.net/project/images/p096_1.png\" alt=\"p096_1.png\" />     <img src=\"https://projecteuler.net/project/images/p096_2.png\" alt=\"p096_2.png\" /></div>\n",
    "    <p>A well constructed Su Doku puzzle has a unique solution and can be solved by logic, although it may be necessary to employ \"guess and test\" methods in order to eliminate options (there is much contested opinion over this). The complexity of the search determines the difficulty of the puzzle; the example above is considered <i>easy</i> because it can be solved by straight forward direct deduction.</p>\n",
    "    <p>The 6K text file, <a href=\"https://projecteuler.net/project/resources/p096_sudoku.txt\">sudoku.txt</a> (right click and 'Save Link/Target As...'), contains fifty different Su Doku puzzles ranging in difficulty, but all with unique solutions (the first puzzle in the file is the example above).</p>\n",
    "    <p>By solving all fifty puzzles find the sum of the 3-digit numbers found in the top left corner of each solution grid; for example, 483 is the 3-digit number found in the top left corner of the solution grid above.</p>\n",
    "\n",
    "I used a standard backtracking method."
   ]
  },
  {
   "cell_type": "code",
   "execution_count": 1,
   "metadata": {},
   "outputs": [
    {
     "name": "stdout",
     "output_type": "stream",
     "text": [
      "24702\n"
     ]
    }
   ],
   "source": [
    "def is_possible(grid, row, col, num):\n",
    "    \"\"\"Check whether placing num at grid[row][col] is valid.\"\"\"\n",
    "    # Check the row and column.\n",
    "    for k in range(9):\n",
    "        if grid[row][k] == num or grid[k][col] == num:\n",
    "            return False\n",
    "\n",
    "    # Determine top-left corner of the 3x3 sub-grid.\n",
    "    start_row, start_col = 3 * (row // 3), 3 * (col // 3)\n",
    "    for i in range(3):\n",
    "        for j in range(3):\n",
    "            if grid[start_row + i][start_col + j] == num:\n",
    "                return False\n",
    "\n",
    "    return True\n",
    "\n",
    "\n",
    "def solve_sudoku(grid):\n",
    "    \"\"\"Returns True if the grid is solved; the grid is modified in-place.\"\"\"\n",
    "    for i in range(9):\n",
    "        for j in range(9):\n",
    "            if grid[i][j] == 0:  # Empty cell found.\n",
    "                for num in range(1, 10):\n",
    "                    if is_possible(grid, i, j, num):\n",
    "                        grid[i][j] = num\n",
    "                        if solve_sudoku(grid):\n",
    "                            return True\n",
    "                        grid[i][j] = 0  # Backtrack\n",
    "                return False  # Trigger backtracking if no number fits.\n",
    "    return True  # All cells are filled; puzzle solved.\n",
    "\n",
    "\n",
    "def read_sudoku_puzzles(filename):\n",
    "    puzzles = []\n",
    "    with open(filename, 'r') as f:\n",
    "        lines = f.read().splitlines()\n",
    "\n",
    "    # Each puzzle occupies 10 lines (1 header + 9 puzzle lines).\n",
    "    num_puzzles = len(lines) // 10\n",
    "    for i in range(num_puzzles):\n",
    "        puzzle = []\n",
    "        # Skip header line and parse each of the next 9 lines.\n",
    "        for line in lines[i * 10 + 1 : i * 10 + 10]:\n",
    "            row = [int(ch) for ch in line]\n",
    "            puzzle.append(row)\n",
    "        puzzles.append(puzzle)\n",
    "    return puzzles\n",
    "\n",
    "puzzles = read_sudoku_puzzles(\"p096_sudoku.txt\")\n",
    "total_sum = 0\n",
    "\n",
    "for puzzle in puzzles:\n",
    "    grid = [row[:] for row in puzzle]\n",
    "    if solve_sudoku(grid):\n",
    "        # Compute the three-digit number from the top-left corner.\n",
    "        first_three = grid[0][0] * 100 + grid[0][1] * 10 + grid[0][2]\n",
    "        total_sum += first_three\n",
    "    else:\n",
    "        print(\"No solution found for one puzzle.\")\n",
    "\n",
    "print(total_sum)"
   ]
  }
 ],
 "metadata": {
  "kernelspec": {
   "display_name": "Python 3",
   "language": "python",
   "name": "python3"
  },
  "language_info": {
   "codemirror_mode": {
    "name": "ipython",
    "version": 3
   },
   "file_extension": ".py",
   "mimetype": "text/x-python",
   "name": "python",
   "nbconvert_exporter": "python",
   "pygments_lexer": "ipython3",
   "version": "3.12.3"
  }
 },
 "nbformat": 4,
 "nbformat_minor": 2
}
