{
 "cells": [
  {
   "cell_type": "markdown",
   "metadata": {},
   "source": [
    "## 7 - 10001st Prime\n",
    "> By listing the first six prime numbers: $2, 3, 5, 7, 11$, and $13$, we can see that the $6$ th prime is $13$.\\\n",
    "  What is the $10\\,001$ st prime number?"
   ]
  },
  {
   "cell_type": "code",
   "execution_count": 1,
   "metadata": {
    "execution": {
     "iopub.execute_input": "2025-04-01T20:27:07.336173Z",
     "iopub.status.busy": "2025-04-01T20:27:07.335919Z",
     "iopub.status.idle": "2025-04-01T20:27:07.548157Z",
     "shell.execute_reply": "2025-04-01T20:27:07.547444Z"
    }
   },
   "outputs": [
    {
     "name": "stdout",
     "output_type": "stream",
     "text": [
      "104743\n"
     ]
    }
   ],
   "source": [
    "def is_prime(n):\n",
    "    assert n >= 2\n",
    "    for i in range(2, int(n**0.5) + 1):\n",
    "        if n % i == 0:\n",
    "            return False\n",
    "    return True\n",
    "    \n",
    "prime_count = 0\n",
    "n = 2\n",
    "while prime_count <= 10**4:\n",
    "    if is_prime(n):\n",
    "        prime_count += 1\n",
    "    n += 1\n",
    "print(n - 1)"
   ]
  }
 ],
 "metadata": {
  "kernelspec": {
   "display_name": "Python 3",
   "language": "python",
   "name": "python3"
  },
  "language_info": {
   "codemirror_mode": {
    "name": "ipython",
    "version": 3
   },
   "file_extension": ".py",
   "mimetype": "text/x-python",
   "name": "python",
   "nbconvert_exporter": "python",
   "pygments_lexer": "ipython3",
   "version": "3.12.3"
  }
 },
 "nbformat": 4,
 "nbformat_minor": 2
}
