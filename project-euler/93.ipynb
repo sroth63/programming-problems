{
 "cells": [
  {
   "cell_type": "markdown",
   "metadata": {},
   "source": [
    "## 93 - Arithmetic Expressions\n",
    "> By using each of the digits from the set, $\\{1, 2, 3, 4\\}$, exactly once, and making use of the four arithmetic operations ($+, -, \\times, /$) and brackets/parentheses, it is possible to form different positive integer targets.\n",
    "    <p>For example,</p>$$\\begin{align}\n",
    "    8 &= (4 \\times (1 + 3)) / 2\\\\\n",
    "    14 &= 4 \\times (3 + 1 / 2)\\\\\n",
    "    19 &= 4 \\times (2 + 3) - 1\\\\\n",
    "    36 &= 3 \\times 4 \\times (2 + 1)\n",
    "    \\end{align}$$\n",
    "    <p>Note that concatenations of the digits, like $12 + 34$, are not allowed.</p>\n",
    "    <p>Using the set, $\\{1, 2, 3, 4\\}$, it is possible to obtain thirty-one different target numbers of which $36$ is the maximum, and each of the numbers $1$ to $28$ can be obtained before encountering the first non-expressible number.</p>\n",
    "    <p>Find the set of four distinct digits, $a \\lt b \\lt c \\lt d$, for which the longest set of consecutive positive integers, $1$ to $n$, can be obtained, giving your answer as a string: <i>abcd</i>.</p>\n",
    "\n",
    "Nothing too fancy, I simply recursively computed all the possible results."
   ]
  },
  {
   "cell_type": "code",
   "execution_count": 1,
   "metadata": {},
   "outputs": [
    {
     "name": "stdout",
     "output_type": "stream",
     "text": [
      "1258\n"
     ]
    }
   ],
   "source": [
    "def apply_operation(op, a, b):\n",
    "    if op == 0:\n",
    "        return a + b\n",
    "    elif op == 1:\n",
    "        return a - b\n",
    "    elif op == 2:\n",
    "        return a * b\n",
    "    elif op == 3:\n",
    "        if b != 0:\n",
    "            return a / b\n",
    "    return None\n",
    "\n",
    "\n",
    "def generate_results(numbers):\n",
    "    \"\"\"\n",
    "    Recursively compute all results obtainable by combining the numbers using\n",
    "    the four basic arithmetic operations.\n",
    "    \"\"\"\n",
    "    if len(numbers) == 1:\n",
    "        return numbers\n",
    "\n",
    "    results = []\n",
    "    # Try each operation and each possible splitting of the list.\n",
    "    for op in range(4):\n",
    "        for i in range(len(numbers)):\n",
    "            remaining = numbers[:i] + numbers[i + 1 :]\n",
    "            sub_results = generate_results(remaining)\n",
    "            for value in sub_results:\n",
    "                # Evaluate both orders for non-commutative operations.\n",
    "                result1 = apply_operation(op, numbers[i], value)\n",
    "                if result1 is not None and result1 not in results:\n",
    "                    results.append(result1)\n",
    "                result2 = apply_operation(op, value, numbers[i])\n",
    "                if result2 is not None and result2 not in results:\n",
    "                    results.append(result2)\n",
    "    return results\n",
    "\n",
    "\n",
    "def consecutive_length(numbers):\n",
    "    \"\"\"\n",
    "    For a given list of numbers, determine the length of the consecutive positive integer\n",
    "    sequence starting at 1 that can be formed by some combination of operations on these numbers.\n",
    "    \"\"\"\n",
    "    # Generate all possible results from the numbers.\n",
    "    all_results = generate_results(numbers)\n",
    "    # Keep only positive integer results.\n",
    "    positive_ints = sorted(set(int(result) for result in all_results if result > 0 and result == int(result)))\n",
    "    \n",
    "    # Count how many consecutive integers starting at 1 are present.\n",
    "    n = 1\n",
    "    while n in positive_ints:\n",
    "        n += 1\n",
    "    return n - 1\n",
    "\n",
    "best_length = 0\n",
    "best_numbers = None\n",
    "\n",
    "# Iterate over all combinations of 4 distinct digits using the same limits as the original code.\n",
    "# a in 0..6, b in a+1..7, c in b+1..8, and d in c+1..9.\n",
    "for a in range(7):\n",
    "    for b in range(a + 1, 8):\n",
    "        for c in range(b + 1, 9):\n",
    "            for d in range(c + 1, 10):\n",
    "                current_length = consecutive_length([a, b, c, d])\n",
    "                if current_length > best_length:\n",
    "                    best_length = current_length\n",
    "                    best_numbers = (a, b, c, d)\n",
    "\n",
    "print(\"\".join(map(str,best_numbers)))  # Print combination when a new best is found\n"
   ]
  }
 ],
 "metadata": {
  "kernelspec": {
   "display_name": "Python 3",
   "language": "python",
   "name": "python3"
  },
  "language_info": {
   "codemirror_mode": {
    "name": "ipython",
    "version": 3
   },
   "file_extension": ".py",
   "mimetype": "text/x-python",
   "name": "python",
   "nbconvert_exporter": "python",
   "pygments_lexer": "ipython3",
   "version": "3.12.3"
  }
 },
 "nbformat": 4,
 "nbformat_minor": 2
}
