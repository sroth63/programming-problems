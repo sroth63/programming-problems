{
 "cells": [
  {
   "cell_type": "markdown",
   "metadata": {},
   "source": [
    "## 24 - Lexicographic Permutations\n",
    "> A permutation is an ordered arrangement of objects. For example, 3124 is one possible permutation of the digits 1, 2, 3 and 4. If all of the permutations are listed numerically or alphabetically, we call it lexicographic order. The lexicographic permutations of 0, 1 and 2 are:\\\n",
    "    <p class=\"center\">012   021   102   120   201   210</p>\n",
    "    <p>What is the millionth lexicographic permutation of the digits 0, 1, 2, 3, 4, 5, 6, 7, 8 and 9?</p>\n",
    "\n",
    "For convenience, we will number the permutations starting from $0$, so we are actually looking for the $10^6-1$-th permutation.\n",
    "\n",
    "The first $9! =362880$ permutations begin by a $0$, the next $9!$ begin by a $1$, and so on. So the millionth permutation begins by $\\left\\lfloor \\frac{10^6 -1}{9!} \\right\\rfloor=2$.\n",
    "\n",
    "Among the permutations that begin with a $2$, the first $8! =40320$ begin by $20$, the next $8 !$ begin by $21$, the next $8!$ begin by $23$, and so on (note that no permutation begins by $22$). This allows us to find the second digit of the permutation: more precisely, it is $\\left\\lfloor \\frac{10^6-1-2 \\times 9!}{8!} \\right\\rfloor+1=7$ (there is a $+1$ because no permutation starts by $22$).\n",
    "\n",
    "The program below implements this idea."
   ]
  },
  {
   "cell_type": "code",
   "execution_count": 1,
   "metadata": {
    "execution": {
     "iopub.execute_input": "2025-04-01T20:27:42.551558Z",
     "iopub.status.busy": "2025-04-01T20:27:42.550998Z",
     "iopub.status.idle": "2025-04-01T20:27:42.561858Z",
     "shell.execute_reply": "2025-04-01T20:27:42.560612Z"
    }
   },
   "outputs": [
    {
     "name": "stdout",
     "output_type": "stream",
     "text": [
      "2783915460\n"
     ]
    }
   ],
   "source": [
    "def factorial(n):\n",
    "    if n == 0:\n",
    "        return 1\n",
    "    return n * factorial(n-1)\n",
    "\n",
    "perm = 0\n",
    "current = 0\n",
    "allowed_digits = [i for i in range(10)]\n",
    "\n",
    "for i in range(9,-1,-1):\n",
    "    q = int((10**6 - 1 - current)/factorial(i))\n",
    "    new_digit = allowed_digits[q]\n",
    "    allowed_digits.remove(new_digit)\n",
    "    perm = 10*perm + new_digit\n",
    "    current += q*factorial(i)\n",
    "\n",
    "print(perm)"
   ]
  }
 ],
 "metadata": {
  "kernelspec": {
   "display_name": "Python 3",
   "language": "python",
   "name": "python3"
  },
  "language_info": {
   "codemirror_mode": {
    "name": "ipython",
    "version": 3
   },
   "file_extension": ".py",
   "mimetype": "text/x-python",
   "name": "python",
   "nbconvert_exporter": "python",
   "pygments_lexer": "ipython3",
   "version": "3.12.3"
  }
 },
 "nbformat": 4,
 "nbformat_minor": 2
}
