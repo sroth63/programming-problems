{
 "cells": [
  {
   "cell_type": "markdown",
   "metadata": {},
   "source": [
    "## 49 - Prime Permutations\n",
    "> The arithmetic sequence, $1487, 4817, 8147$, in which each of the terms increases by $3330$, is unusual in two ways: (i) each of the three terms are prime, and, (ii) each of the $4$-digit numbers are permutations of one another.\n",
    "    <p>There are no arithmetic sequences made up of three $1$-, $2$-, or $3$-digit primes, exhibiting this property, but there is one other $4$-digit increasing sequence.</p>\n",
    "    <p>What $12$-digit number do you form by concatenating the three terms in this sequence?</p>\n",
    "\n"
   ]
  },
  {
   "cell_type": "code",
   "execution_count": 1,
   "metadata": {
    "execution": {
     "iopub.execute_input": "2025-04-01T20:29:57.229015Z",
     "iopub.status.busy": "2025-04-01T20:29:57.228615Z",
     "iopub.status.idle": "2025-04-01T20:30:01.146467Z",
     "shell.execute_reply": "2025-04-01T20:30:01.145750Z"
    }
   },
   "outputs": [
    {
     "name": "stdout",
     "output_type": "stream",
     "text": [
      "296962999629\n"
     ]
    }
   ],
   "source": [
    "def is_prime(n):\n",
    "    if n <= 1:\n",
    "        return False\n",
    "    for i in range(2, int(n**0.5) + 1):\n",
    "        if n % i == 0:\n",
    "            return False\n",
    "    return True\n",
    "\n",
    "def same_digits(n1, n2):\n",
    "    return sorted(str(n1)) == sorted(str(n2))\n",
    "\n",
    "for i in range(1001, 10000, 2):\n",
    "    k = 2\n",
    "    if is_prime(i):\n",
    "        while i + 2*k < 10000:\n",
    "            i1 = i+k\n",
    "            i2 = i+2*k\n",
    "            if is_prime(i1) and is_prime(i2) and same_digits(i,i1) and same_digits(i,i2) and i!=1487:\n",
    "                print(int(str(i)+str(i1)+str(i2)))\n",
    "            k += 1"
   ]
  }
 ],
 "metadata": {
  "kernelspec": {
   "display_name": "Python 3",
   "language": "python",
   "name": "python3"
  },
  "language_info": {
   "codemirror_mode": {
    "name": "ipython",
    "version": 3
   },
   "file_extension": ".py",
   "mimetype": "text/x-python",
   "name": "python",
   "nbconvert_exporter": "python",
   "pygments_lexer": "ipython3",
   "version": "3.12.3"
  }
 },
 "nbformat": 4,
 "nbformat_minor": 2
}
