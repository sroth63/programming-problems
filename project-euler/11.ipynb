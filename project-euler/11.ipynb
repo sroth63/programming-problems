{
 "cells": [
  {
   "cell_type": "markdown",
   "metadata": {},
   "source": [
    "## 11 - Largest Product in a Grid\n",
    "> In the $20 \\times 20$ grid below, four numbers along a diagonal line have been marked in bold.\\\n",
    "    08 02 22 97 38 15 00 40 00 75 04 05 07 78 52 12 50 77 91 08\\\n",
    "    49 49 99 40 17 81 18 57 60 87 17 40 98 43 69 48 04 56 62 00\\\n",
    "    81 49 31 73 55 79 14 29 93 71 40 67 53 88 30 03 49 13 36 65\\\n",
    "    52 70 95 23 04 60 11 42 69 24 68 56 01 32 56 71 37 02 36 91\\\n",
    "    22 31 16 71 51 67 63 89 41 92 36 54 22 40 40 28 66 33 13 80\\\n",
    "    24 47 32 60 99 03 45 02 44 75 33 53 78 36 84 20 35 17 12 50\\\n",
    "    32 98 81 28 64 23 67 10 <span class=\"red\"><b>26</b></span> 38 40 67 59 54 70 66 18 38 64 70\\\n",
    "    67 26 20 68 02 62 12 20 95 <span class=\"red\"><b>63</b></span> 94 39 63 08 40 91 66 49 94 21\\\n",
    "    24 55 58 05 66 73 99 26 97 17 <span class=\"red\"><b>78</b></span> 78 96 83 14 88 34 89 63 72\\\n",
    "    21 36 23 09 75 00 76 44 20 45 35 <span class=\"red\"><b>14</b></span> 00 61 33 97 34 31 33 95\\\n",
    "    78 17 53 28 22 75 31 67 15 94 03 80 04 62 16 14 09 53 56 92\\\n",
    "    16 39 05 42 96 35 31 47 55 58 88 24 00 17 54 24 36 29 85 57\\\n",
    "    86 56 00 48 35 71 89 07 05 44 44 37 44 60 21 58 51 54 17 58\\\n",
    "    19 80 81 68 05 94 47 69 28 73 92 13 86 52 17 77 04 89 55 40\\\n",
    "    04 52 08 83 97 35 99 16 07 97 57 32 16 26 26 79 33 27 98 66\\\n",
    "    88 36 68 87 57 62 20 72 03 46 33 67 46 55 12 32 63 93 53 69\\\n",
    "    04 42 16 73 38 25 39 11 24 94 72 18 08 46 29 32 40 62 76 36\\\n",
    "    20 69 36 41 72 30 23 88 34 62 99 69 82 67 59 85 74 04 36 16\\\n",
    "    20 73 35 29 78 31 90 01 74 31 49 71 48 86 81 16 23 57 05 54\\\n",
    "    01 70 54 71 83 51 54 69 16 92 33 48 61 43 52 01 89 19 67 48\\\n",
    "  The product of these numbers is $26 \\times 63 \\times 78 \\times 14 = 1788696$.\\\n",
    "  What is the greatest product of four adjacent numbers in the same direction (up, down, left, right, or diagonally) in the $20 \\times 20$ grid?\n",
    "\n"
   ]
  },
  {
   "cell_type": "code",
   "execution_count": 1,
   "metadata": {
    "execution": {
     "iopub.execute_input": "2025-04-01T20:27:17.669046Z",
     "iopub.status.busy": "2025-04-01T20:27:17.668799Z",
     "iopub.status.idle": "2025-04-01T20:27:17.680957Z",
     "shell.execute_reply": "2025-04-01T20:27:17.679664Z"
    }
   },
   "outputs": [
    {
     "name": "stdout",
     "output_type": "stream",
     "text": [
      "70600674\n"
     ]
    }
   ],
   "source": [
    "grid = open(\"11.txt\").read().splitlines() #the file 11.txt contains the grid\n",
    "for i in range(20):\n",
    "    grid[i]=grid[i].split()\n",
    "    for j in range(20):\n",
    "            grid[i][j]=int(grid[i][j])\n",
    "\n",
    "max_prod = 0\n",
    "\n",
    "# horizontal products\n",
    "for i in range(20):\n",
    "    for j in range(16):\n",
    "        prod = grid[i][j] * grid[i][j+1] * grid[i][j+2] * grid[i][j+3]\n",
    "        if prod > max_prod:\n",
    "            max_prod = prod\n",
    "\n",
    "# vertical products\n",
    "for i in range(16):\n",
    "    for j in range(20):\n",
    "        prod = grid[i][j] * grid[i+1][j] * grid[i+2][j] * grid[i+3][j]\n",
    "        if prod > max_prod:\n",
    "            max_prod = prod\n",
    "\n",
    "# diagonal products (down left - up right)\n",
    "for i in range(16):\n",
    "    for j in range(16):\n",
    "        prod = grid[i][j] * grid[i+1][j+1] * grid[i+2][j+2] * grid[i+3][j+3]\n",
    "        if prod > max_prod:\n",
    "            max_prod = prod\n",
    "\n",
    "# diagonal products (up left - down right)\n",
    "for i in range(16):\n",
    "    for j in range(3,20):\n",
    "        prod = grid[i][j] * grid[i+1][j-1] * grid[i+2][j-2] * grid[i+3][j-3]\n",
    "        if prod > max_prod:\n",
    "            max_prod = prod\n",
    "\n",
    "print(max_prod)"
   ]
  }
 ],
 "metadata": {
  "kernelspec": {
   "display_name": "Python 3",
   "language": "python",
   "name": "python3"
  },
  "language_info": {
   "codemirror_mode": {
    "name": "ipython",
    "version": 3
   },
   "file_extension": ".py",
   "mimetype": "text/x-python",
   "name": "python",
   "nbconvert_exporter": "python",
   "pygments_lexer": "ipython3",
   "version": "3.12.3"
  }
 },
 "nbformat": 4,
 "nbformat_minor": 2
}
