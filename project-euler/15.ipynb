{
 "cells": [
  {
   "cell_type": "markdown",
   "metadata": {},
   "source": [
    "## 15 - Lattice Paths\n",
    "> Starting in the top left corner of a $2 \\times 2$ grid, and only being able to move to the right and down, there are exactly $6$ routes to the bottom right corner.\\\n",
    "  <img src=\"https://projecteuler.net/resources/images/0015.png?1678992052\" class=\"dark_img\" alt=\"\"> \\\n",
    "  How many such routes are there through a $20 \\times 20$ grid?\n",
    "\n",
    "The number of such paths in a $n \\times n$ grid is $\\binom{2 n}{n}=\\frac{(2n)!}{n!^2}$. Indeed, such a path contains $2 n$ horizontal or vertical segments, and choosing such a path is equivalent to choosing the $n$ horizontal segments among the $2 n$ segments."
   ]
  },
  {
   "cell_type": "code",
   "execution_count": 1,
   "metadata": {
    "execution": {
     "iopub.execute_input": "2025-04-01T20:27:29.147143Z",
     "iopub.status.busy": "2025-04-01T20:27:29.145878Z",
     "iopub.status.idle": "2025-04-01T20:27:29.154642Z",
     "shell.execute_reply": "2025-04-01T20:27:29.153573Z"
    }
   },
   "outputs": [
    {
     "name": "stdout",
     "output_type": "stream",
     "text": [
      "137846528820\n"
     ]
    }
   ],
   "source": [
    "def factorial(n):\n",
    "        if n==1:\n",
    "            return 1\n",
    "        return n*factorial(n-1)\n",
    "        \n",
    "print((factorial(40))//((factorial(20))**2))"
   ]
  }
 ],
 "metadata": {
  "kernelspec": {
   "display_name": "Python 3",
   "language": "python",
   "name": "python3"
  },
  "language_info": {
   "codemirror_mode": {
    "name": "ipython",
    "version": 3
   },
   "file_extension": ".py",
   "mimetype": "text/x-python",
   "name": "python",
   "nbconvert_exporter": "python",
   "pygments_lexer": "ipython3",
   "version": "3.12.3"
  }
 },
 "nbformat": 4,
 "nbformat_minor": 2
}
