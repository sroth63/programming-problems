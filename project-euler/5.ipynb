{
 "cells": [
  {
   "cell_type": "markdown",
   "metadata": {},
   "source": [
    "## 5 - Smallest Multiple\n",
    "> $2520$ is the smallest number that can be divided by each of the numbers from $1$ to $10$ without any remainder. \\\n",
    "  What is the smallest positive number that is evenly divisible (divisible with no remainder) by all of the numbers from $1$ to $20$?\n",
    "\n",
    "We have to compute $\\mathrm{lcm} (1,2,\\dots,20) = 2^4 \\times 3^2 \\times 5 \\times 7 \\times 11 \\times 13 \\times 17 \\times 19$.\n"
   ]
  },
  {
   "cell_type": "code",
   "execution_count": 1,
   "metadata": {
    "execution": {
     "iopub.execute_input": "2025-04-01T20:27:04.659818Z",
     "iopub.status.busy": "2025-04-01T20:27:04.659379Z",
     "iopub.status.idle": "2025-04-01T20:27:04.666728Z",
     "shell.execute_reply": "2025-04-01T20:27:04.665832Z"
    }
   },
   "outputs": [
    {
     "name": "stdout",
     "output_type": "stream",
     "text": [
      "232792560\n"
     ]
    }
   ],
   "source": [
    "print(2**4*3**2*5*7*11*13*17*19)"
   ]
  }
 ],
 "metadata": {
  "kernelspec": {
   "display_name": "Python 3",
   "language": "python",
   "name": "python3"
  },
  "language_info": {
   "codemirror_mode": {
    "name": "ipython",
    "version": 3
   },
   "file_extension": ".py",
   "mimetype": "text/x-python",
   "name": "python",
   "nbconvert_exporter": "python",
   "pygments_lexer": "ipython3",
   "version": "3.12.3"
  }
 },
 "nbformat": 4,
 "nbformat_minor": 2
}
