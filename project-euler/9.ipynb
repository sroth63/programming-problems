{
 "cells": [
  {
   "cell_type": "markdown",
   "metadata": {},
   "source": [
    "## 9 - Special Pythagorean Triplet\n",
    "> A Pythagorean triplet is a set of three natural numbers, $a \\lt b \\lt c$, for which, $$a^2 + b^2 = c^2.$$\n",
    "  For example, $3^2 + 4^2 = 9 + 16 = 25 = 5^2$.\\\n",
    "  There exists exactly one Pythagorean triplet for which $a + b + c = 1000$.\\\n",
    "  Find the product $abc$.\n",
    "\n"
   ]
  },
  {
   "cell_type": "code",
   "execution_count": 1,
   "metadata": {
    "execution": {
     "iopub.execute_input": "2025-04-01T20:27:10.190264Z",
     "iopub.status.busy": "2025-04-01T20:27:10.189637Z",
     "iopub.status.idle": "2025-04-01T20:27:10.427153Z",
     "shell.execute_reply": "2025-04-01T20:27:10.426176Z"
    }
   },
   "outputs": [
    {
     "name": "stdout",
     "output_type": "stream",
     "text": [
      "31875000\n"
     ]
    }
   ],
   "source": [
    "for a in range(1, 1000):\n",
    "    for b in range(a, 1000):\n",
    "        c = 1000 - a - b\n",
    "        if a**2 + b**2 == c**2:\n",
    "            print(a * b * c)"
   ]
  }
 ],
 "metadata": {
  "kernelspec": {
   "display_name": "Python 3",
   "language": "python",
   "name": "python3"
  },
  "language_info": {
   "codemirror_mode": {
    "name": "ipython",
    "version": 3
   },
   "file_extension": ".py",
   "mimetype": "text/x-python",
   "name": "python",
   "nbconvert_exporter": "python",
   "pygments_lexer": "ipython3",
   "version": "3.12.3"
  }
 },
 "nbformat": 4,
 "nbformat_minor": 2
}
