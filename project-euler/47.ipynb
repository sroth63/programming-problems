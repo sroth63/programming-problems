{
 "cells": [
  {
   "cell_type": "markdown",
   "metadata": {},
   "source": [
    "## 47 - Distinct Primes Factors\n",
    "> The first two consecutive numbers to have two distinct prime factors are: $$\\begin{align}\n",
    "    14 &= 2 \\times 7\\\\\n",
    "    15 &= 3 \\times 5.\n",
    "    \\end{align}$$\n",
    "    <p>The first three consecutive numbers to have three distinct prime factors are:</p> $$\\begin{align}\n",
    "    644 &= 2^2 \\times 7 \\times 23\\\\\n",
    "    645 &= 3 \\times 5 \\times 43\\\\\n",
    "    646 &= 2 \\times 17 \\times 19.\n",
    "    \\end{align}$$\n",
    "    <p>Find the first four consecutive integers to have four distinct prime factors each. What is the first of these numbers?</p>\n",
    "\n",
    "I used a modified version of the sieve of Eratosthenes which counts the number of factors of each integer."
   ]
  },
  {
   "cell_type": "code",
   "execution_count": 1,
   "metadata": {
    "execution": {
     "iopub.execute_input": "2025-04-01T20:29:54.161900Z",
     "iopub.status.busy": "2025-04-01T20:29:54.161424Z",
     "iopub.status.idle": "2025-04-01T20:29:54.656084Z",
     "shell.execute_reply": "2025-04-01T20:29:54.655441Z"
    }
   },
   "outputs": [
    {
     "name": "stdout",
     "output_type": "stream",
     "text": [
      "134043\n"
     ]
    }
   ],
   "source": [
    "def sieve(limit):\n",
    "    nb_factors = [0 for _ in range(limit + 1)]\n",
    "    for i in range(2, limit + 1):\n",
    "        if nb_factors[i] == 0: # i is prime\n",
    "            for j in range(i, limit + 1, i):\n",
    "                nb_factors[j] += 1\n",
    "    return nb_factors\n",
    "\n",
    "limit = 10000\n",
    "found = False\n",
    "while not(found):\n",
    "    nb_factors = sieve(limit)\n",
    "    for i in range(2, limit - 2):\n",
    "        if all(nb_factors[i+j]==4 for j in range(4)):\n",
    "            print(i)\n",
    "            found = True\n",
    "            break\n",
    "    limit *= 10"
   ]
  }
 ],
 "metadata": {
  "kernelspec": {
   "display_name": "Python 3",
   "language": "python",
   "name": "python3"
  },
  "language_info": {
   "codemirror_mode": {
    "name": "ipython",
    "version": 3
   },
   "file_extension": ".py",
   "mimetype": "text/x-python",
   "name": "python",
   "nbconvert_exporter": "python",
   "pygments_lexer": "ipython3",
   "version": "3.12.3"
  }
 },
 "nbformat": 4,
 "nbformat_minor": 2
}
