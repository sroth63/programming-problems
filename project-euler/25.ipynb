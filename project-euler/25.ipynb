{
 "cells": [
  {
   "cell_type": "markdown",
   "metadata": {},
   "source": [
    "## 25 - $1000$-digit Fibonacci Number\n",
    "> The Fibonacci sequence is defined by the recurrence relation:\\\n",
    "    $F_n = F_{n - 1} + F_{n - 2}$, where $F_1 = 1$ and $F_2 = 1$.\\\n",
    "    Hence the first $12$ terms will be: $$\\begin{align}\n",
    "    F_1 &= 1\\\\\n",
    "    F_2 &= 1\\\\\n",
    "    F_3 &= 2\\\\\n",
    "    F_4 &= 3\\\\\n",
    "    F_5 &= 5\\\\\n",
    "    F_6 &= 8\\\\\n",
    "    F_7 &= 13\\\\\n",
    "    F_8 &= 21\\\\\n",
    "    F_9 &= 34\\\\\n",
    "    F_{10} &= 55\\\\\n",
    "    F_{11} &= 89\\\\\n",
    "    F_{12} &= 144\n",
    "    \\end{align}$$\n",
    "    <p>The $12$ th term, $F_{12}$, is the first term to contain three digits.</p>\n",
    "    <p>What is the index of the first term in the Fibonacci sequence to contain $1000$ digits?</p>\n",
    "\n"
   ]
  },
  {
   "cell_type": "code",
   "execution_count": 1,
   "metadata": {
    "execution": {
     "iopub.execute_input": "2025-04-01T20:27:43.847026Z",
     "iopub.status.busy": "2025-04-01T20:27:43.846637Z",
     "iopub.status.idle": "2025-04-01T20:27:43.908693Z",
     "shell.execute_reply": "2025-04-01T20:27:43.907980Z"
    }
   },
   "outputs": [
    {
     "name": "stdout",
     "output_type": "stream",
     "text": [
      "4782\n"
     ]
    }
   ],
   "source": [
    "u = 1\n",
    "v = 1\n",
    "i = 2\n",
    "while len(str(v))<1000:\n",
    "    u, v = v, u + v\n",
    "    i += 1\n",
    "print(i)"
   ]
  }
 ],
 "metadata": {
  "kernelspec": {
   "display_name": "Python 3",
   "language": "python",
   "name": "python3"
  },
  "language_info": {
   "codemirror_mode": {
    "name": "ipython",
    "version": 3
   },
   "file_extension": ".py",
   "mimetype": "text/x-python",
   "name": "python",
   "nbconvert_exporter": "python",
   "pygments_lexer": "ipython3",
   "version": "3.12.3"
  }
 },
 "nbformat": 4,
 "nbformat_minor": 2
}
