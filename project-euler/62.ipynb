{
  "cells": [
    {
      "cell_type": "markdown",
      "metadata": {},
      "source": [
        "## 62 - Cubic Permutations\n",
        "> The cube, $41063625$ ($345^3$), can be permuted to produce two other cubes: $56623104$ ($384^3$) and $66430125$ ($405^3$). In fact, $41063625$ is the smallest cube which has exactly three permutations of its digits which are also cube.\n",
        "    <p>Find the smallest cube for which exactly five permutations of its digits are cube.</p>"
      ]
    },
    {
      "cell_type": "code",
      "execution_count": 1,
      "metadata": {},
      "outputs": [
        {
          "name": "stdout",
          "output_type": "stream",
          "text": [
            "127035954683\n"
          ]
        }
      ],
      "source": [
        "digits_of_cubes = []\n",
        "for i in range(10000):\n",
        "    digits_of_cubes.append((sorted(str(i**3)),i))\n",
        "\n",
        "digits_of_cubes.sort()\n",
        "\n",
        "candidates = []\n",
        "\n",
        "for i in range(len(digits_of_cubes)-4):\n",
        "    if all(digits_of_cubes[i][0] == digits_of_cubes[j][0] for j in range(i+1,i+5)):\n",
        "        candidates.append(digits_of_cubes[i][1])\n",
        "\n",
        "print(min(candidates)**3)"
      ]
    }
  ],
  "metadata": {
    "kernelspec": {
      "display_name": "Python 3",
      "language": "python",
      "name": "python3"
    },
    "language_info": {
      "codemirror_mode": {
        "name": "ipython",
        "version": 3
      },
      "file_extension": ".py",
      "mimetype": "text/x-python",
      "name": "python",
      "nbconvert_exporter": "python",
      "pygments_lexer": "ipython3",
      "version": "3.12.3"
    }
  },
  "nbformat": 4,
  "nbformat_minor": 2
}
