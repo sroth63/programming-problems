{
 "cells": [
  {
   "cell_type": "markdown",
   "metadata": {},
   "source": [
    "## 37 - Truncatable Primes\n",
    "> The number $3797$ has an interesting property. Being prime itself, it is possible to continuously remove digits from left to right, and remain prime at each stage: $3797$, $797$, $97$, and $7$. Similarly we can work from right to left: $3797$, $379$, $37$, and $3$.\n",
    "    <p>Find the sum of the only eleven primes that are both truncatable from left to right and right to left.</p>\n",
    "    <p>NOTE: $2$, $3$, $5$, and $7$ are not considered to be truncatable primes.</p>\n",
    "\n"
   ]
  },
  {
   "cell_type": "code",
   "execution_count": 1,
   "metadata": {
    "execution": {
     "iopub.execute_input": "2025-04-01T20:28:17.318433Z",
     "iopub.status.busy": "2025-04-01T20:28:17.318066Z",
     "iopub.status.idle": "2025-04-01T20:28:20.333112Z",
     "shell.execute_reply": "2025-04-01T20:28:20.331891Z"
    }
   },
   "outputs": [
    {
     "name": "stdout",
     "output_type": "stream",
     "text": [
      "748317\n"
     ]
    }
   ],
   "source": [
    "def is_prime(n):\n",
    "    if n <= 1:\n",
    "        return False\n",
    "    if n == 2:\n",
    "        return True\n",
    "    if n % 2 == 0:\n",
    "        return False\n",
    "    i = 3\n",
    "    while i**2 <= n:\n",
    "        if n % i == 0:\n",
    "            return False\n",
    "        i += 2\n",
    "    return True\n",
    "        \n",
    "\n",
    "def truncatable(n):\n",
    "    if n < 10:\n",
    "        return False\n",
    "    i = 10\n",
    "    while n > i:\n",
    "        if not(is_prime(n % i)):\n",
    "            return False\n",
    "        if not(is_prime(n // i)):\n",
    "            return False\n",
    "        i *= 10\n",
    "    return True\n",
    "\n",
    "s = 0\n",
    "n = 11\n",
    "count = 0\n",
    "\n",
    "while count < 11:\n",
    "    if is_prime(n) and truncatable(n):\n",
    "        s += n\n",
    "        count += 1\n",
    "    n += 2\n",
    "\n",
    "print(s)"
   ]
  }
 ],
 "metadata": {
  "kernelspec": {
   "display_name": "Python 3",
   "language": "python",
   "name": "python3"
  },
  "language_info": {
   "codemirror_mode": {
    "name": "ipython",
    "version": 3
   },
   "file_extension": ".py",
   "mimetype": "text/x-python",
   "name": "python",
   "nbconvert_exporter": "python",
   "pygments_lexer": "ipython3",
   "version": "3.12.3"
  }
 },
 "nbformat": 4,
 "nbformat_minor": 2
}
