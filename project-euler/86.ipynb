{
 "cells": [
  {
   "cell_type": "markdown",
   "metadata": {},
   "source": [
    "## 86 - Cuboid Route\n",
    "> A spider, S, sits in one corner of a cuboid room, measuring $6$ by $5$ by $3$, and a fly, F, sits in the opposite corner. By travelling on the surfaces of the room the shortest \"straight line\" distance from S to F is $10$ and the path is shown on the diagram.\n",
    "    <div class=\"center\">\n",
    "    <img src=\"https://projecteuler.net/resources/images/0086.png?1678992052\" class=\"dark_img\" alt=\"\"><br></div>\n",
    "    <p>However, there are up to three \"shortest\" path candidates for any given cuboid and the shortest route doesn't always have integer length.</p>\n",
    "    <p>It can be shown that there are exactly $2060$ distinct cuboids, ignoring rotations, with integer dimensions, up to a maximum size of $M$ by $M$ by $M$, for which the shortest route has integer length when $M = 100$. This is the least value of $M$ for which the number of solutions first exceeds two thousand; the number of solutions when $M = 99$ is $1975$.</p>\n",
    "    <p>Find the least value of $M$ such that the number of solutions first exceeds one million.</p>\n",
    "\n",
    "The \"shortest\" path candidates in a $a\\times b\\times c$ cuboid have lengths $\\sqrt{(a+b)^2+c^2}$, $\\sqrt{(a+c)^2+b^2}$ and $\\sqrt{a^2+(b+c)^2}$. As we ignore rotations, we can assume $a\\le b\\le c$, and in this case, the shortest path is $\\sqrt{(a+b)^2+c^2}$. Thus, if we write $d=a+b$, we are looking for the number of Pythagorean triples $(c,d,\\sqrt{c^2+d^2})$ with $1\\le c\\le M$ and $2\\le d\\le 2 c$.\n",
    "\n",
    "We can generate these triples with the well-known formula for the Pythagorean triples. Then, we have to count the number of ways to write $d=a+b$ with $1 \\le a\\le b \\le c\\le M$."
   ]
  },
  {
   "cell_type": "code",
   "execution_count": 1,
   "metadata": {},
   "outputs": [
    {
     "name": "stdout",
     "output_type": "stream",
     "text": [
      "1818\n"
     ]
    }
   ],
   "source": [
    "def nb_cd_solutions(c, d, M):\n",
    "    '''\n",
    "    Returns the number of ways to write d = a + b with 1 <= a <= b <= c <= M\n",
    "    '''\n",
    "    if d > 2 * c or d < 2 or c > M:\n",
    "        return 0\n",
    "    if d <= c + 1:\n",
    "        return d // 2\n",
    "    return d // 2 - d + c + 1\n",
    "\n",
    "def gcd(a, b):\n",
    "    while b:\n",
    "        a, b = b, a % b\n",
    "    return a\n",
    "\n",
    "def nb_solutions(M):\n",
    "    count = 0\n",
    "    for p in range(1, int(2*M**0.5) + 1):\n",
    "        for q in range(p%2 + 1, p, 2): # we want q < p of different parity\n",
    "            if gcd(p,q) == 1:\n",
    "                k = 1\n",
    "                while (c := k*(p**2-q**2)) <= 2*M and (d := 2*k*p*q) <= 2*M:\n",
    "                    k += 1\n",
    "                    count += nb_cd_solutions(c,d,M)\n",
    "                    count += nb_cd_solutions(d,c,M)\n",
    "    return count\n",
    "\n",
    "M = 1\n",
    "while nb_solutions(M) < 10**6:\n",
    "    M += 1\n",
    "print(M)"
   ]
  }
 ],
 "metadata": {
  "kernelspec": {
   "display_name": "Python 3",
   "language": "python",
   "name": "python3"
  },
  "language_info": {
   "codemirror_mode": {
    "name": "ipython",
    "version": 3
   },
   "file_extension": ".py",
   "mimetype": "text/x-python",
   "name": "python",
   "nbconvert_exporter": "python",
   "pygments_lexer": "ipython3",
   "version": "3.12.3"
  }
 },
 "nbformat": 4,
 "nbformat_minor": 2
}
