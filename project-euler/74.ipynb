{
 "cells": [
  {
   "cell_type": "markdown",
   "metadata": {},
   "source": [
    "## 74- Digit Factorial Chains\n",
    "> The number $145$ is well known for the property that the sum of the factorial of its digits is equal to $145$: $$1! + 4! + 5! = 1 + 24 + 120 = 145.$$</p>\n",
    "    <p>Perhaps less well known is $169$, in that it produces the longest chain of numbers that link back to $169$; it turns out that there are only three such loops that exist:</p>$$\\begin{align}\n",
    "    &169 \\to 363601 \\to 1454 \\to 169\\\\\n",
    "    &871 \\to 45361 \\to 871\\\\\n",
    "    &872 \\to 45362 \\to 872\n",
    "    \\end{align}$$\n",
    "    <p>It is not difficult to prove that EVERY starting number will eventually get stuck in a loop. For example,</p>$$\\begin{align}\n",
    "    &69 \\to 363600 \\to 1454 \\to 169 \\to 363601 (\\to 1454)\\\\\n",
    "    &78 \\to 45360 \\to 871 \\to 45361 (\\to 871)\\\\\n",
    "    &540 \\to 145 (\\to 145)\n",
    "    \\end{align}$$\n",
    "    <p>Starting with $69$ produces a chain of five non-repeating terms, but the longest non-repeating chain with a starting number below one million is sixty terms.</p>\n",
    "    <p>How many chains, with a starting number below one million, contain exactly sixty non-repeating terms?</p>"
   ]
  },
  {
   "cell_type": "code",
   "execution_count": 1,
   "metadata": {
    "execution": {
     "iopub.execute_input": "2025-04-01T20:31:25.413388Z",
     "iopub.status.busy": "2025-04-01T20:31:25.412983Z",
     "iopub.status.idle": "2025-04-01T20:31:28.201771Z",
     "shell.execute_reply": "2025-04-01T20:31:28.200846Z"
    }
   },
   "outputs": [
    {
     "name": "stdout",
     "output_type": "stream",
     "text": [
      "402\n"
     ]
    }
   ],
   "source": [
    "factorials = [1]\n",
    "for i in range(1, 10):\n",
    "    factorials.append(factorials[-1] * i)\n",
    "\n",
    "def sum_factorial_digits(n):\n",
    "    return sum(factorials[int(digit)] for digit in str(n))\n",
    "\n",
    "count = 0\n",
    "l = dict()\n",
    "for i in range(1000001):\n",
    "    chain = [i]\n",
    "    l[i] = 1\n",
    "    while True:\n",
    "        t = sum_factorial_digits(chain[-1])\n",
    "        if t in chain:\n",
    "            break\n",
    "        elif t in l:\n",
    "            l[i] += l[t]\n",
    "            break\n",
    "        else:\n",
    "            chain.append(t)\n",
    "            l[i] += 1\n",
    "    if l[i] == 60:\n",
    "        count += 1\n",
    "\n",
    "print(count)"
   ]
  }
 ],
 "metadata": {
  "kernelspec": {
   "display_name": "Python 3",
   "language": "python",
   "name": "python3"
  },
  "language_info": {
   "codemirror_mode": {
    "name": "ipython",
    "version": 3
   },
   "file_extension": ".py",
   "mimetype": "text/x-python",
   "name": "python",
   "nbconvert_exporter": "python",
   "pygments_lexer": "ipython3",
   "version": "3.12.3"
  }
 },
 "nbformat": 4,
 "nbformat_minor": 2
}
