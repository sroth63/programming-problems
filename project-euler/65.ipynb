{
 "cells": [
  {
   "cell_type": "markdown",
   "metadata": {},
   "source": [
    "## 65 - Convergents of $e$\n",
    "> The square root of $2$ can be written as an infinite continued fraction.\n",
    "    <p>$\\sqrt{2} = 1 + \\dfrac{1}{2 + \\dfrac{1}{2 + \\dfrac{1}{2 + \\dfrac{1}{2 + ...}}}}$</p>\n",
    "    <p>The infinite continued fraction can be written, $\\sqrt{2} = [1; (2)]$, $(2)$ indicates that $2$ repeats <i>ad infinitum</i>. In a similar way, $\\sqrt{23} = [4; (1, 3, 1, 8)]$.</p>\n",
    "    <p>It turns out that the sequence of partial values of continued fractions for square roots provide the best rational approximations. Let us consider the convergents for $\\sqrt{2}$.</p>\n",
    "    <p>$\\begin{align}\n",
    "    &1 + \\dfrac{1}{2} = \\dfrac{3}{2} \\\\\n",
    "    &1 + \\dfrac{1}{2 + \\dfrac{1}{2}} = \\dfrac{7}{5}\\\\\n",
    "    &1 + \\dfrac{1}{2 + \\dfrac{1}{2 + \\dfrac{1}{2}}} = \\dfrac{17}{12}\\\\\n",
    "    &1 + \\dfrac{1}{2 + \\dfrac{1}{2 + \\dfrac{1}{2 + \\dfrac{1}{2}}}} = \\dfrac{41}{29}\n",
    "    \\end{align}$</p>\n",
    "    <p>Hence the sequence of the first ten convergents for $\\sqrt{2}$ are:</p>\n",
    "    <p>$1, \\dfrac{3}{2}, \\dfrac{7}{5}, \\dfrac{17}{12}, \\dfrac{41}{29}, \\dfrac{99}{70}, \\dfrac{239}{169}, \\dfrac{577}{408}, \\dfrac{1393}{985}, \\dfrac{3363}{2378}, ...$</p>\n",
    "    <p>What is most surprising is that the important mathematical constant,<br>$e = [2; 1, 2, 1, 1, 4, 1, 1, 6, 1, ... , 1, 2k, 1, ...]$.</p>\n",
    "    <p>The first ten terms in the sequence of convergents for $e$ are:</p>\n",
    "    <p>$2, 3, \\dfrac{8}{3}, \\dfrac{11}{4}, \\dfrac{19}{7}, \\dfrac{87}{32}, \\dfrac{106}{39}, \\dfrac{193}{71}, \\dfrac{1264}{465}, \\dfrac{1457}{536}, ...$</p>\n",
    "    <p>The sum of digits in the numerator of the $10$<sup>th</sup> convergent is $1 + 4 + 5 + 7 = 17$.</p>\n",
    "    <p>Find the sum of digits in the numerator of the $100$<sup>th</sup> convergent of the continued fraction for $e$.</p>\n",
    "\n",
    "I computed the $100$<sup>th</sup> convergent starting from the bottom, using its recursive structure."
   ]
  },
  {
   "cell_type": "code",
   "execution_count": 1,
   "metadata": {
    "execution": {
     "iopub.execute_input": "2025-04-01T20:31:06.187601Z",
     "iopub.status.busy": "2025-04-01T20:31:06.186658Z",
     "iopub.status.idle": "2025-04-01T20:31:06.195060Z",
     "shell.execute_reply": "2025-04-01T20:31:06.194557Z"
    }
   },
   "outputs": [
    {
     "name": "stdout",
     "output_type": "stream",
     "text": [
      "272\n"
     ]
    }
   ],
   "source": [
    "def gcd(a, b):\n",
    "    while b:\n",
    "        a, b = b, a % b\n",
    "    return abs(a)\n",
    "\n",
    "class Fraction:\n",
    "    def reduce(self):\n",
    "        d = gcd(self.numerator, self.denominator)\n",
    "        self.numerator //= d\n",
    "        self.denominator //= d\n",
    "    def __init__(self, numerator, denominator):\n",
    "        self.numerator = numerator\n",
    "        self.denominator = denominator\n",
    "        self.reduce()\n",
    "    def sum(self, x):\n",
    "        num = self.numerator * x.denominator + self.denominator * x.numerator\n",
    "        denom = self.denominator * x.denominator\n",
    "        return Fraction(num, denom)\n",
    "    def inverse(self):\n",
    "        return Fraction(self.denominator, self.numerator)\n",
    "\n",
    "l = [1 for _ in range(99)]\n",
    "for i in range(33):\n",
    "    l[3 * i + 1] = 2 * (i + 1)\n",
    "\n",
    "e = Fraction(0,1)\n",
    "for i in range(99):\n",
    "    e = e.sum(Fraction(l[98-i], 1)).inverse()\n",
    "\n",
    "e = e.sum(Fraction(2,1))\n",
    "\n",
    "n = e.numerator\n",
    "print(sum(int(str(n)[i]) for i in range(len(str(n)))))"
   ]
  }
 ],
 "metadata": {
  "kernelspec": {
   "display_name": "Python 3",
   "language": "python",
   "name": "python3"
  },
  "language_info": {
   "codemirror_mode": {
    "name": "ipython",
    "version": 3
   },
   "file_extension": ".py",
   "mimetype": "text/x-python",
   "name": "python",
   "nbconvert_exporter": "python",
   "pygments_lexer": "ipython3",
   "version": "3.12.3"
  }
 },
 "nbformat": 4,
 "nbformat_minor": 2
}
