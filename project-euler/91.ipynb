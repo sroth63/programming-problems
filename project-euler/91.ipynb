{
 "cells": [
  {
   "cell_type": "markdown",
   "metadata": {},
   "source": [
    "## 91 - Right Triangles with Integer Coordinates\n",
    "> The points $P(x_1, y_1)$ and $Q(x_2, y_2)$ are plotted at integer co-ordinates and are joined to the origin, $O(0,0)$, to form $\\triangle OPQ$.\n",
    "    <div class=\"center\">\n",
    "    <img src=\"https://projecteuler.net/resources/images/0091_1.png?1678992052\" class=\"dark_img\" alt=\"\"><br></div>\n",
    "    <p>There are exactly fourteen triangles containing a right angle that can be formed when each co-ordinate lies between $0$ and $2$ inclusive; that is, $0 \\le x_1, y_1, x_2, y_2 \\le 2$.</p>\n",
    "    <div class=\"center\">\n",
    "    <img src=\"https://projecteuler.net/resources/images/0091_2.png?1678992052\" alt=\"\"><br></div>\n",
    "    <p>Given that $0 \\le x_1, y_1, x_2, y_2 \\le 50$, how many right triangles can be formed?</p>\n",
    "\n",
    "I iterated over the point P, and then considered all points Q with integer co-ordinates such that OP and PQ are orthogonal."
   ]
  },
  {
   "cell_type": "code",
   "execution_count": 1,
   "metadata": {},
   "outputs": [
    {
     "name": "stdout",
     "output_type": "stream",
     "text": [
      "14234\n"
     ]
    }
   ],
   "source": [
    "def gcd(a, b):\n",
    "    while b:\n",
    "        a, b = b, a % b\n",
    "    return a\n",
    "\n",
    "grid_size = 50\n",
    "\n",
    "count = 3 * grid_size ** 2\n",
    "\n",
    "for x1 in range(1, grid_size + 1):\n",
    "    for y1 in range(1, grid_size + 1):\n",
    "        # Normalize (x1, y1) to obtain the direction (a, b)\n",
    "        gcd_val = gcd(x1, y1)\n",
    "        a = x1 // gcd_val\n",
    "        b = y1 // gcd_val\n",
    "\n",
    "        # The direction vector for line extension is (b, -a).\n",
    "        # Extend in the positive direction (k > 0).\n",
    "        k = 1\n",
    "        while True:\n",
    "            x2 = x1 + k * b\n",
    "            y2 = y1 - k * a\n",
    "            if 0 <= x2 <= grid_size and 0 <= y2 <= grid_size and (x2 != 0 or y2 != 0):\n",
    "                count += 1\n",
    "                k += 1\n",
    "            else:\n",
    "                break\n",
    "\n",
    "        # Extend in the negative direction (k < 0).\n",
    "        k = -1\n",
    "        while True:\n",
    "            x2 = x1 + k * b\n",
    "            y2 = y1 - k * a\n",
    "            if 0 <= x2 <= grid_size and 0 <= y2 <= grid_size and (x2 != 0 or y2 != 0):\n",
    "                count += 1\n",
    "                k -= 1\n",
    "            else:\n",
    "                break\n",
    "\n",
    "print(count)"
   ]
  }
 ],
 "metadata": {
  "kernelspec": {
   "display_name": "Python 3",
   "language": "python",
   "name": "python3"
  },
  "language_info": {
   "codemirror_mode": {
    "name": "ipython",
    "version": 3
   },
   "file_extension": ".py",
   "mimetype": "text/x-python",
   "name": "python",
   "nbconvert_exporter": "python",
   "pygments_lexer": "ipython3",
   "version": "3.12.3"
  }
 },
 "nbformat": 4,
 "nbformat_minor": 2
}
