{
 "cells": [
  {
   "cell_type": "markdown",
   "metadata": {},
   "source": [
    "## 69 - Totient Maximum\n",
    "> Euler's totient function, $\\phi(n)$ [sometimes called the phi function], is defined as the number of positive integers not exceeding $n$ which are relatively prime to $n$. For example, as $1$, $2$, $4$, $5$, $7$, and $8$, are all less than or equal to nine and relatively prime to nine, $\\phi(9)=6$.\n",
    "    <div class=\"center\">\n",
    "    <table class=\"grid center\"><tr><td><b>$n$</b></td>\n",
    "    <td><b>Relatively Prime</b></td>\n",
    "    <td><b>$\\phi(n)$</b></td>\n",
    "    <td><b>$n/\\phi(n)$</b></td>\n",
    "    </tr><tr><td>2</td>\n",
    "    <td>1</td>\n",
    "    <td>1</td>\n",
    "    <td>2</td>\n",
    "    </tr><tr><td>3</td>\n",
    "    <td>1,2</td>\n",
    "    <td>2</td>\n",
    "    <td>1.5</td>\n",
    "    </tr><tr><td>4</td>\n",
    "    <td>1,3</td>\n",
    "    <td>2</td>\n",
    "    <td>2</td>\n",
    "    </tr><tr><td>5</td>\n",
    "    <td>1,2,3,4</td>\n",
    "    <td>4</td>\n",
    "    <td>1.25</td>\n",
    "    </tr><tr><td>6</td>\n",
    "    <td>1,5</td>\n",
    "    <td>2</td>\n",
    "    <td>3</td>\n",
    "    </tr><tr><td>7</td>\n",
    "    <td>1,2,3,4,5,6</td>\n",
    "    <td>6</td>\n",
    "    <td>1.1666...</td>\n",
    "    </tr><tr><td>8</td>\n",
    "    <td>1,3,5,7</td>\n",
    "    <td>4</td>\n",
    "    <td>2</td>\n",
    "    </tr><tr><td>9</td>\n",
    "    <td>1,2,4,5,7,8</td>\n",
    "    <td>6</td>\n",
    "    <td>1.5</td>\n",
    "    </tr><tr><td>10</td>\n",
    "    <td>1,3,7,9</td>\n",
    "    <td>4</td>\n",
    "    <td>2.5</td>\n",
    "    </tr></table></div>\n",
    "    <p>It can be seen that $n = 6$ produces a maximum $n/\\phi(n)$ for $n\\leq 10$.</p>\n",
    "    <p>Find the value of $n\\leq 1\\,000\\,000$ for which $n/\\phi(n)$ is a maximum.</p>\n",
    "\n",
    "If $n=\\prod_{p\\mid n} p^{\\alpha_p}$ where the product is over prime factors of $n$, then $\\phi(n)=\\prod_{p|n} p^{\\alpha_p-1} (p-1)$. Thus $\\frac n{\\phi(n)}=\\prod_{p|n} \\frac p{p-1}$. We want to find $n \\le 10^6$ that maximizes this product.\n",
    "\n",
    "In other words, we are looking for prime numbers $p_1,\\dots,p_k$ such that $p_1\\dots p_k \\le 10^6$ and that maximize $\\prod_{i=1}^k \\frac{p_k}{p_k-1}$. But $\\frac{p_k}{p_k-1}$ is always greater than $1$ and decreases as $p_k$ increases. So $p_1,\\dots,p_k$ are the $k$ smallest primes."
   ]
  },
  {
   "cell_type": "code",
   "execution_count": 1,
   "metadata": {
    "execution": {
     "iopub.execute_input": "2025-04-01T20:31:10.560583Z",
     "iopub.status.busy": "2025-04-01T20:31:10.560339Z",
     "iopub.status.idle": "2025-04-01T20:31:10.568903Z",
     "shell.execute_reply": "2025-04-01T20:31:10.567979Z"
    }
   },
   "outputs": [
    {
     "name": "stdout",
     "output_type": "stream",
     "text": [
      "510510\n"
     ]
    }
   ],
   "source": [
    "def is_prime(p):\n",
    "    for i in range(2,p-1):\n",
    "        if p%i==0:\n",
    "            return False\n",
    "    return True\n",
    "\n",
    "n = 1\n",
    "p = 2\n",
    "\n",
    "while n <= 10**6:\n",
    "    if is_prime(p):\n",
    "        n *= p\n",
    "    p += 1\n",
    "\n",
    "print(n // (p-1))"
   ]
  }
 ],
 "metadata": {
  "kernelspec": {
   "display_name": "Python 3",
   "language": "python",
   "name": "python3"
  },
  "language_info": {
   "codemirror_mode": {
    "name": "ipython",
    "version": 3
   },
   "file_extension": ".py",
   "mimetype": "text/x-python",
   "name": "python",
   "nbconvert_exporter": "python",
   "pygments_lexer": "ipython3",
   "version": "3.12.3"
  }
 },
 "nbformat": 4,
 "nbformat_minor": 2
}
