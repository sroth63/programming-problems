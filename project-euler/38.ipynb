{
 "cells": [
  {
   "cell_type": "markdown",
   "metadata": {},
   "source": [
    "## 38 - Pandigital Multiples\n",
    "> Take the number $192$ and multiply it by each of $1$, $2$, and $3$: $$\\begin{align}\n",
    "    192 \\times 1 &= 192\\\\\n",
    "    192 \\times 2 &= 384\\\\\n",
    "    192 \\times 3 &= 576\n",
    "    \\end{align}$$\n",
    "    <p>By concatenating each product we get the $1$ to $9$ pandigital, $192384576$. We will call $192384576$ the concatenated product of $192$ and $(1,2,3)$.</p>\n",
    "    <p>The same can be achieved by starting with $9$ and multiplying by $1$, $2$, $3$, $4$, and $5$, giving the pandigital, $918273645$, which is the concatenated product of $9$ and $(1,2,3,4,5)$.</p>\n",
    "    <p>What is the largest $1$ to $9$ pandigital $9$-digit number that can be formed as the concatenated product of an integer with $(1,2, \\dots, n)$ where $n \\gt 1$?</p>\n",
    "\n"
   ]
  },
  {
   "cell_type": "code",
   "execution_count": 1,
   "metadata": {
    "execution": {
     "iopub.execute_input": "2025-04-01T20:28:21.688016Z",
     "iopub.status.busy": "2025-04-01T20:28:21.687611Z",
     "iopub.status.idle": "2025-04-01T20:28:21.737416Z",
     "shell.execute_reply": "2025-04-01T20:28:21.736429Z"
    }
   },
   "outputs": [
    {
     "name": "stdout",
     "output_type": "stream",
     "text": [
      "932718654\n"
     ]
    }
   ],
   "source": [
    "def is_pandigital(n):\n",
    "    s = str(n)\n",
    "    l = []\n",
    "    for i in range(len(s)):\n",
    "        l.append(int(s[i]))\n",
    "    return sorted(l) == [i for i in range(1,10)]\n",
    "\n",
    "pandigitals = []\n",
    "\n",
    "for i in range(5000,10000):\n",
    "    n = int(str(i) + str(2*i))\n",
    "    if is_pandigital(n):\n",
    "        pandigitals.append(n)\n",
    "\n",
    "for i in range(100,334):\n",
    "    n=int(str(i) + str(2*i) + str(3*i))\n",
    "    if is_pandigital(n):\n",
    "        pandigitals.append(n)\n",
    "\n",
    "for i in range(25,34):\n",
    "    n=int(str(i) + str(2*i) + str(3*i) + str(4*i))\n",
    "    if is_pandigital(n):\n",
    "        pandigitals.append(n)\n",
    "\n",
    "for i in range(5,10):\n",
    "    n=int(str(i) + str(2*i) + str(3*i) + str(4*i) + str(5*i))\n",
    "    if is_pandigital(n):\n",
    "        pandigitals.append(n)\n",
    "\n",
    "for i in range(3,4):\n",
    "    n=int(str(i) + str(2*i) + str(3*i) + str(4*i) + str(5*i) + str(6*i))\n",
    "    if is_pandigital(n):\n",
    "        pandigitals.append(n)\n",
    "\n",
    "print(max(pandigitals))"
   ]
  }
 ],
 "metadata": {
  "kernelspec": {
   "display_name": "Python 3",
   "language": "python",
   "name": "python3"
  },
  "language_info": {
   "codemirror_mode": {
    "name": "ipython",
    "version": 3
   },
   "file_extension": ".py",
   "mimetype": "text/x-python",
   "name": "python",
   "nbconvert_exporter": "python",
   "pygments_lexer": "ipython3",
   "version": "3.12.3"
  }
 },
 "nbformat": 4,
 "nbformat_minor": 2
}
