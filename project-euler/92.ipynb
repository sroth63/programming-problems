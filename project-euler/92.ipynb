{
 "cells": [
  {
   "cell_type": "markdown",
   "metadata": {},
   "source": [
    "## 92 - Square Digit Chains\n",
    "> A number chain is created by continuously adding the square of the digits in a number to form a new number until it has been seen before.\n",
    "    For example,$$\\begin{align}\n",
    "    &44 \\to 32 \\to 13 \\to 10 \\to \\mathbf 1 \\to \\mathbf 1\\\\\n",
    "    &85 \\to \\mathbf{89} \\to 145 \\to 42 \\to 20 \\to 4 \\to 16 \\to 37 \\to 58 \\to \\mathbf{89}\n",
    "    \\end{align}$$\n",
    "    </p><p>Therefore any chain that arrives at $1$ or $89$ will become stuck in an endless loop. What is most amazing is that EVERY starting number will eventually arrive at $1$ or $89$.</p>\n",
    "    <p>How many starting numbers below ten million will arrive at $89$?\n",
    "\n",
    "Bruteforce solution."
   ]
  },
  {
   "cell_type": "code",
   "execution_count": 1,
   "metadata": {},
   "outputs": [
    {
     "name": "stdout",
     "output_type": "stream",
     "text": [
      "8581146\n"
     ]
    }
   ],
   "source": [
    "ends = {1:1, 89:89}\n",
    "\n",
    "def compute(i):\n",
    "    if not i in ends:\n",
    "        next = sum(int(digit)**2 for digit in str(i))\n",
    "        compute(next)\n",
    "        ends[i] = ends[next]\n",
    "\n",
    "for i in range(1, 10**7):\n",
    "    compute(i)\n",
    "\n",
    "count = 0\n",
    "for i in ends:\n",
    "    if ends[i] == 89:\n",
    "        count += 1\n",
    "print(count)"
   ]
  }
 ],
 "metadata": {
  "kernelspec": {
   "display_name": "Python 3",
   "language": "python",
   "name": "python3"
  },
  "language_info": {
   "codemirror_mode": {
    "name": "ipython",
    "version": 3
   },
   "file_extension": ".py",
   "mimetype": "text/x-python",
   "name": "python",
   "nbconvert_exporter": "python",
   "pygments_lexer": "ipython3",
   "version": "3.12.3"
  }
 },
 "nbformat": 4,
 "nbformat_minor": 2
}
