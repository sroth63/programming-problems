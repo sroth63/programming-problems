{
 "cells": [
  {
   "cell_type": "markdown",
   "metadata": {},
   "source": [
    "## 32 - Pandigital Products\n",
    "> We shall say that an $n$-digit number is pandigital if it makes use of all the digits $1$ to $n$ exactly once; for example, the $5$-digit number, $15234$, is $1$ through $5$ pandigital. \\\n",
    "    <p>The product $7254$ is unusual, as the identity, $39 \\times 186 = 7254$, containing multiplicand, multiplier, and product is $1$ through $9$ pandigital.</p>\n",
    "    <p>Find the sum of all products whose multiplicand/multiplier/product identity can be written as a $1$ through $9$ pandigital.</p>\n",
    "    <div class=\"note\">HINT: Some products can be obtained in more than one way so be sure to only include it once in your sum.</div>\n",
    "\n"
   ]
  },
  {
   "cell_type": "code",
   "execution_count": 1,
   "metadata": {
    "execution": {
     "iopub.execute_input": "2025-04-01T20:27:57.160673Z",
     "iopub.status.busy": "2025-04-01T20:27:57.159718Z",
     "iopub.status.idle": "2025-04-01T20:27:57.634088Z",
     "shell.execute_reply": "2025-04-01T20:27:57.633290Z"
    }
   },
   "outputs": [
    {
     "name": "stdout",
     "output_type": "stream",
     "text": [
      "45228\n"
     ]
    }
   ],
   "source": [
    "def is_pandigital(n):\n",
    "    return sorted(n) == [str(i) for i in range(1,10)]\n",
    "\n",
    "products = set([])\n",
    "\n",
    "for i in range(1, 10):\n",
    "    for j in range(10**3, 10**4): # if i has 1 digit, then j must have 4 digits\n",
    "        n = str(i) + str(j) + str(i*j)\n",
    "        if is_pandigital(n):\n",
    "            products.add(i*j)\n",
    "\n",
    "for i in range(10, 100):\n",
    "    for j in range(10**2, 10**3): # if i has 2 digits, then j must have 3 digits\n",
    "        n = str(i) + str(j) + str(i*j)\n",
    "        if is_pandigital(n):\n",
    "            products.add(i*j)\n",
    "\n",
    "print(sum(products))"
   ]
  }
 ],
 "metadata": {
  "kernelspec": {
   "display_name": "Python 3",
   "language": "python",
   "name": "python3"
  },
  "language_info": {
   "codemirror_mode": {
    "name": "ipython",
    "version": 3
   },
   "file_extension": ".py",
   "mimetype": "text/x-python",
   "name": "python",
   "nbconvert_exporter": "python",
   "pygments_lexer": "ipython3",
   "version": "3.12.3"
  }
 },
 "nbformat": 4,
 "nbformat_minor": 2
}
