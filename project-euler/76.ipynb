{
 "cells": [
  {
   "cell_type": "markdown",
   "metadata": {},
   "source": [
    "## 76 - Counting Summations\n",
    "> It is possible to write five as a sum in exactly six different ways:$$\\begin{align}\n",
    "    &4 + 1\\\\\n",
    "    &3 + 2\\\\\n",
    "    &3 + 1 + 1\\\\\n",
    "    &2 + 2 + 1\\\\\n",
    "    &2 + 1 + 1 + 1\\\\\n",
    "    &1 + 1 + 1 + 1 + 1\n",
    "    \\end{align}$$\n",
    "    <p>How many different ways can one hundred be written as a sum of at least two positive integers?</p>\n",
    "\n",
    "I used dynamic programming. Let $s(n,k)$ be the number of ways to write $n$ as a sum of integers $\\le k$. We have $s(0,k)=1$ for all $k$, and we are looking for $s(100,100)-1$ (there is a $-1$ because we don't want to count the solution $100 = 100$.)\n",
    "\n",
    "Choosing a way to write $n$ as a sum of integers $\\le k$ is equivalent to choosing the biggest number of this sum, $j$, which is always between $1$ and $\\min(n,k)$, and then choosing a way to write $n-j$ as a sum of integers $\\le j$. Thus we have the formula $$s(n,k)=\\sum_{j=1}^{\\min(n,k)} s(n-j,j)$$"
   ]
  },
  {
   "cell_type": "code",
   "execution_count": 1,
   "metadata": {
    "execution": {
     "iopub.execute_input": "2025-04-01T20:31:30.845187Z",
     "iopub.status.busy": "2025-04-01T20:31:30.844746Z",
     "iopub.status.idle": "2025-04-01T20:31:30.884142Z",
     "shell.execute_reply": "2025-04-01T20:31:30.882792Z"
    }
   },
   "outputs": [
    {
     "name": "stdout",
     "output_type": "stream",
     "text": [
      "190569291\n"
     ]
    }
   ],
   "source": [
    "N = 100\n",
    "\n",
    "s = [[0 for _ in range(N+1)] for _ in range(N+1)] # s[n][k] = number of ways to write n as a sum of integers <= k\n",
    "for k in range(1, N+1):\n",
    "    s[0][k] = 1\n",
    "\n",
    "for n in range(1, N+1):\n",
    "    for k in range(1, N+1):\n",
    "        s[n][k] = sum(s[n-j][j] for j in range(1, min(k+1,n+1)))\n",
    "\n",
    "print(s[-1][-1] - 1) # we don't want to count the solution N = N (sum of one term)"
   ]
  }
 ],
 "metadata": {
  "kernelspec": {
   "display_name": "Python 3",
   "language": "python",
   "name": "python3"
  },
  "language_info": {
   "codemirror_mode": {
    "name": "ipython",
    "version": 3
   },
   "file_extension": ".py",
   "mimetype": "text/x-python",
   "name": "python",
   "nbconvert_exporter": "python",
   "pygments_lexer": "ipython3",
   "version": "3.12.3"
  }
 },
 "nbformat": 4,
 "nbformat_minor": 2
}
