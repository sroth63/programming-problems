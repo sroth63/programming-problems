{
 "cells": [
  {
   "cell_type": "markdown",
   "metadata": {},
   "source": [
    "## 19 - Counting Sundays\n",
    "> You are given the following information, but you may prefer to do some research for yourself.\\\n",
    "    <ul><li>1 Jan 1900 was a Monday.</li>\n",
    "    <li>Thirty days has September,<br />\n",
    "    April, June and November.<br />\n",
    "    All the rest have thirty-one,<br />\n",
    "    Saving February alone,<br />\n",
    "    Which has twenty-eight, rain or shine.<br />\n",
    "    And on leap years, twenty-nine.</li>\n",
    "    <li>A leap year occurs on any year evenly divisible by 4, but not on a century unless it is divisible by 400.</li>\n",
    "    </ul><p>How many Sundays fell on the first of the month during the twentieth century (1 Jan 1901 to 31 Dec 2000)?</p>\n",
    "\n"
   ]
  },
  {
   "cell_type": "code",
   "execution_count": 1,
   "metadata": {
    "execution": {
     "iopub.execute_input": "2025-04-01T20:27:34.260498Z",
     "iopub.status.busy": "2025-04-01T20:27:34.260077Z",
     "iopub.status.idle": "2025-04-01T20:27:34.270967Z",
     "shell.execute_reply": "2025-04-01T20:27:34.269321Z"
    }
   },
   "outputs": [
    {
     "name": "stdout",
     "output_type": "stream",
     "text": [
      "171\n"
     ]
    }
   ],
   "source": [
    "day = 1 #1 Jan 1901 was a Tuesday\n",
    "days_per_month = [31,28,31,30,31,30,31,31,30,31,30,31]\n",
    "days_per_month_leap = [31,29,31,30,31,30,31,31,30,31,30,31]\n",
    "count = 0\n",
    "\n",
    "for year in range(1901,2001):\n",
    "    for month in range(12):\n",
    "        if year % 4 == 0:\n",
    "            day = (day+days_per_month_leap[month])%7\n",
    "        else:\n",
    "            day = (day+days_per_month[month])%7\n",
    "        if day == 6 and not(year == 2000 and month == 11): #we don't want to count 1 Jan 2001\n",
    "            count += 1\n",
    "\n",
    "print(count)"
   ]
  }
 ],
 "metadata": {
  "kernelspec": {
   "display_name": "Python 3",
   "language": "python",
   "name": "python3"
  },
  "language_info": {
   "codemirror_mode": {
    "name": "ipython",
    "version": 3
   },
   "file_extension": ".py",
   "mimetype": "text/x-python",
   "name": "python",
   "nbconvert_exporter": "python",
   "pygments_lexer": "ipython3",
   "version": "3.12.3"
  }
 },
 "nbformat": 4,
 "nbformat_minor": 2
}
