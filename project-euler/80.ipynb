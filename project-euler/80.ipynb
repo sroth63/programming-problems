{
 "cells": [
  {
   "cell_type": "markdown",
   "metadata": {},
   "source": [
    "## 80 - Square Root Digital Expansion\n",
    "> It is well known that if the square root of a natural number is not an integer, then it is irrational. The decimal expansion of such square roots is infinite without any repeating pattern at all.\n",
    "    <p>The square root of two is $1.41421356237309504880\\cdots$, and the digital sum of the first one hundred decimal digits is $475$.</p>\n",
    "    <p>For the first one hundred natural numbers, find the total of the digital sums of the first one hundred decimal digits for all the irrational square roots.</p>\n",
    "\n",
    "I used a straightforward method. I worked with Python's long integers to avoid approximation errors."
   ]
  },
  {
   "cell_type": "code",
   "execution_count": 1,
   "metadata": {
    "execution": {
     "iopub.execute_input": "2025-04-01T20:31:40.973208Z",
     "iopub.status.busy": "2025-04-01T20:31:40.972794Z",
     "iopub.status.idle": "2025-04-01T20:31:41.060406Z",
     "shell.execute_reply": "2025-04-01T20:31:41.059735Z"
    }
   },
   "outputs": [
    {
     "name": "stdout",
     "output_type": "stream",
     "text": [
      "40886\n"
     ]
    }
   ],
   "source": [
    "def approx(n):\n",
    "    a = int(n**0.5) * 10**100\n",
    "    n *= 10**200\n",
    "    for d in range(100):\n",
    "        for i in range(10):\n",
    "            if (a+i*10**(99-d))**2 <= n and (a+(i+1)*10**(99-d))**2 > n:\n",
    "                a+=i*10**(99-d)\n",
    "                break\n",
    "    return a\n",
    "\n",
    "def sum_100_digits(n):\n",
    "    return sum(int(digit) for digit in str(n)[:100])\n",
    "\n",
    "s=0\n",
    "k=2\n",
    "for i in range(2,100):\n",
    "    if i==k**2:\n",
    "        k+=1\n",
    "    else:\n",
    "        s+=sum_100_digits(approx(i))\n",
    "print(s)"
   ]
  }
 ],
 "metadata": {
  "kernelspec": {
   "display_name": "Python 3",
   "language": "python",
   "name": "python3"
  },
  "language_info": {
   "codemirror_mode": {
    "name": "ipython",
    "version": 3
   },
   "file_extension": ".py",
   "mimetype": "text/x-python",
   "name": "python",
   "nbconvert_exporter": "python",
   "pygments_lexer": "ipython3",
   "version": "3.12.3"
  }
 },
 "nbformat": 4,
 "nbformat_minor": 2
}
