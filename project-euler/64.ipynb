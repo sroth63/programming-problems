{
 "cells": [
  {
   "cell_type": "markdown",
   "metadata": {},
   "source": [
    "## 64 - Odd Period Square Roots\n",
    "> All square roots are periodic when written as continued fractions and can be written in the form:\n",
    "    $\\displaystyle \\quad \\quad \\sqrt{N}=a_0+\\frac 1 {a_1+\\frac 1 {a_2+ \\frac 1 {a_3+ \\dots}}}$\n",
    "    <p>For example, let us consider $\\sqrt{23}:$</p>\n",
    "    $\\quad \\quad \\sqrt{23}=4+\\sqrt{23}-4=4+\\frac 1 {\\frac 1 {\\sqrt{23}-4}}=4+\\frac 1  {1+\\frac{\\sqrt{23}-3}7}$\n",
    "    <p>If we continue we would get the following expansion:</p>\n",
    "    $\\displaystyle \\quad \\quad \\sqrt{23}=4+\\frac 1 {1+\\frac 1 {3+ \\frac 1 {1+\\frac 1 {8+ \\dots}}}}$\n",
    "    <p>The process can be summarised as follows:</p>\n",
    "    <p>\n",
    "    $\\quad \\quad a_0=4, \\frac 1 {\\sqrt{23}-4}=\\frac {\\sqrt{23}+4} 7=1+\\frac {\\sqrt{23}-3} 7$<br>\n",
    "    $\\quad \\quad a_1=1, \\frac 7 {\\sqrt{23}-3}=\\frac {7(\\sqrt{23}+3)} {14}=3+\\frac {\\sqrt{23}-3} 2$<br>\n",
    "    $\\quad \\quad a_2=3, \\frac 2 {\\sqrt{23}-3}=\\frac {2(\\sqrt{23}+3)} {14}=1+\\frac {\\sqrt{23}-4} 7$<br>\n",
    "    $\\quad \\quad a_3=1, \\frac 7 {\\sqrt{23}-4}=\\frac {7(\\sqrt{23}+4)} 7=8+\\sqrt{23}-4$<br>\n",
    "    $\\quad \\quad a_4=8, \\frac 1 {\\sqrt{23}-4}=\\frac {\\sqrt{23}+4} 7=1+\\frac {\\sqrt{23}-3} 7$<br>\n",
    "    $\\quad \\quad a_5=1, \\frac 7 {\\sqrt{23}-3}=\\frac {7 (\\sqrt{23}+3)} {14}=3+\\frac {\\sqrt{23}-3} 2$<br>\n",
    "    $\\quad \\quad a_6=3, \\frac 2 {\\sqrt{23}-3}=\\frac {2(\\sqrt{23}+3)} {14}=1+\\frac {\\sqrt{23}-4} 7$<br>\n",
    "    $\\quad \\quad a_7=1, \\frac 7 {\\sqrt{23}-4}=\\frac {7(\\sqrt{23}+4)} {7}=8+\\sqrt{23}-4$<br>\n",
    "    </p>\n",
    "    <p>It can be seen that the sequence is repeating. For conciseness, we use the notation $\\sqrt{23}=[4;(1,3,1,8)]$, to indicate that the block (1,3,1,8) repeats indefinitely.</p>\n",
    "    <p>The first ten continued fraction representations of (irrational) square roots are:</p>\n",
    "    <p>\n",
    "    $\\quad \\quad \\sqrt{2}=[1;(2)]$, period=$1$<br>\n",
    "    $\\quad \\quad \\sqrt{3}=[1;(1,2)]$, period=$2$<br>\n",
    "    $\\quad \\quad \\sqrt{5}=[2;(4)]$, period=$1$<br>\n",
    "    $\\quad \\quad \\sqrt{6}=[2;(2,4)]$, period=$2$<br>\n",
    "    $\\quad \\quad \\sqrt{7}=[2;(1,1,1,4)]$, period=$4$<br>\n",
    "    $\\quad \\quad \\sqrt{8}=[2;(1,4)]$, period=$2$<br>\n",
    "    $\\quad \\quad \\sqrt{10}=[3;(6)]$, period=$1$<br>\n",
    "    $\\quad \\quad \\sqrt{11}=[3;(3,6)]$, period=$2$<br>\n",
    "    $\\quad \\quad \\sqrt{12}=[3;(2,6)]$, period=$2$<br>\n",
    "    $\\quad \\quad \\sqrt{13}=[3;(1,1,1,1,6)]$, period=$5$\n",
    "    </p>\n",
    "    <p>Exactly four continued fractions, for $N \\le 13$, have an odd period.</p>\n",
    "    <p>How many continued fractions for $N \\le 10\\,000$ have an odd period?</p>\n",
    "\n",
    "We are looking for the period of the sequence defined by $u_0=\\sqrt N$ and $u_{n+1} = \\frac1{u_n-\\lfloor u_n\\rfloor}$. If we write $u_n=\\frac{a_n \\sqrt N+b_n}{c_n}$, then we can easily see that $a_{n+1}=a_n c_n$, $b_{n+1} = -c_n k_n$ and $c_{n+1} = a_{n}^2 N-k_n^2$, where $k_n := b_n - c_n \\lfloor u_n\\rfloor$. This allow us to compute the sequence efficiently using only integers."
   ]
  },
  {
   "cell_type": "code",
   "execution_count": 1,
   "metadata": {
    "execution": {
     "iopub.execute_input": "2025-04-01T20:31:04.271229Z",
     "iopub.status.busy": "2025-04-01T20:31:04.270839Z",
     "iopub.status.idle": "2025-04-01T20:31:05.115510Z",
     "shell.execute_reply": "2025-04-01T20:31:05.115076Z"
    }
   },
   "outputs": [
    {
     "name": "stdout",
     "output_type": "stream",
     "text": [
      "1322\n"
     ]
    }
   ],
   "source": [
    "def gcd(a, b):\n",
    "    while b:\n",
    "        a, b = b, a % b\n",
    "    return abs(a)\n",
    "\n",
    "class Fraction:\n",
    "    def __init__(self, params): # Fraction((N, a, b, c)) represents (a * sqrt(N) + b)/c\n",
    "        self.N = params[0]\n",
    "        self.a = params[1]\n",
    "        self.b = params[2]\n",
    "        self.c = params[3]\n",
    "    def next(self):\n",
    "        floor = int((self.a * self.N**0.5 + self.b) / self.c)\n",
    "        k = self.b - self.c * floor\n",
    "        nexta = self.c * self.a\n",
    "        nextb = -self.c * k\n",
    "        nextc = self.a**2 * self.N - k**2\n",
    "        d = gcd(nexta, gcd(nextb, nextc))\n",
    "        return Fraction((self.N,nexta//d, nextb//d, nextc//d))\n",
    "    def to_tuple(self):\n",
    "        return (self.N, self.a, self.b, self.c)\n",
    "    \n",
    "def period(mem):\n",
    "    if mem == []:\n",
    "        return 0\n",
    "    next = Fraction(mem[-1]).next().to_tuple()\n",
    "    for i in range(len(mem)):\n",
    "        if next == mem[i]:\n",
    "            return len(mem) - i \n",
    "    mem.append(next)\n",
    "    return period(mem)\n",
    "\n",
    "count = 0\n",
    "next_square = 2\n",
    "for i in range(2, 10**4):\n",
    "    if i != next_square**2:\n",
    "        count += period([(i, 1, 0, 1)]) % 2\n",
    "    else:\n",
    "        next_square += 1\n",
    "print(count)"
   ]
  }
 ],
 "metadata": {
  "kernelspec": {
   "display_name": "Python 3",
   "language": "python",
   "name": "python3"
  },
  "language_info": {
   "codemirror_mode": {
    "name": "ipython",
    "version": 3
   },
   "file_extension": ".py",
   "mimetype": "text/x-python",
   "name": "python",
   "nbconvert_exporter": "python",
   "pygments_lexer": "ipython3",
   "version": "3.12.3"
  }
 },
 "nbformat": 4,
 "nbformat_minor": 2
}
