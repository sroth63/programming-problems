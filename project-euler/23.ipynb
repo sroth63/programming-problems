{
 "cells": [
  {
   "cell_type": "markdown",
   "metadata": {},
   "source": [
    "## 23 - Non-Abundant Sums\n",
    "> A perfect number is a number for which the sum of its proper divisors is exactly equal to the number. For example, the sum of the proper divisors of $28$ would be $1 + 2 + 4 + 7 + 14 = 28$, which means that $28$ is a perfect number.\\\n",
    "    <p>A number $n$ is called deficient if the sum of its proper divisors is less than $n$ and it is called abundant if this sum exceeds $n$.</p>\n",
    "    <p>As $12$ is the smallest abundant number, $1 + 2 + 3 + 4 + 6 = 16$, the smallest number that can be written as the sum of two abundant numbers is $24$. By mathematical analysis, it can be shown that all integers greater than $28123$ can be written as the sum of two abundant numbers. However, this upper limit cannot be reduced any further by analysis even though it is known that the greatest number that cannot be expressed as the sum of two abundant numbers is less than this limit.</p>\n",
    "    <p>Find the sum of all the positive integers which cannot be written as the sum of two abundant numbers.</p>\n",
    "\n"
   ]
  },
  {
   "cell_type": "code",
   "execution_count": 1,
   "metadata": {
    "execution": {
     "iopub.execute_input": "2025-04-01T20:27:39.482875Z",
     "iopub.status.busy": "2025-04-01T20:27:39.482467Z",
     "iopub.status.idle": "2025-04-01T20:27:41.224787Z",
     "shell.execute_reply": "2025-04-01T20:27:41.223960Z"
    }
   },
   "outputs": [
    {
     "name": "stdout",
     "output_type": "stream",
     "text": [
      "4179871\n"
     ]
    }
   ],
   "source": [
    "def is_abundant(n):\n",
    "    s = 1\n",
    "    for i in range(2,int(n**0.5)+1):\n",
    "       if n % i == 0:\n",
    "           s += i\n",
    "           d = n // i\n",
    "           if d != i:\n",
    "               s += d\n",
    "           if s > n:\n",
    "               return True\n",
    "    return False\n",
    "\n",
    "abundants=set()\n",
    "for n in range(28124):\n",
    "    if is_abundant(n):\n",
    "        abundants.add(n)\n",
    "\n",
    "sum_not_summable=0\n",
    "for i in range(1,28124):\n",
    "    if not any((i - abundant) in abundants for abundant in abundants):\n",
    "        sum_not_summable+=i\n",
    "\n",
    "print(sum_not_summable)"
   ]
  }
 ],
 "metadata": {
  "kernelspec": {
   "display_name": "Python 3",
   "language": "python",
   "name": "python3"
  },
  "language_info": {
   "codemirror_mode": {
    "name": "ipython",
    "version": 3
   },
   "file_extension": ".py",
   "mimetype": "text/x-python",
   "name": "python",
   "nbconvert_exporter": "python",
   "pygments_lexer": "ipython3",
   "version": "3.12.3"
  }
 },
 "nbformat": 4,
 "nbformat_minor": 2
}
