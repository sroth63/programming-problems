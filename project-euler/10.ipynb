{
 "cells": [
  {
   "cell_type": "markdown",
   "metadata": {},
   "source": [
    "## 10 - Summation of Primes\n",
    "> The sum of the primes below $10$ is $2 + 3 + 5 + 7 = 17$.\\\n",
    "  Find the sum of all the primes below two million.\n",
    "\n",
    "We use the Sieve of Eratosthenes."
   ]
  },
  {
   "cell_type": "code",
   "execution_count": 1,
   "metadata": {
    "execution": {
     "iopub.execute_input": "2025-04-01T20:27:11.604312Z",
     "iopub.status.busy": "2025-04-01T20:27:11.603912Z",
     "iopub.status.idle": "2025-04-01T20:27:16.767074Z",
     "shell.execute_reply": "2025-04-01T20:27:16.766638Z"
    }
   },
   "outputs": [
    {
     "name": "stdout",
     "output_type": "stream",
     "text": [
      "142913828922\n"
     ]
    }
   ],
   "source": [
    "n=2000000\n",
    "is_prime=[True for i in range(n)]\n",
    "prime_sum = 0\n",
    "\n",
    "for k in range(2, n):\n",
    "    if is_prime[k]:\n",
    "        prime_sum += k\n",
    "    j = 2 * k\n",
    "    while j < n:\n",
    "        is_prime[j] = False\n",
    "        j += k\n",
    "\n",
    "print(prime_sum)"
   ]
  }
 ],
 "metadata": {
  "kernelspec": {
   "display_name": "Python 3",
   "language": "python",
   "name": "python3"
  },
  "language_info": {
   "codemirror_mode": {
    "name": "ipython",
    "version": 3
   },
   "file_extension": ".py",
   "mimetype": "text/x-python",
   "name": "python",
   "nbconvert_exporter": "python",
   "pygments_lexer": "ipython3",
   "version": "3.12.3"
  }
 },
 "nbformat": 4,
 "nbformat_minor": 2
}
