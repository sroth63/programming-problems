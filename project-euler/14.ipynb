{
 "cells": [
  {
   "cell_type": "markdown",
   "metadata": {},
   "source": [
    "## 14 - Longest Collatz Sequence\n",
    "> The following iterative sequence is defined for the set of positive integers:\n",
    "> - $n \\to n/2$ ($n$ is even)\n",
    "> - $n \\to 3n + 1$ ($n$ is odd)\n",
    ">\n",
    "> Using the rule above and starting with $13$, we generate the following sequence: $$13 \\to 40 \\to 20 \\to 10 \\to 5 \\to 16 \\to 8 \\to 4 \\to 2 \\to 1.$$\n",
    "  It can be seen that this sequence (starting at $13$ and finishing at $1$) contains $10$ terms. Although it has not been proved yet (Collatz Problem), it is thought that all starting numbers finish at $1$.\\\n",
    "  Which starting number, under one million, produces the longest chain?\\\n",
    "  **NOTE:** Once the chain starts the terms are allowed to go above one million.\n",
    "\n"
   ]
  },
  {
   "cell_type": "code",
   "execution_count": 1,
   "metadata": {
    "execution": {
     "iopub.execute_input": "2025-04-01T20:27:25.192951Z",
     "iopub.status.busy": "2025-04-01T20:27:25.192517Z",
     "iopub.status.idle": "2025-04-01T20:27:27.889406Z",
     "shell.execute_reply": "2025-04-01T20:27:27.888726Z"
    }
   },
   "outputs": [
    {
     "name": "stdout",
     "output_type": "stream",
     "text": [
      "837799\n"
     ]
    }
   ],
   "source": [
    "n = 1000001\n",
    "chain_lengths = {}\n",
    "\n",
    "for a0 in range(1, n): # we compute all the chain lengths\n",
    "    t = 0\n",
    "    a = a0\n",
    "    while True:\n",
    "        if a in chain_lengths:\n",
    "            chain_lengths[a0] = t + chain_lengths[a] - 1\n",
    "            break\n",
    "        if a == 1:\n",
    "            chain_lengths[a0] = t\n",
    "            break\n",
    "        if a % 2 == 0:\n",
    "            a //= 2\n",
    "        else:\n",
    "            a = 3*a + 1\n",
    "        t += 1\n",
    "\n",
    "longest_chain = 0\n",
    "i0 = 0\n",
    "for i in range(1, n):\n",
    "    if chain_lengths[i] > longest_chain:\n",
    "        longest_chain = chain_lengths[i]\n",
    "        i0 = i\n",
    "print(i0)"
   ]
  }
 ],
 "metadata": {
  "kernelspec": {
   "display_name": "Python 3",
   "language": "python",
   "name": "python3"
  },
  "language_info": {
   "codemirror_mode": {
    "name": "ipython",
    "version": 3
   },
   "file_extension": ".py",
   "mimetype": "text/x-python",
   "name": "python",
   "nbconvert_exporter": "python",
   "pygments_lexer": "ipython3",
   "version": "3.12.3"
  }
 },
 "nbformat": 4,
 "nbformat_minor": 2
}
