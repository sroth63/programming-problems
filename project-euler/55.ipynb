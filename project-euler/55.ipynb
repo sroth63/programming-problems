{
 "cells": [
  {
   "cell_type": "markdown",
   "metadata": {},
   "source": [
    "## 55 - Lychrel Numbers\n",
    "> If we take $47$, reverse and add, $47 + 74 = 121$, which is palindromic.\n",
    "    <p>Not all numbers produce palindromes so quickly. For example,</p>\n",
    "    \\begin{align}\n",
    "    349 + 943 &= 1292\\\\\n",
    "    1292 + 2921 &= 4213\\\\\n",
    "    4213 + 3124 &= 7337\n",
    "    \\end{align}\n",
    "    <p>That is, $349$ took three iterations to arrive at a palindrome.</p>\n",
    "    <p>Although no one has proved it yet, it is thought that some numbers, like $196$, never produce a palindrome. A number that never forms a palindrome through the reverse and add process is called a Lychrel number. Due to the theoretical nature of these numbers, and for the purpose of this problem, we shall assume that a number is Lychrel until proven otherwise. In addition you are given that for every number below ten-thousand, it will either (i) become a palindrome in less than fifty iterations, or, (ii) no one, with all the computing power that exists, has managed so far to map it to a palindrome. In fact, $10677$ is the first number to be shown to require over fifty iterations before producing a palindrome: $4668731596684224866951378664$ ($53$ iterations, $28$-digits).</p>\n",
    "    <p>Surprisingly, there are palindromic numbers that are themselves Lychrel numbers; the first example is $4994$.</p>\n",
    "    <p>How many Lychrel numbers are there below ten-thousand?</p>\n",
    "    <p class=\"smaller\">NOTE: Wording was modified slightly on 24 April 2007 to emphasise the theoretical nature of Lychrel numbers.</p>\n"
   ]
  },
  {
   "cell_type": "code",
   "execution_count": 1,
   "metadata": {
    "execution": {
     "iopub.execute_input": "2025-04-01T20:30:11.402950Z",
     "iopub.status.busy": "2025-04-01T20:30:11.402666Z",
     "iopub.status.idle": "2025-04-01T20:30:11.702849Z",
     "shell.execute_reply": "2025-04-01T20:30:11.701996Z"
    }
   },
   "outputs": [
    {
     "name": "stdout",
     "output_type": "stream",
     "text": [
      "249\n"
     ]
    }
   ],
   "source": [
    "def mirror(n):\n",
    "    s=str(n)\n",
    "    l=len(s)\n",
    "    p=0\n",
    "    for i in range(l):\n",
    "        p+=int(s[i])*10**i\n",
    "    return p\n",
    "\n",
    "def is_lychrel(n):\n",
    "    for i in range(51):\n",
    "        n=n+mirror(n)\n",
    "        if n==mirror(n):\n",
    "            return False\n",
    "    return True\n",
    "\n",
    "s=0\n",
    "for i in range(10001):\n",
    "    if is_lychrel(i):\n",
    "        s+=1\n",
    "print(s)"
   ]
  }
 ],
 "metadata": {
  "kernelspec": {
   "display_name": "Python 3",
   "language": "python",
   "name": "python3"
  },
  "language_info": {
   "codemirror_mode": {
    "name": "ipython",
    "version": 3
   },
   "file_extension": ".py",
   "mimetype": "text/x-python",
   "name": "python",
   "nbconvert_exporter": "python",
   "pygments_lexer": "ipython3",
   "version": "3.12.3"
  }
 },
 "nbformat": 4,
 "nbformat_minor": 2
}
