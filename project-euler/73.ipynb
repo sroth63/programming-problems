{
 "cells": [
  {
   "cell_type": "markdown",
   "metadata": {},
   "source": [
    "## 73 - Counting Fractions in a Range\n",
    "> Consider the fraction, $\\dfrac n d$, where $n$ and $d$ are positive integers. If $n \\lt d$ and $\\operatorname{HCF}(n, d)=1$, it is called a reduced proper fraction.\n",
    "    <p>If we list the set of reduced proper fractions for $d \\le 8$ in ascending order of size, we get:$$\\frac 1 8, \\frac 1 7, \\frac 1 6, \\frac 1 5, \\frac 1 4, \\frac 2 7, \\frac 1 3, \\mathbf{\\frac 3 8, \\frac 2 5, \\frac 3 7}, \\frac 1 2, \\frac 4 7, \\frac 3 5, \\frac 5 8, \\frac 2 3, \\frac 5 7, \\frac 3 4, \\frac 4 5, \\frac 5 6, \\frac 6 7, \\frac 7 8$$</p>\n",
    "    <p>It can be seen that there are $3$ fractions between $\\dfrac 1 3$ and $\\dfrac 1 2$.</p>\n",
    "    <p>How many fractions lie between $\\dfrac 1 3$ and $\\dfrac 1 2$ in the sorted set of reduced proper fractions for $d \\le 12\\,000$?</p>\n",
    "\n",
    "I just bruteforced."
   ]
  },
  {
   "cell_type": "code",
   "execution_count": 1,
   "metadata": {
    "execution": {
     "iopub.execute_input": "2025-04-01T20:31:19.248193Z",
     "iopub.status.busy": "2025-04-01T20:31:19.248006Z",
     "iopub.status.idle": "2025-04-01T20:31:24.155140Z",
     "shell.execute_reply": "2025-04-01T20:31:24.154114Z"
    }
   },
   "outputs": [
    {
     "name": "stdout",
     "output_type": "stream",
     "text": [
      "7295372\n"
     ]
    }
   ],
   "source": [
    "def gcd(a, b):\n",
    "    while b:\n",
    "        a, b = b, a % b\n",
    "    return a\n",
    "\n",
    "s=0\n",
    "\n",
    "for d in range(1,12001):\n",
    "    for n in range(int(d/3)+1,d//2+d%2):\n",
    "        if gcd(n,d)==1:\n",
    "            s+=1\n",
    "print(s)"
   ]
  }
 ],
 "metadata": {
  "kernelspec": {
   "display_name": "Python 3",
   "language": "python",
   "name": "python3"
  },
  "language_info": {
   "codemirror_mode": {
    "name": "ipython",
    "version": 3
   },
   "file_extension": ".py",
   "mimetype": "text/x-python",
   "name": "python",
   "nbconvert_exporter": "python",
   "pygments_lexer": "ipython3",
   "version": "3.12.3"
  }
 },
 "nbformat": 4,
 "nbformat_minor": 2
}
