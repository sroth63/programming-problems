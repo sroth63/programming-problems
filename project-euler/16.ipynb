{
 "cells": [
  {
   "cell_type": "markdown",
   "metadata": {},
   "source": [
    "## 16 - Power Digit Sum\n",
    "> $2^{15} = 32768$ and the sum of its digits is $3 + 2 + 7 + 6 + 8 = 26$.\\\n",
    "  What is the sum of the digits of the number $2^{1000}$?\n",
    "\n",
    "Again an easy one if we use Python!"
   ]
  },
  {
   "cell_type": "code",
   "execution_count": 1,
   "metadata": {
    "execution": {
     "iopub.execute_input": "2025-04-01T20:27:30.266013Z",
     "iopub.status.busy": "2025-04-01T20:27:30.265563Z",
     "iopub.status.idle": "2025-04-01T20:27:30.273719Z",
     "shell.execute_reply": "2025-04-01T20:27:30.272908Z"
    }
   },
   "outputs": [
    {
     "name": "stdout",
     "output_type": "stream",
     "text": [
      "1366\n"
     ]
    }
   ],
   "source": [
    "print(sum(int(str(2**1000)[i]) for i in range(len(str(2**1000)))))"
   ]
  }
 ],
 "metadata": {
  "kernelspec": {
   "display_name": "Python 3",
   "language": "python",
   "name": "python3"
  },
  "language_info": {
   "codemirror_mode": {
    "name": "ipython",
    "version": 3
   },
   "file_extension": ".py",
   "mimetype": "text/x-python",
   "name": "python",
   "nbconvert_exporter": "python",
   "pygments_lexer": "ipython3",
   "version": "3.12.3"
  }
 },
 "nbformat": 4,
 "nbformat_minor": 2
}
