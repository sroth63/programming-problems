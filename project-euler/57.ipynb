{
 "cells": [
  {
   "cell_type": "markdown",
   "metadata": {},
   "source": [
    "## 57 - Square Root Convergents\n",
    "> It is possible to show that the square root of two can be expressed as an infinite continued fraction.\n",
    "    <p>$\\sqrt 2 =1+ \\frac 1 {2+ \\frac 1 {2 +\\frac 1 {2+ \\dots}}}$</p>\n",
    "    <p>By expanding this for the first four iterations, we get:</p>\n",
    "    <p>$1 + \\frac 1 2 = \\frac  32 = 1.5$<br>\n",
    "    $1 + \\frac 1 {2 + \\frac 1 2} = \\frac 7 5 = 1.4$<br>\n",
    "    $1 + \\frac 1 {2 + \\frac 1 {2+\\frac 1 2}} = \\frac {17}{12} = 1.41666 \\dots$<br>\n",
    "    $1 + \\frac 1 {2 + \\frac 1 {2+\\frac 1 {2+\\frac 1 2}}} = \\frac {41}{29} = 1.41379 \\dots$<br></p>\n",
    "    <p>The next three expansions are $\\frac {99}{70}$, $\\frac {239}{169}$, and $\\frac {577}{408}$, but the eighth expansion, $\\frac {1393}{985}$, is the first example where the number of digits in the numerator exceeds the number of digits in the denominator.</p>\n",
    "    <p>In the first one-thousand expansions, how many fractions contain a numerator with more digits than the denominator?</p>\n",
    "\n",
    "The expansions are defined by the sequence $u_0=1$ and $u_{n+1}=1+\\frac1{1+u_n}$. If we write $u_n=\\frac a b$, then $u_{n+1}=\\frac{a+2b}{a+b}$."
   ]
  },
  {
   "cell_type": "code",
   "execution_count": 1,
   "metadata": {
    "execution": {
     "iopub.execute_input": "2025-04-01T20:30:14.163062Z",
     "iopub.status.busy": "2025-04-01T20:30:14.162582Z",
     "iopub.status.idle": "2025-04-01T20:30:14.297548Z",
     "shell.execute_reply": "2025-04-01T20:30:14.297085Z"
    }
   },
   "outputs": [
    {
     "name": "stdout",
     "output_type": "stream",
     "text": [
      "153\n"
     ]
    }
   ],
   "source": [
    "def gcd(a, b):\n",
    "    while b:\n",
    "        a, b = b, a % b\n",
    "    return a\n",
    "\n",
    "def reduce(a, b):\n",
    "    '''returns (c, d) such that a/b = c/d and c/d is in lowest common terms'''\n",
    "    return (a // gcd(a, b), b // gcd(a, b))\n",
    "\n",
    "count = 0\n",
    "(a, b) = (1, 1)\n",
    "\n",
    "for i in range(1000):\n",
    "    (a, b) = reduce(a + 2*b, a + b)\n",
    "    if len(str(a)) > len(str(b)):\n",
    "        count += 1\n",
    "\n",
    "print(count)"
   ]
  }
 ],
 "metadata": {
  "kernelspec": {
   "display_name": "Python 3",
   "language": "python",
   "name": "python3"
  },
  "language_info": {
   "codemirror_mode": {
    "name": "ipython",
    "version": 3
   },
   "file_extension": ".py",
   "mimetype": "text/x-python",
   "name": "python",
   "nbconvert_exporter": "python",
   "pygments_lexer": "ipython3",
   "version": "3.12.3"
  }
 },
 "nbformat": 4,
 "nbformat_minor": 2
}
