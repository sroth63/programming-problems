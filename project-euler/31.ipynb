{
 "cells": [
  {
   "cell_type": "markdown",
   "metadata": {},
   "source": [
    "## 31 - Coin Sums\n",
    "> In the United Kingdom the currency is made up of pound (£) and pence (p). There are eight coins in general circulation:\\\n",
    "    1p, 2p, 5p, 10p, 20p, 50p, £1 (100p), and £2 (200p).\n",
    "    <p>It is possible to make £2 in the following way:</p>\n",
    "    1×£1 + 1×50p + 2×20p + 1×5p + 1×2p + 3×1p\n",
    "    <p>How many different ways can £2 be made using any number of coins?</p>\n",
    "\n",
    "Let $w(t,c)$ be the number of ways $t$ pence can be made using only coins of value $\\le c$. Then we have the following recursion: $$w(t,c)=\\begin{cases}0 &\\text{ if } t=0 \\text{ or } c = 0 \\\\ \\sum_{i=0}^{\\lfloor t/c\\rfloor} w(t-i c,p(c)) &\\text{ else}\\end{cases}$$ where $p(c)$ is the value of the biggest coin smaller than $c$."
   ]
  },
  {
   "cell_type": "code",
   "execution_count": 1,
   "metadata": {
    "execution": {
     "iopub.execute_input": "2025-04-01T20:27:56.035069Z",
     "iopub.status.busy": "2025-04-01T20:27:56.034626Z",
     "iopub.status.idle": "2025-04-01T20:27:56.081142Z",
     "shell.execute_reply": "2025-04-01T20:27:56.080211Z"
    }
   },
   "outputs": [
    {
     "name": "stdout",
     "output_type": "stream",
     "text": [
      "73682\n"
     ]
    }
   ],
   "source": [
    "p = {2:1, 5:2, 10:5, 20:10, 50:20, 100:50, 200:100}\n",
    "\n",
    "def w(t, c):\n",
    "    if t == 0 or c == 1:\n",
    "        return 1\n",
    "    return sum(w(t-i*c, p[c]) for i in range(t//c + 1))\n",
    "\n",
    "print(w(200,200))"
   ]
  }
 ],
 "metadata": {
  "kernelspec": {
   "display_name": "Python 3",
   "language": "python",
   "name": "python3"
  },
  "language_info": {
   "codemirror_mode": {
    "name": "ipython",
    "version": 3
   },
   "file_extension": ".py",
   "mimetype": "text/x-python",
   "name": "python",
   "nbconvert_exporter": "python",
   "pygments_lexer": "ipython3",
   "version": "3.12.3"
  }
 },
 "nbformat": 4,
 "nbformat_minor": 2
}
