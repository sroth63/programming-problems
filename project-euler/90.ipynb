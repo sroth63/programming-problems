{
 "cells": [
  {
   "cell_type": "markdown",
   "metadata": {},
   "source": [
    "## 90 - Cube Digit Pairs\n",
    "> Each of the six faces on a cube has a different digit ($0$ to $9$) written on it; the same is done to a second cube. By placing the two cubes side-by-side in different positions we can form a variety of $2$-digit numbers.\n",
    "    <p>For example, the square number $64$ could be formed:</p>\n",
    "    <div class=\"center\">\n",
    "    <img src=\"https://projecteuler.net/resources/images/0090.png?1678992052\" class=\"dark_img\" alt=\"\"><br></div>\n",
    "    <p>In fact, by carefully choosing the digits on both cubes it is possible to display all of the square numbers below one-hundred: $01$, $04$, $09$, $16$, $25$, $36$, $49$, $64$, and $81$.</p>\n",
    "    <p>For example, one way this can be achieved is by placing $\\{0, 5, 6, 7, 8, 9\\}$ on one cube and $\\{1, 2, 3, 4, 8, 9\\}$ on the other cube.</p>\n",
    "    <p>However, for this problem we shall allow the $6$ or $9$ to be turned upside-down so that an arrangement like $\\{0, 5, 6, 7, 8, 9\\}$ and $\\{1, 2, 3, 4, 6, 7\\}$ allows for all nine square numbers to be displayed; otherwise it would be impossible to obtain $09$.</p>\n",
    "    <p>In determining a distinct arrangement we are interested in the digits on each cube, not the order.</p>\n",
    "    <ul style=\"list-style-type:none;\"><li>$\\{1, 2, 3, 4, 5, 6\\}$ is equivalent to $\\{3, 6, 4, 1, 2, 5\\}$</li>\n",
    "    <li>$\\{1, 2, 3, 4, 5, 6\\}$ is distinct from $\\{1, 2, 3, 4, 5, 9\\}$</li></ul>\n",
    "    <p>But because we are allowing $6$ and $9$ to be reversed, the two distinct sets in the last example both represent the extended set $\\{1, 2, 3, 4, 5, 6, 9\\}$ for the purpose of forming $2$-digit numbers.</p>\n",
    "    <p>How many distinct arrangements of the two cubes allow for all of the square numbers to be displayed?</p>\n",
    "\n",
    "I bruteforced all the possible arrangements; this is actually really quick."
   ]
  },
  {
   "cell_type": "code",
   "execution_count": 6,
   "metadata": {},
   "outputs": [
    {
     "name": "stdout",
     "output_type": "stream",
     "text": [
      "1217\n"
     ]
    }
   ],
   "source": [
    "def generate_subsets(k, elements=range(10)):\n",
    "    \"\"\"\n",
    "    Generate all subsets of the given elements of size k.\n",
    "    \"\"\"\n",
    "    if k == 0:\n",
    "        return [[]]\n",
    "    \n",
    "    # Recursively generate subsets of size k-1.\n",
    "    smaller_subsets = generate_subsets(k - 1, elements)\n",
    "    new_subsets = []\n",
    "    for subset in smaller_subsets:\n",
    "        for e in elements:\n",
    "            if e not in subset:\n",
    "                candidate = sorted(subset + [e])\n",
    "                if candidate not in new_subsets:\n",
    "                    new_subsets.append(candidate)\n",
    "    return new_subsets\n",
    "\n",
    "\n",
    "def has_pair(a, b, set1, set2):\n",
    "    \"\"\"\n",
    "    Check if one set contains a and the other contains b.\n",
    "    \"\"\"\n",
    "    return (a in set1 and b in set2) or (a in set2 and b in set1)\n",
    "\n",
    "\n",
    "def valid_square_configuration(set1, set2):\n",
    "    \"\"\"\n",
    "    Check if the two subsets form a valid configuration to display square numbers.\n",
    "    \"\"\"\n",
    "    return (has_pair(0, 1, set1, set2) and \n",
    "            has_pair(0, 4, set1, set2) and \n",
    "            (has_pair(0, 9, set1, set2) or has_pair(0, 6, set1, set2)) and \n",
    "            (has_pair(1, 6, set1, set2) or has_pair(1, 9, set1, set2)) and \n",
    "            has_pair(2, 5, set1, set2) and \n",
    "            (has_pair(3, 6, set1, set2) or has_pair(3, 9, set1, set2)) and \n",
    "            (has_pair(4, 9, set1, set2) or has_pair(4, 6, set1, set2)) and \n",
    "            (has_pair(6, 4, set1, set2) or has_pair(9, 4, set1, set2)) and \n",
    "            has_pair(8, 1, set1, set2))\n",
    "\n",
    "# Generate all 6-element subsets of digits 0 through 9.\n",
    "subsets_of_six = generate_subsets(6)\n",
    "valid_configurations_count = 0\n",
    "\n",
    "# Compare each pair of subsets. Since the order does not matter,\n",
    "# the final count will be halved.\n",
    "for subset1 in subsets_of_six:\n",
    "    for subset2 in subsets_of_six:\n",
    "        if valid_square_configuration(subset1, subset2):\n",
    "            valid_configurations_count += 1\n",
    "\n",
    "# Each configuration is counted twice (order of subsets does not matter).\n",
    "print(valid_configurations_count // 2)"
   ]
  }
 ],
 "metadata": {
  "kernelspec": {
   "display_name": "Python 3",
   "language": "python",
   "name": "python3"
  },
  "language_info": {
   "codemirror_mode": {
    "name": "ipython",
    "version": 3
   },
   "file_extension": ".py",
   "mimetype": "text/x-python",
   "name": "python",
   "nbconvert_exporter": "python",
   "pygments_lexer": "ipython3",
   "version": "3.12.3"
  }
 },
 "nbformat": 4,
 "nbformat_minor": 2
}
