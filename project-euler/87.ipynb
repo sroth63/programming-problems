{
 "cells": [
  {
   "cell_type": "markdown",
   "metadata": {},
   "source": [
    "## 87 - Prime Power Triples\n",
    "> The smallest number expressible as the sum of a prime square, prime cube, and prime fourth power is $28$. In fact, there are exactly four numbers below fifty that can be expressed in such a way:$$\\begin{align}\n",
    "    28 &= 2^2 + 2^3 + 2^4\\\\\n",
    "    33 &= 3^2 + 2^3 + 2^4\\\\\n",
    "    49 &= 5^2 + 2^3 + 2^4\\\\\n",
    "    47 &= 2^2 + 3^3 + 2^4\n",
    "    \\end{align}$$\n",
    "    <p>How many numbers below fifty million can be expressed as the sum of a prime square, prime cube, and prime fourth power?</p>\n",
    "\n",
    "I bruteforced the problem, and my solutions turns out to be rather quick."
   ]
  },
  {
   "cell_type": "code",
   "execution_count": 1,
   "metadata": {},
   "outputs": [
    {
     "name": "stdout",
     "output_type": "stream",
     "text": [
      "1097343\n"
     ]
    }
   ],
   "source": [
    "def is_prime(n):\n",
    "    if n <= 1:\n",
    "        return False\n",
    "    for i in range(2, int(n**0.5) + 1):\n",
    "        if n % i == 0:\n",
    "            return False\n",
    "    return True\n",
    "\n",
    "\n",
    "def generate_prime_power(limit, exponent):\n",
    "    \"\"\"\n",
    "    Generate a list of p^exponent values for prime p, where p^exponent <= limit.\n",
    "    \"\"\"\n",
    "    max_base = int(limit ** (1 / exponent)) + 1\n",
    "    return [p ** exponent for p in range(2, max_base) if is_prime(p)]\n",
    "\n",
    "\n",
    "def count_distinct_prime_power_sums(limit):\n",
    "    \"\"\"\n",
    "    Count distinct numbers below the given limit that can be expressed as\n",
    "    the sum of a prime square, a prime cube, and a prime fourth power.\n",
    "    \"\"\"\n",
    "    prime_squares = generate_prime_power(limit, 2)\n",
    "    prime_cubes = generate_prime_power(limit, 3)\n",
    "    prime_fourths = generate_prime_power(limit, 4)\n",
    "\n",
    "    valid_sums = set()\n",
    "\n",
    "    for fourth in prime_fourths:\n",
    "        for cube in prime_cubes:\n",
    "            if fourth + cube > limit:\n",
    "                break  # further cubes will only increase the sum.\n",
    "            for square in prime_squares:\n",
    "                total = fourth + cube + square\n",
    "                if total <= limit:\n",
    "                    valid_sums.add(total)\n",
    "                else:\n",
    "                    break  # further squares will only increase the sum.\n",
    "    return len(valid_sums)\n",
    "\n",
    "limit = 50000000\n",
    "count = count_distinct_prime_power_sums(limit)\n",
    "print(count)"
   ]
  }
 ],
 "metadata": {
  "kernelspec": {
   "display_name": "Python 3",
   "language": "python",
   "name": "python3"
  },
  "language_info": {
   "codemirror_mode": {
    "name": "ipython",
    "version": 3
   },
   "file_extension": ".py",
   "mimetype": "text/x-python",
   "name": "python",
   "nbconvert_exporter": "python",
   "pygments_lexer": "ipython3",
   "version": "3.12.3"
  }
 },
 "nbformat": 4,
 "nbformat_minor": 2
}
