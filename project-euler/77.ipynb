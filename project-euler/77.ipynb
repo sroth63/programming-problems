{
 "cells": [
  {
   "cell_type": "markdown",
   "metadata": {},
   "source": [
    "## 77 - Prime Summations\n",
    "> It is possible to write ten as the sum of primes in exactly five different ways:$$\\begin{align}\n",
    "    &7 + 3\\\\\n",
    "    &5 + 5\\\\\n",
    "    &5 + 3 + 2\\\\\n",
    "    &3 + 3 + 2 + 2\\\\\n",
    "    &2 + 2 + 2 + 2 + 2\n",
    "    \\end{align}$$\n",
    "    <p>What is the first value which can be written as the sum of primes in over five thousand different ways?</p>\n",
    "\n",
    "We can easily adapt the solution of the last exercise."
   ]
  },
  {
   "cell_type": "code",
   "execution_count": 1,
   "metadata": {
    "execution": {
     "iopub.execute_input": "2025-04-01T20:31:32.077034Z",
     "iopub.status.busy": "2025-04-01T20:31:32.076075Z",
     "iopub.status.idle": "2025-04-01T20:31:32.164684Z",
     "shell.execute_reply": "2025-04-01T20:31:32.163936Z"
    }
   },
   "outputs": [
    {
     "name": "stdout",
     "output_type": "stream",
     "text": [
      "71\n"
     ]
    }
   ],
   "source": [
    "def is_prime(n):\n",
    "    if n <= 1:\n",
    "        return False\n",
    "    for i in range(2, int(n**0.5) + 1):\n",
    "        if n % i == 0:\n",
    "            return False\n",
    "    return True\n",
    "\n",
    "N = 100\n",
    "\n",
    "s = [[0 for _ in range(N+1)] for _ in range(N+1)] # s[n][k] = number of ways to write n as a sum of integers <= k\n",
    "for k in range(1, N+1):\n",
    "    s[0][k] = 1\n",
    "\n",
    "for n in range(1, N+1):\n",
    "    for k in range(1, N+1):\n",
    "        s[n][k] = sum(s[n-j][j] for j in range(1, min(k+1,n+1)) if is_prime(j))\n",
    "    if s[n][n] - is_prime(n) >= 5000: # if n is prime, we don't want to count the solution n = n\n",
    "        print(n)\n",
    "        break\n"
   ]
  }
 ],
 "metadata": {
  "kernelspec": {
   "display_name": "Python 3",
   "language": "python",
   "name": "python3"
  },
  "language_info": {
   "codemirror_mode": {
    "name": "ipython",
    "version": 3
   },
   "file_extension": ".py",
   "mimetype": "text/x-python",
   "name": "python",
   "nbconvert_exporter": "python",
   "pygments_lexer": "ipython3",
   "version": "3.12.3"
  }
 },
 "nbformat": 4,
 "nbformat_minor": 2
}
