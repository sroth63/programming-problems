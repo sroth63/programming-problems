{
 "cells": [
  {
   "cell_type": "markdown",
   "metadata": {},
   "source": [
    "## 100 - Arranged Probability\n",
    "> If a box contains twenty-one coloured discs, composed of fifteen blue discs and six red discs, and two discs were taken at random, it can be seen that the probability of taking two blue discs, $P(\\text{BB}) = (15/21) \\times (14/20) = 1/2$.\n",
    "    <p>The next such arrangement, for which there is exactly $50\\%$ chance of taking two blue discs at random, is a box containing eighty-five blue discs and thirty-five red discs.</p>\n",
    "    <p>By finding the first arrangement to contain over $10^{12} = 1\\,000\\,000\\,000\\,000$ discs in total, determine the number of blue discs that the box would contain.</p>\n",
    "\n",
    "Let $b$ be the number of blue discs and $t$ be the total number of discs. We want to solve the diophantine equation $\\frac{b}t \\times\\frac{b-1}{t-1}=\\frac 12$. I used [this online solver](https://www.alpertron.com.ar/QUAD.HTM) which gives a formula and explains the calcultion steps."
   ]
  },
  {
   "cell_type": "code",
   "execution_count": 6,
   "metadata": {},
   "outputs": [
    {
     "name": "stdout",
     "output_type": "stream",
     "text": [
      "756872327473\n"
     ]
    }
   ],
   "source": [
    "blue, total = 15, 21\n",
    "\n",
    "while total < 10**12:\n",
    "  blue, total = 3*blue + 2*total - 2, 4*blue + 3*total - 3\n",
    "\n",
    "print(blue)"
   ]
  }
 ],
 "metadata": {
  "kernelspec": {
   "display_name": "Python 3",
   "language": "python",
   "name": "python3"
  },
  "language_info": {
   "codemirror_mode": {
    "name": "ipython",
    "version": 3
   },
   "file_extension": ".py",
   "mimetype": "text/x-python",
   "name": "python",
   "nbconvert_exporter": "python",
   "pygments_lexer": "ipython3",
   "version": "3.12.3"
  }
 },
 "nbformat": 4,
 "nbformat_minor": 2
}
