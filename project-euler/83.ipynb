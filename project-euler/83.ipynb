{
 "cells": [
  {
   "cell_type": "markdown",
   "metadata": {},
   "source": [
    "## 83 - Path Sum: Four Ways\n",
    "> NOTE: This problem is a significantly more challenging version of <a href=\"https://projecteuler.net/problem=81\">Problem 81</a>.\n",
    "    <p>In the $5$ by $5$ matrix below, the minimal path sum from the top left to the bottom right, by moving left, right, up, and down, is indicated in bold red and is equal to $2297$.</p>\n",
    "    <div class=\"center\">$$\n",
    "    \\begin{pmatrix}\n",
    "    \\color{red}{131} & 673 & \\color{red}{234} & \\color{red}{103} & \\color{red}{18}\\\\\n",
    "    \\color{red}{201} & \\color{red}{96} & \\color{red}{342} & 965 & \\color{red}{150}\\\\\n",
    "    630 & 803 & 746 & \\color{red}{422} & \\color{red}{111}\\\\\n",
    "    537 & 699 & 497 & \\color{red}{121} & 956\\\\\n",
    "    805 & 732 & 524 & \\color{red}{37} & \\color{red}{331}\n",
    "    \\end{pmatrix}$$\n",
    "    </div>\n",
    "    <p>Find the minimal path sum from the top left to the bottom right by moving left, right, up, and down in <a href=\"https://projecteuler.net/resources/documents/0083_matrix.txt\">matrix.txt</a> (right click and \"Save Link/Target As...\"), a 31K text file containing an $80$ by $80$ matrix.</p>\n",
    "\n",
    "I used the same solution as in Problem 81. The only difference is the edges in the graph."
   ]
  },
  {
   "cell_type": "code",
   "execution_count": 1,
   "metadata": {
    "execution": {
     "iopub.execute_input": "2025-04-01T20:31:51.210140Z",
     "iopub.status.busy": "2025-04-01T20:31:51.209557Z",
     "iopub.status.idle": "2025-04-01T20:31:53.933312Z",
     "shell.execute_reply": "2025-04-01T20:31:53.932617Z"
    }
   },
   "outputs": [
    {
     "name": "stdout",
     "output_type": "stream",
     "text": [
      "425185\n"
     ]
    }
   ],
   "source": [
    "def dijkstra(G, source):\n",
    "    dist = {}\n",
    "    for u in G:\n",
    "        dist[u] = float('inf')\n",
    "    dist[source] = 0\n",
    "\n",
    "    non_visited = list(G.keys())\n",
    "\n",
    "    while non_visited:\n",
    "        u = non_visited[0]\n",
    "        for v in non_visited:\n",
    "            if dist[v] < dist[u]:\n",
    "                u = v\n",
    "\n",
    "        non_visited.remove(u)\n",
    "\n",
    "        for (v, weight) in G[u]:\n",
    "            alt = dist[u] + weight\n",
    "            if alt < dist[v]:\n",
    "                dist[v] = alt\n",
    "\n",
    "    return dist\n",
    "\n",
    "grid = [[int(n) for n in line.split(',')] for line in open(\"0083_matrix.txt\")]\n",
    "def graph(T):\n",
    "    n = len(T)\n",
    "    G = {}\n",
    "    for i in range(n):\n",
    "        for j in range(n):\n",
    "            G[(i,j)] = []\n",
    "            if i + 1 < n:\n",
    "                G[(i,j)].append(((i + 1, j), T[i+1][j]))\n",
    "            if j + 1 < n:\n",
    "                G[(i,j)].append(((i, j + 1), T[i][j+1]))\n",
    "            if i > 0:\n",
    "                G[(i,j)].append(((i - 1, j), T[i-1][j]))\n",
    "            if j > 0:\n",
    "                G[(i,j)].append(((i, j - 1), T[i][j-1]))\n",
    "    return G\n",
    "\n",
    "print(dijkstra(graph(grid), (0,0))[(79,79)] + grid[0][0])"
   ]
  }
 ],
 "metadata": {
  "kernelspec": {
   "display_name": "Python 3",
   "language": "python",
   "name": "python3"
  },
  "language_info": {
   "codemirror_mode": {
    "name": "ipython",
    "version": 3
   },
   "file_extension": ".py",
   "mimetype": "text/x-python",
   "name": "python",
   "nbconvert_exporter": "python",
   "pygments_lexer": "ipython3",
   "version": "3.12.3"
  }
 },
 "nbformat": 4,
 "nbformat_minor": 2
}
