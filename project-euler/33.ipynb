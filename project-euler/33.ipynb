{
 "cells": [
  {
   "cell_type": "markdown",
   "metadata": {},
   "source": [
    "## 33 - Digit Cancelling Fractions\n",
    "> The fraction $49/98$ is a curious fraction, as an inexperienced mathematician in attempting to simplify it may incorrectly believe that $49/98 = 4/8$, which is correct, is obtained by cancelling the $9$s.\\\n",
    "    <p>We shall consider fractions like, $30/50 = 3/5$, to be trivial examples.</p>\n",
    "    <p>There are exactly four non-trivial examples of this type of fraction, less than one in value, and containing two digits in the numerator and denominator.</p>\n",
    "    <p>If the product of these four fractions is given in its lowest common terms, find the value of the denominator.</p>\n",
    "\n",
    "I just went through every possible fraction. The last part of the algorithm (that writes the fraction in lowest common terms) turns out to be overkill because the product of the four fractions is $1/100$, so it can be done without calculations."
   ]
  },
  {
   "cell_type": "code",
   "execution_count": 1,
   "metadata": {
    "execution": {
     "iopub.execute_input": "2025-04-01T20:27:58.906037Z",
     "iopub.status.busy": "2025-04-01T20:27:58.905500Z",
     "iopub.status.idle": "2025-04-01T20:27:58.919419Z",
     "shell.execute_reply": "2025-04-01T20:27:58.918565Z"
    }
   },
   "outputs": [
    {
     "name": "stdout",
     "output_type": "stream",
     "text": [
      "100\n"
     ]
    }
   ],
   "source": [
    "numerator = 1\n",
    "denominator = 1\n",
    "\n",
    "for a in range(1, 10):\n",
    "    for b in range(1, 10):\n",
    "        for c in range(1, 10):\n",
    "            ab = 10*a+b\n",
    "            ac = 10*a+c\n",
    "            bc = 10*b+c\n",
    "            ca = 10*c+a\n",
    "            cb = 10*c+b\n",
    "            if ab < ca and ab*c == b*ca:\n",
    "                numerator *= ab\n",
    "                denominator *= ca\n",
    "            if ab < ac and ab*c == b*ac:\n",
    "                numerator *= ab\n",
    "                denominator *= ac\n",
    "            if ab < cb and ab*c == a*cb:\n",
    "                numerator *= ab\n",
    "                denominator *= cb\n",
    "            if ab < bc and ab*c == a*bc:\n",
    "                numerator *= ab\n",
    "                denominator *= bc\n",
    "\n",
    "d = 2\n",
    "while d <= numerator:\n",
    "    divisor = d\n",
    "    while numerator % divisor == 0 and denominator % divisor == 0:\n",
    "        divisor *= d\n",
    "    divisor //= d\n",
    "    numerator //= divisor\n",
    "    denominator //= divisor\n",
    "    d += 1\n",
    "    \n",
    "print(denominator)"
   ]
  }
 ],
 "metadata": {
  "kernelspec": {
   "display_name": "Python 3",
   "language": "python",
   "name": "python3"
  },
  "language_info": {
   "codemirror_mode": {
    "name": "ipython",
    "version": 3
   },
   "file_extension": ".py",
   "mimetype": "text/x-python",
   "name": "python",
   "nbconvert_exporter": "python",
   "pygments_lexer": "ipython3",
   "version": "3.12.3"
  }
 },
 "nbformat": 4,
 "nbformat_minor": 2
}
