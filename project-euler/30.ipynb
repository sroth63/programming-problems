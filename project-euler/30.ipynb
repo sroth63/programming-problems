{
 "cells": [
  {
   "cell_type": "markdown",
   "metadata": {},
   "source": [
    "## 30 - Digit Fifth Powers\n",
    "> Surprisingly there are only three numbers that can be written as the sum of fourth powers of their digits: $$\\begin{align}\n",
    "    1634 &= 1^4 + 6^4 + 3^4 + 4^4\\\\\n",
    "    8208 &= 8^4 + 2^4 + 0^4 + 8^4\\\\\n",
    "    9474 &= 9^4 + 4^4 + 7^4 + 4^4\n",
    "    \\end{align}$$\n",
    "    (As $1 = 1^4$ is not a sum it is not included.)\\\n",
    "    <p>The sum of these numbers is $1634 + 8208 + 9474 = 19316$.</p>\n",
    "    <p>Find the sum of all the numbers that can be written as the sum of fifth powers of their digits.</p>\n",
    "\n",
    "If $i$ as $k$ digits and can be written as the sum of the fifth powers of its digits, then $10^{k-1} \\le i \\le 9^5 k$. In particular, $10^{k-1} \\le 9^5 k$, and this gives an upper bound for the search."
   ]
  },
  {
   "cell_type": "code",
   "execution_count": 1,
   "metadata": {
    "execution": {
     "iopub.execute_input": "2025-04-01T20:27:50.867436Z",
     "iopub.status.busy": "2025-04-01T20:27:50.866992Z",
     "iopub.status.idle": "2025-04-01T20:27:54.892095Z",
     "shell.execute_reply": "2025-04-01T20:27:54.891216Z"
    }
   },
   "outputs": [
    {
     "name": "stdout",
     "output_type": "stream",
     "text": [
      "443839\n"
     ]
    }
   ],
   "source": [
    "def nb_digits(n):\n",
    "    return len(str(n))\n",
    "\n",
    "i = 10\n",
    "s = 0\n",
    "while 10**(nb_digits(i) - 1) <= nb_digits(i) * 9**5:\n",
    "    if sum(int(str(i)[j])**5 for j in range(nb_digits(i))) == i:\n",
    "        s+=i\n",
    "    i+=1\n",
    "\n",
    "print(s)"
   ]
  }
 ],
 "metadata": {
  "kernelspec": {
   "display_name": "Python 3",
   "language": "python",
   "name": "python3"
  },
  "language_info": {
   "codemirror_mode": {
    "name": "ipython",
    "version": 3
   },
   "file_extension": ".py",
   "mimetype": "text/x-python",
   "name": "python",
   "nbconvert_exporter": "python",
   "pygments_lexer": "ipython3",
   "version": "3.12.3"
  }
 },
 "nbformat": 4,
 "nbformat_minor": 2
}
