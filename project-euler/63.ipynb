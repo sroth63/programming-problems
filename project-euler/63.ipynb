{
  "cells": [
    {
      "cell_type": "markdown",
      "metadata": {},
      "source": [
        "## 63 - Powerful Digit Counts\n",
        "> The $5$-digit number, $16807=7^5$, is also a fifth power. Similarly, the $9$-digit number, $134217728=8^9$, is a ninth power.\n",
        "    <p>How many $n$-digit positive integers exist which are also an $n$ th power?</p>\n",
        "\n",
        "We are looking for integers $k$ and $n$ such that $10^{n-1}\\le k^n<10^n$, i.e. $10^{(n-1)/n} \\le k < 10$. For a given $n$, there are solutions if and only if $10^{(n-1)/n} \\le 9$ and in this case, the number of solutions is exactly $10-\\lceil 10^{(n-1)/n}\\rceil$."
      ]
    },
    {
      "cell_type": "code",
      "execution_count": 1,
      "metadata": {},
      "outputs": [
        {
          "name": "stdout",
          "output_type": "stream",
          "text": [
            "49\n"
          ]
        }
      ],
      "source": [
        "def ceil(x):\n",
        "    i = int(x)\n",
        "    if x > 0 and x != i:\n",
        "        return i + 1\n",
        "    return i\n",
        "\n",
        "n=1\n",
        "count = 0\n",
        "while (bound := 10**((n-1)/n)) <= 9:\n",
        "    count += 10-ceil(bound)\n",
        "    n += 1\n",
        "print(count)"
      ]
    }
  ],
  "metadata": {
    "kernelspec": {
      "display_name": "Python 3",
      "language": "python",
      "name": "python3"
    },
    "language_info": {
      "codemirror_mode": {
        "name": "ipython",
        "version": 3
      },
      "file_extension": ".py",
      "mimetype": "text/x-python",
      "name": "python",
      "nbconvert_exporter": "python",
      "pygments_lexer": "ipython3",
      "version": "3.12.3"
    }
  },
  "nbformat": 4,
  "nbformat_minor": 2
}
