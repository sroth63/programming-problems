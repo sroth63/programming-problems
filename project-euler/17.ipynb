{
 "cells": [
  {
   "cell_type": "markdown",
   "metadata": {},
   "source": [
    "## 17 - Number Letter Counts\n",
    "> If the numbers $1$ to $5$ are written out in words: one, two, three, four, five, then there are $3 + 3 + 5 + 4 + 4 = 19$ letters used in total. \\\n",
    "  If all the numbers from $1$ to $1000$ (one thousand) inclusive were written out in words, how many letters would be used? \\\n",
    " **NOTE:** Do not count spaces or hyphens. For example, $342$ (three hundred and forty-two) contains $23$ letters and $115$ (one hundred and fifteen) contains $20$ letters. The use of \"and\" when writing out numbers is in compliance with British usage.\n"
   ]
  },
  {
   "cell_type": "code",
   "execution_count": 1,
   "metadata": {
    "execution": {
     "iopub.execute_input": "2025-04-01T20:27:31.429148Z",
     "iopub.status.busy": "2025-04-01T20:27:31.428595Z",
     "iopub.status.idle": "2025-04-01T20:27:31.453082Z",
     "shell.execute_reply": "2025-04-01T20:27:31.452332Z"
    }
   },
   "outputs": [
    {
     "name": "stdout",
     "output_type": "stream",
     "text": [
      "21124\n"
     ]
    }
   ],
   "source": [
    "def number_of_letters(n):\n",
    "    nb_digits = len(str(n))\n",
    "    fst = int(str(n)[0])\n",
    "    if nb_digits >= 2:\n",
    "        snd = int(str(n)[1])\n",
    "    if nb_digits >= 3:\n",
    "        trd = int(str(n)[2])\n",
    "    \n",
    "    if n==1 or n==2 or n==6 or n==10:\n",
    "        return 3\n",
    "    elif n==3 or n==7 or n==8 or n==40 or n==50 or n==60:\n",
    "        return 5\n",
    "    elif n==4 or n==5 or n==9:\n",
    "        return 4\n",
    "    elif n==11 or n==12 or n==20 or n==30 or n==80 or n==90:\n",
    "        return 6\n",
    "    elif n==13 or n==18:\n",
    "        return 8\n",
    "    elif n==15 or n==70:\n",
    "        return 7\n",
    "    elif n==1000:\n",
    "        return 11\n",
    "\n",
    "    elif nb_digits==2 and fst==1:\n",
    "        return 4+number_of_letters(snd)\n",
    "    elif nb_digits==2 and fst in [2,3,8,9]:\n",
    "        return 6+number_of_letters(snd)\n",
    "    elif nb_digits==2 and fst in [4,5,6]:\n",
    "        return 5+number_of_letters(snd)\n",
    "    elif nb_digits==2 and fst==7:\n",
    "        return 7+number_of_letters(snd)\n",
    "    elif nb_digits==3 and snd==0 and trd==0:\n",
    "        return 7+number_of_letters(fst)\n",
    "    elif nb_digits==3 and snd==0:\n",
    "        return 10+number_of_letters(fst)+number_of_letters(trd)\n",
    "    else:\n",
    "        return 10+number_of_letters(fst)+number_of_letters(int(str(n)[1:3]))\n",
    "        \n",
    "print(sum(number_of_letters(i) for i in range(1,1001)))"
   ]
  }
 ],
 "metadata": {
  "kernelspec": {
   "display_name": "Python 3",
   "language": "python",
   "name": "python3"
  },
  "language_info": {
   "codemirror_mode": {
    "name": "ipython",
    "version": 3
   },
   "file_extension": ".py",
   "mimetype": "text/x-python",
   "name": "python",
   "nbconvert_exporter": "python",
   "pygments_lexer": "ipython3",
   "version": "3.12.3"
  }
 },
 "nbformat": 4,
 "nbformat_minor": 2
}
