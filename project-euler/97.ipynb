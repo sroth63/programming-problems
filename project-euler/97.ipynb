{
 "cells": [
  {
   "cell_type": "markdown",
   "metadata": {},
   "source": [
    "## 97 - Large Non-Mersenne Prime\n",
    "> The first known prime found to exceed one million digits was discovered in 1999, and is a Mersenne prime of the form $2^{6972593} - 1$; it contains exactly $2\\,098\\,960$ digits. Subsequently other Mersenne primes, of the form $2^p - 1$, have been found which contain more digits.\n",
    "    <p>However, in 2004 there was found a massive non-Mersenne prime which contains $2\\,357\\,207$ digits: $28433 \\times 2^{7830457} + 1$.</p>\n",
    "    <p>Find the last ten digits of this prime number.</p>\n",
    "\n",
    "We want to compute $28433 \\times 2^{7830457} + 1$ modulo $10^{10}$, which can be done easily with modular exponentiation."
   ]
  },
  {
   "cell_type": "code",
   "execution_count": 1,
   "metadata": {},
   "outputs": [
    {
     "name": "stdout",
     "output_type": "stream",
     "text": [
      "8739992577\n"
     ]
    }
   ],
   "source": [
    "print((28433 * pow(2, 7830457, 10**10) + 1) % 10**10)"
   ]
  }
 ],
 "metadata": {
  "kernelspec": {
   "display_name": "Python 3",
   "language": "python",
   "name": "python3"
  },
  "language_info": {
   "codemirror_mode": {
    "name": "ipython",
    "version": 3
   },
   "file_extension": ".py",
   "mimetype": "text/x-python",
   "name": "python",
   "nbconvert_exporter": "python",
   "pygments_lexer": "ipython3",
   "version": "3.12.3"
  }
 },
 "nbformat": 4,
 "nbformat_minor": 2
}
