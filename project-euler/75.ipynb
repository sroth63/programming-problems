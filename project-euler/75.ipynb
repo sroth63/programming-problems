{
 "cells": [
  {
   "cell_type": "markdown",
   "metadata": {},
   "source": [
    "## 75 - Singular Integer Right Triangles\n",
    "> It turns out that $12 cm$ is the smallest length of wire that can be bent to form an integer sided right angle triangle in exactly one way, but there are many more examples.\n",
    "    <ul style=\"list-style-type:none;\">\n",
    "    <li>$\\mathbf{12} \\mathbf{cm}$: $(3,4,5)$</li>\n",
    "    <li>$\\mathbf{24} \\mathbf{cm}$: $(6,8,10)$</li>\n",
    "    <li>$\\mathbf{30} \\mathbf{cm}$: $(5,12,13)$</li>\n",
    "    <li>$\\mathbf{36} \\mathbf{cm}$: $(9,12,15)$</li>\n",
    "    <li>$\\mathbf{40} \\mathbf{cm}$: $(8,15,17)$</li>\n",
    "    <li>$\\mathbf{48} \\mathbf{cm}$: $(12,16,20)$</li></ul>\n",
    "    <p>In contrast, some lengths of wire, like $20 cm$, cannot be bent to form an integer sided right angle triangle, and other lengths allow more than one solution to be found; for example, using $120 cm$ it is possible to form exactly three different integer sided right angle triangles.</p>\n",
    "    <ul style=\"list-style-type:none;\">\n",
    "    <li>$\\mathbf{120} \\mathbf{cm}$: $(30,40,50)$, $(20,48,52)$, $(24,45,51)$</li></ul>\n",
    "    <p>Given that $L$ is the length of the wire, for how many values of $L \\le 1\\,500\\,000$ can exactly one integer sided right angle triangle be formed?</p>\n",
    "\n",
    "We are looking for Pythagorean triples $(x,y,z)$ , that is, triples $(x,y,z)$ of positive integers such that $x^2+y^2=z^2$.\n",
    "\n",
    "It is well known that the solutions of this equation, assuming $x$ is odd and $y$ is even ($x$ and $y$ can't have the same parity), is given by $x=k(p^2-q^2)$, $y=2 k p q$ and $z=k(p^2+q^2)$, where $p$ and $q$ are coprime, of different parity and $p>q$.\n",
    "\n",
    "The corresponding perimeter is $P=x+y+z=2 k p (p+q)$."
   ]
  },
  {
   "cell_type": "code",
   "execution_count": 1,
   "metadata": {
    "execution": {
     "iopub.execute_input": "2025-04-01T20:31:29.061256Z",
     "iopub.status.busy": "2025-04-01T20:31:29.061081Z",
     "iopub.status.idle": "2025-04-01T20:31:29.866320Z",
     "shell.execute_reply": "2025-04-01T20:31:29.865783Z"
    }
   },
   "outputs": [
    {
     "name": "stdout",
     "output_type": "stream",
     "text": [
      "161667\n"
     ]
    }
   ],
   "source": [
    "N = 1500000\n",
    "ways = {}\n",
    "\n",
    "def gcd(a, b):\n",
    "    while b:\n",
    "        a, b = b, a % b\n",
    "    return a\n",
    "\n",
    "for p in range(1, int((N//2)**0.5)+2):\n",
    "    for p_plus_q in range(p+1, 2*p):\n",
    "        if p_plus_q % 2 == 1 and gcd(p, p_plus_q)==1:\n",
    "            for k in range(1, (N//(2*p*p_plus_q)) + 1):\n",
    "                perim = 2 * k * p * p_plus_q\n",
    "                ways[perim] = ways.get(perim, 0) + 1\n",
    "\n",
    "count=0\n",
    "for perim in ways:\n",
    "    if ways[perim]==1:\n",
    "        count+=1\n",
    "\n",
    "print(count)"
   ]
  }
 ],
 "metadata": {
  "kernelspec": {
   "display_name": "Python 3",
   "language": "python",
   "name": "python3"
  },
  "language_info": {
   "codemirror_mode": {
    "name": "ipython",
    "version": 3
   },
   "file_extension": ".py",
   "mimetype": "text/x-python",
   "name": "python",
   "nbconvert_exporter": "python",
   "pygments_lexer": "ipython3",
   "version": "3.12.3"
  }
 },
 "nbformat": 4,
 "nbformat_minor": 2
}
