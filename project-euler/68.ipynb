{
 "cells": [
  {
   "cell_type": "markdown",
   "metadata": {},
   "source": [
    "## 68 - Magic 5-gon Ring\n",
    "> Consider the following \"magic\" 3-gon ring, filled with the numbers 1 to 6, and each line adding to nine.\n",
    "    <div class=\"center\">\n",
    "    <img src=\"https://projecteuler.net/resources/images/0068_1.png?1678992052\" class=\"dark_img\" alt=\"\"><br></div>\n",
    "    <p>Working <b>clockwise</b>, and starting from the group of three with the numerically lowest external node (4,3,2 in this example), each solution can be described uniquely. For example, the above solution can be described by the set: 4,3,2; 6,2,1; 5,1,3.</p>\n",
    "    <p>It is possible to complete the ring with four different totals: 9, 10, 11, and 12. There are eight solutions in total.</p>\n",
    "    <div class=\"center\">\n",
    "    <table width=\"400\" cellspacing=\"0\" cellpadding=\"0\"><tr><td width=\"100\"><b>Total</b></td><td width=\"300\"><b>Solution Set</b></td>\n",
    "    </tr><tr><td>9</td><td>4,2,3; 5,3,1; 6,1,2</td>\n",
    "    </tr><tr><td>9</td><td>4,3,2; 6,2,1; 5,1,3</td>\n",
    "    </tr><tr><td>10</td><td>2,3,5; 4,5,1; 6,1,3</td>\n",
    "    </tr><tr><td>10</td><td>2,5,3; 6,3,1; 4,1,5</td>\n",
    "    </tr><tr><td>11</td><td>1,4,6; 3,6,2; 5,2,4</td>\n",
    "    </tr><tr><td>11</td><td>1,6,4; 5,4,2; 3,2,6</td>\n",
    "    </tr><tr><td>12</td><td>1,5,6; 2,6,4; 3,4,5</td>\n",
    "    </tr><tr><td>12</td><td>1,6,5; 3,5,4; 2,4,6</td>\n",
    "    </tr></table></div>\n",
    "    <p>By concatenating each group it is possible to form 9-digit strings; the maximum string for a 3-gon ring is 432621513.</p>\n",
    "    <p>Using the numbers 1 to 10, and depending on arrangements, it is possible to form 16- and 17-digit strings. What is the maximum <b>16-digit</b> string for a \"magic\" 5-gon ring?</p>\n",
    "    <div class=\"center\">\n",
    "    <img src=\"https://projecteuler.net/resources/images/0068_2.png?1678992052\" class=\"dark_img\" alt=\"\"><br></div>\n",
    "\n",
    "Let $e$ the sum of the external nodes and $i$ the sum of the internal nodes. The sum of each line of $3$ is $\\frac{e+2 i}5=\\frac{1+2+\\dots+10+i}5=11+\\frac i5$. Thus $i$ is a multiple of $5$.\n",
    "\n",
    "In addition, the number $10$ is always on an external node, otherwise we would get a 17-digit string. So I just went through every possible permutation of the external nodes, and for each such permutation I went through every possible permutation of the internal nodes."
   ]
  },
  {
   "cell_type": "code",
   "execution_count": 1,
   "metadata": {
    "execution": {
     "iopub.execute_input": "2025-04-01T20:31:09.347546Z",
     "iopub.status.busy": "2025-04-01T20:31:09.347094Z",
     "iopub.status.idle": "2025-04-01T20:31:09.387276Z",
     "shell.execute_reply": "2025-04-01T20:31:09.386203Z"
    }
   },
   "outputs": [
    {
     "name": "stdout",
     "output_type": "stream",
     "text": [
      "6531031914842725\n"
     ]
    }
   ],
   "source": [
    "def sublists_length_4(lst):\n",
    "    '''returns all the sublists of length 4 of the list lst'''\n",
    "    assert len(lst) >= 4\n",
    "    sublists = []\n",
    "    for i in range(len(lst) - 3):\n",
    "        for j in range(i + 1, len(lst) - 2):\n",
    "            for k in range(j + 1, len(lst) - 1):\n",
    "                for l in range(k + 1, len(lst)):\n",
    "                    sublists.append([lst[i], lst[j], lst[k], lst[l]])\n",
    "    return sublists\n",
    "\n",
    "def permutations(lst):\n",
    "    '''returns the list of all permutations of the list lst'''\n",
    "    if lst == []:\n",
    "        return [[]]\n",
    "    if len(lst) == 1:\n",
    "        return [lst]\n",
    "    r = []\n",
    "    p = permutations(lst[1:])\n",
    "    j = lst[0]\n",
    "    for i in range(len(p)):\n",
    "        for k in range(len(p[i])+1):\n",
    "            r.append(p[i][:k]+[j]+p[i][k:])\n",
    "    return r\n",
    "\n",
    "externals = sublists_length_4([1,2,3,4,5,6,7,8,9])\n",
    "candidates = []\n",
    "\n",
    "for ext in externals:\n",
    "    int = [i for i in range(1,10) if not(i in ext)]\n",
    "    ext = ext + [10]\n",
    "    if sum(int) % 5 == 0:\n",
    "        total = 11 + sum(int) // 5\n",
    "        internals = permutations(int)\n",
    "        for p in internals:\n",
    "            branches = [(total - p[i] - p[(i+1)%5], p[i], p[(i+1)%5]) for i in range(5)]\n",
    "            external = list(map(lambda u:u[0], branches))\n",
    "            if sorted(external)==sorted(ext):\n",
    "                while branches[0][0] != min(external): # lowest external node first\n",
    "                    branches = branches[1:] + [branches[0]]\n",
    "                string = \"\"\n",
    "                for branch in branches:\n",
    "                    for node in branch:\n",
    "                        string += str(node)\n",
    "                candidates.append(string)\n",
    "\n",
    "print(max(candidates))"
   ]
  }
 ],
 "metadata": {
  "kernelspec": {
   "display_name": "Python 3",
   "language": "python",
   "name": "python3"
  },
  "language_info": {
   "codemirror_mode": {
    "name": "ipython",
    "version": 3
   },
   "file_extension": ".py",
   "mimetype": "text/x-python",
   "name": "python",
   "nbconvert_exporter": "python",
   "pygments_lexer": "ipython3",
   "version": "3.12.3"
  }
 },
 "nbformat": 4,
 "nbformat_minor": 2
}
