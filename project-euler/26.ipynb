{
 "cells": [
  {
   "cell_type": "markdown",
   "metadata": {},
   "source": [
    "## 26 - Reciprocal Cycles\n",
    "> A unit fraction contains $1$ in the numerator. The decimal representation of the unit fractions with denominators $2$ to $10$ are given: $$\\begin{align}\n",
    "    1/2 &= 0.5\\\\\n",
    "    1/3 &=0.(3)\\\\\n",
    "    1/4 &=0.25\\\\\n",
    "    1/5 &= 0.2\\\\\n",
    "    1/6 &= 0.1(6)\\\\\n",
    "    1/7 &= 0.(142857)\\\\\n",
    "    1/8 &= 0.125\\\\\n",
    "    1/9 &= 0.(1)\\\\\n",
    "    1/10 &= 0.1\n",
    "    \\end{align}$$\n",
    "    <p>Where $0.1(6)$ means $0.166666\\cdots$, and has a $1$-digit recurring cycle. It can be seen that $1/7$ has a $6$-digit recurring cycle.</p>\n",
    "    <p>Find the value of $d \\lt 1000$ for which $1/d$ contains the longest recurring cycle in its decimal fraction part.</p>\n",
    "\n",
    "We write $\\frac 1d=d_0 . d_1d_2d_3...$ and we want to find the digits $(d_n)_{n\\in\\mathbb N}$.\n",
    "\n",
    "We define $a_n=d_n.d_{n+1} d_{n+2}...$. We have $d_n = \\lfloor a_n \\rfloor$, and it can be easily seen by induction that $\\begin{cases}a_0 = \\frac 1d \\\\ \\forall n \\in\\mathbb N,a_{n+1} = 10 \\{ a_n\\}\\end{cases}$ where $\\{a_n\\}$ is the fractional part of $a_n$.\n",
    "\n",
    "The problem is that this sequence is not convenient to compute, because its terms are not integers. So instead, we consider the sequence $r_n = d a_n$. It can be seen by induction that $\\begin{cases}r_0 = 1 \\\\ \\forall n \\in\\mathbb N,r_{n+1} = 10 (r_n \\mod d)\\end{cases}$ which will allow us to compute this sequence easily and efficiently.\n",
    "\n",
    "Now, how do we find the longest recurring cycle? We can't just look at the digits: for instance, the decimal expansion of $\\frac 1{17}$ begins by $0.0588$ but isn't equal to $0.05(8)$. However, if $r_i = r_j$ for $i<j$, then $\\frac 1d = d_0.d_1...d_{i-1} (d_i ... d_{j-1})$. This is because we have a recurrence relation on $(r_n)$, and $d_n$ depends only on $r_n$. And the converse is also true: if there is a recurring cycle $\\frac 1d = d_0.d_1...d_{i-1} (d_i ... d_{j-1})$ then $a_i=a_j$ and $r_i=r_j$. So we just have to compute the terms of the sequence $(r_n)$ until we find a value we already had."
   ]
  },
  {
   "cell_type": "code",
   "execution_count": 1,
   "metadata": {
    "execution": {
     "iopub.execute_input": "2025-04-01T20:27:45.049903Z",
     "iopub.status.busy": "2025-04-01T20:27:45.049052Z",
     "iopub.status.idle": "2025-04-01T20:27:45.267664Z",
     "shell.execute_reply": "2025-04-01T20:27:45.266961Z"
    }
   },
   "outputs": [
    {
     "name": "stdout",
     "output_type": "stream",
     "text": [
      "983\n"
     ]
    }
   ],
   "source": [
    "def length(d):\n",
    "    '''returns the length of the recurring cycle in the decimal representation of 1/d (for d >= 2)'''\n",
    "    remainders = []\n",
    "    r = 10\n",
    "    while not(r in remainders):\n",
    "        remainders.append(r)\n",
    "        r = 10 * (r % d)\n",
    "    for i in range(len(remainders)):\n",
    "        if remainders[i] == r:\n",
    "            return len(remainders) - i\n",
    "\n",
    "max_length = 0\n",
    "\n",
    "for d in range(2, 1000):\n",
    "    p = length(d)\n",
    "    if p > max_length:\n",
    "        max_length = p\n",
    "        d0 = d\n",
    "\n",
    "print(d0)"
   ]
  }
 ],
 "metadata": {
  "kernelspec": {
   "display_name": "Python 3",
   "language": "python",
   "name": "python3"
  },
  "language_info": {
   "codemirror_mode": {
    "name": "ipython",
    "version": 3
   },
   "file_extension": ".py",
   "mimetype": "text/x-python",
   "name": "python",
   "nbconvert_exporter": "python",
   "pygments_lexer": "ipython3",
   "version": "3.12.3"
  }
 },
 "nbformat": 4,
 "nbformat_minor": 2
}
