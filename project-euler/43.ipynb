{
 "cells": [
  {
   "cell_type": "markdown",
   "metadata": {},
   "source": [
    "## 43 - Sub-string Divisibility\n",
    "> The number, $1406357289$, is a $0$ to $9$ pandigital number because it is made up of each of the digits $0$ to $9$ in some order, but it also has a rather interesting sub-string divisibility property.</p>\n",
    "    <p>Let $d_1$ be the $1$<sup>st</sup> digit, $d_2$ be the $2$<sup>nd</sup> digit, and so on. In this way, we note the following:\n",
    "    <ul><li>$d_2d_3d_4=406$ is divisible by $2$</li>\n",
    "    <li>$d_3d_4d_5=063$ is divisible by $3$</li>\n",
    "    <li>$d_4d_5d_6=635$ is divisible by $5$</li>\n",
    "    <li>$d_5d_6d_7=357$ is divisible by $7$</li>\n",
    "    <li>$d_6d_7d_8=572$ is divisible by $11$</li>\n",
    "    <li>$d_7d_8d_9=728$ is divisible by $13$</li>\n",
    "    <li>$d_8d_9d_{10}=289$ is divisible by $17$</li>\n",
    "    </ul><p>Find the sum of all $0$ to $9$ pandigital numbers with this property.</p>"
   ]
  },
  {
   "cell_type": "code",
   "execution_count": 1,
   "metadata": {
    "execution": {
     "iopub.execute_input": "2025-04-01T20:29:35.928733Z",
     "iopub.status.busy": "2025-04-01T20:29:35.927833Z",
     "iopub.status.idle": "2025-04-01T20:29:41.655311Z",
     "shell.execute_reply": "2025-04-01T20:29:41.654443Z"
    }
   },
   "outputs": [
    {
     "name": "stdout",
     "output_type": "stream",
     "text": [
      "16695334890\n"
     ]
    }
   ],
   "source": [
    "def pandigitals(n): #list of all the 0 to n pandigital numbers\n",
    "    if n==0:\n",
    "        return [\"0\"]\n",
    "    else:\n",
    "        l=pandigitals(n-1)\n",
    "        l1=[]\n",
    "        for i in range(len(l)):\n",
    "            a=l[i]\n",
    "            for j in range(n+1):\n",
    "                l1.append(a[0:j]+str(n)+a[j:])\n",
    "    return l1\n",
    "\n",
    "primes = [2,3,5,7,11,13,17]\n",
    "l=pandigitals(9)\n",
    "l1=[]\n",
    "for s in l:\n",
    "    if s[0]!='0' and all(int(s[i+1:i+4]) % primes[i] == 0 for i in range(7)):\n",
    "        l1.append(int(s))\n",
    "\n",
    "print(sum(l1))"
   ]
  }
 ],
 "metadata": {
  "kernelspec": {
   "display_name": "Python 3",
   "language": "python",
   "name": "python3"
  },
  "language_info": {
   "codemirror_mode": {
    "name": "ipython",
    "version": 3
   },
   "file_extension": ".py",
   "mimetype": "text/x-python",
   "name": "python",
   "nbconvert_exporter": "python",
   "pygments_lexer": "ipython3",
   "version": "3.12.3"
  }
 },
 "nbformat": 4,
 "nbformat_minor": 2
}
