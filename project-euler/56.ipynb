{
 "cells": [
  {
   "cell_type": "markdown",
   "metadata": {},
   "source": [
    "## 56 - Powerful Digit Sum\n",
    "> A googol ($10^{100}$) is a massive number: one followed by one-hundred zeros; $100^{100}$ is almost unimaginably large: one followed by two-hundred zeros. Despite their size, the sum of the digits in each number is only $1$.\n",
    "    <p>Considering natural numbers of the form, $a^b$, where $a, b \\lt 100$, what is the maximum digital sum?</p>\n",
    "\n"
   ]
  },
  {
   "cell_type": "code",
   "execution_count": 1,
   "metadata": {
    "execution": {
     "iopub.execute_input": "2025-04-01T20:30:12.854070Z",
     "iopub.status.busy": "2025-04-01T20:30:12.853442Z",
     "iopub.status.idle": "2025-04-01T20:30:13.041369Z",
     "shell.execute_reply": "2025-04-01T20:30:13.040677Z"
    }
   },
   "outputs": [
    {
     "name": "stdout",
     "output_type": "stream",
     "text": [
      "972\n"
     ]
    }
   ],
   "source": [
    "def digit_sum(n):\n",
    "    s=str(n)\n",
    "    l=len(s)\n",
    "    return sum(int(s[i]) for i in range(l))\n",
    "\n",
    "m=0\n",
    "for a in range(1,100):\n",
    "    for b in range(1,100):\n",
    "        s=digit_sum(a**b)\n",
    "        if s>m:\n",
    "            m=s\n",
    "            p,q=a,b\n",
    "\n",
    "print(m)"
   ]
  }
 ],
 "metadata": {
  "kernelspec": {
   "display_name": "Python 3",
   "language": "python",
   "name": "python3"
  },
  "language_info": {
   "codemirror_mode": {
    "name": "ipython",
    "version": 3
   },
   "file_extension": ".py",
   "mimetype": "text/x-python",
   "name": "python",
   "nbconvert_exporter": "python",
   "pygments_lexer": "ipython3",
   "version": "3.12.3"
  }
 },
 "nbformat": 4,
 "nbformat_minor": 2
}
