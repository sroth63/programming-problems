{
 "cells": [
  {
   "cell_type": "markdown",
   "metadata": {},
   "source": [
    "## 70 - Totient Permutation\n",
    "> Euler's totient function, $\\phi(n)$ [sometimes called the phi function], is used to determine the number of positive numbers less than or equal to $n$ which are relatively prime to $n$. For example, as $1, 2, 4, 5, 7$, and $8$, are all less than nine and relatively prime to nine, $\\phi(9)=6$.<br>The number $1$ is considered to be relatively prime to every positive number, so $\\phi(1)=1$.\n",
    "    <p>Interestingly, $\\phi(87109)=79180$, and it can be seen that $87109$ is a permutation of $79180$.</p>\n",
    "    <p>Find the value of $n$, $1 \\lt n \\lt 10^7$, for which $\\phi(n)$ is a permutation of $n$ and the ratio $n/\\phi(n)$ produces a minimum.</p>\n",
    "\n",
    "$\\frac n{\\phi(n)}$ is small when $n$ as few prime factors (see the previous problem for explanations).\n",
    "\n",
    "If $n$ is prime then $\\phi(n)=n-1$ cannot be a permutation of $n$. So I assumed $n=p^\\alpha q^\\beta$ where $p$ and $q$ are prime (I couldn't prove it). Then I just bruteforced."
   ]
  },
  {
   "cell_type": "code",
   "execution_count": 1,
   "metadata": {
    "execution": {
     "iopub.execute_input": "2025-04-01T20:31:11.880004Z",
     "iopub.status.busy": "2025-04-01T20:31:11.879093Z",
     "iopub.status.idle": "2025-04-01T20:31:13.835189Z",
     "shell.execute_reply": "2025-04-01T20:31:13.834056Z"
    }
   },
   "outputs": [
    {
     "name": "stdout",
     "output_type": "stream",
     "text": [
      "8319823\n"
     ]
    }
   ],
   "source": [
    "def is_perm(a, b):\n",
    "    return sorted(str(a)) == sorted(str(b))\n",
    "\n",
    "def is_prime(p):\n",
    "    if p <= 1:\n",
    "        return False\n",
    "    for i in range(2, int(p**0.5) + 1):\n",
    "        if p % i == 0:\n",
    "            return False\n",
    "    return True\n",
    "\n",
    "primes=[i for i in range(10**4) if is_prime(i)]\n",
    "\n",
    "m=2\n",
    "for p in primes:\n",
    "    for q in primes:\n",
    "        alpha=1\n",
    "        beta=1\n",
    "        n=p**alpha*q**beta\n",
    "        while n < 10**7:\n",
    "            while n < 10**7:\n",
    "                phi = (n//(p*q))*(p-1)*(q-1)\n",
    "                if is_perm(n,phi):\n",
    "                    if n/phi<m:\n",
    "                        m=n/phi\n",
    "                        solution = n\n",
    "                alpha+=1\n",
    "                n*=p\n",
    "            alpha=1\n",
    "            beta+=1\n",
    "            n*=q\n",
    "\n",
    "print(solution)"
   ]
  }
 ],
 "metadata": {
  "kernelspec": {
   "display_name": "Python 3",
   "language": "python",
   "name": "python3"
  },
  "language_info": {
   "codemirror_mode": {
    "name": "ipython",
    "version": 3
   },
   "file_extension": ".py",
   "mimetype": "text/x-python",
   "name": "python",
   "nbconvert_exporter": "python",
   "pygments_lexer": "ipython3",
   "version": "3.12.3"
  }
 },
 "nbformat": 4,
 "nbformat_minor": 2
}
