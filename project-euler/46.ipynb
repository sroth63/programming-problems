{
 "cells": [
  {
   "cell_type": "markdown",
   "metadata": {},
   "source": [
    "## 46 - Goldbach's Other Conjecture\n",
    "> It was proposed by Christian Goldbach that every odd composite number can be written as the sum of a prime and twice a square. $$\\begin{align}\n",
    "    9 = 7 + 2 \\times 1^2\\\\\n",
    "    15 = 7 + 2 \\times 2^2\\\\\n",
    "    21 = 3 + 2 \\times 3^2\\\\\n",
    "    25 = 7 + 2 \\times 3^2\\\\\n",
    "    27 = 19 + 2 \\times 2^2\\\\\n",
    "    33 = 31 + 2 \\times 1^2\n",
    "    \\end{align}$$\n",
    "    <p>It turns out that the conjecture was false.</p>\n",
    "    <p>What is the smallest odd composite that cannot be written as the sum of a prime and twice a square?</p>\n",
    "\n",
    "We want to write odd composite numbers $n$ as $n=p+2m^2$ where $p$ is prime. To ensure we indeed find the smallest counterexample without assuming anything, I iterated on $n$, and then on $m$."
   ]
  },
  {
   "cell_type": "code",
   "execution_count": 1,
   "metadata": {
    "execution": {
     "iopub.execute_input": "2025-04-01T20:29:52.736998Z",
     "iopub.status.busy": "2025-04-01T20:29:52.736681Z",
     "iopub.status.idle": "2025-04-01T20:29:52.862173Z",
     "shell.execute_reply": "2025-04-01T20:29:52.861497Z"
    }
   },
   "outputs": [
    {
     "name": "stdout",
     "output_type": "stream",
     "text": [
      "5777\n"
     ]
    }
   ],
   "source": [
    "def is_prime(n):\n",
    "    if n <= 1:\n",
    "        return False\n",
    "    for i in range(2, int(n**0.5)+1):\n",
    "        if n % i ==0:\n",
    "            return False\n",
    "    return True\n",
    "\n",
    "n = 9\n",
    "while True:\n",
    "    found = True\n",
    "    for m in range(1, int((n//2)**0.5)+1):\n",
    "        p = n - 2*m**2\n",
    "        if is_prime(p):\n",
    "            found = False\n",
    "    if found:\n",
    "        print(n)\n",
    "        break\n",
    "    n += 2\n",
    "    while is_prime(n):\n",
    "        n += 2"
   ]
  }
 ],
 "metadata": {
  "kernelspec": {
   "display_name": "Python 3",
   "language": "python",
   "name": "python3"
  },
  "language_info": {
   "codemirror_mode": {
    "name": "ipython",
    "version": 3
   },
   "file_extension": ".py",
   "mimetype": "text/x-python",
   "name": "python",
   "nbconvert_exporter": "python",
   "pygments_lexer": "ipython3",
   "version": "3.12.3"
  }
 },
 "nbformat": 4,
 "nbformat_minor": 2
}
