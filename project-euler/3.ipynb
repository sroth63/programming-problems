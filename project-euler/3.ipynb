{
 "cells": [
  {
   "cell_type": "markdown",
   "metadata": {},
   "source": [
    "## 3 - Largest Prime Factor\n",
    "> The prime factors of $13195$ are $5, 7, 13$ and $29$.\\\n",
    "  What is the largest prime factor of the number $600851475143$?"
   ]
  },
  {
   "cell_type": "code",
   "execution_count": 1,
   "metadata": {
    "execution": {
     "iopub.execute_input": "2025-04-01T20:27:01.931840Z",
     "iopub.status.busy": "2025-04-01T20:27:01.931438Z",
     "iopub.status.idle": "2025-04-01T20:27:01.940599Z",
     "shell.execute_reply": "2025-04-01T20:27:01.939577Z"
    }
   },
   "outputs": [
    {
     "name": "stdout",
     "output_type": "stream",
     "text": [
      "6857\n"
     ]
    }
   ],
   "source": [
    "n = 600851475143\n",
    "p = 2\n",
    "while n != 1:\n",
    "    while n % p != 0:\n",
    "        p += 1\n",
    "    n //= p\n",
    "print(p)"
   ]
  }
 ],
 "metadata": {
  "kernelspec": {
   "display_name": "Python 3",
   "language": "python",
   "name": "python3"
  },
  "language_info": {
   "codemirror_mode": {
    "name": "ipython",
    "version": 3
   },
   "file_extension": ".py",
   "mimetype": "text/x-python",
   "name": "python",
   "nbconvert_exporter": "python",
   "pygments_lexer": "ipython3",
   "version": "3.12.3"
  }
 },
 "nbformat": 4,
 "nbformat_minor": 2
}
