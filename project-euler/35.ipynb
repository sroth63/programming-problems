{
 "cells": [
  {
   "cell_type": "markdown",
   "metadata": {},
   "source": [
    "## 35 - Circular Primes\n",
    "> The number, $197$, is called a circular prime because all rotations of the digits: $197$, $971$, and $719$, are themselves prime.\\\n",
    "    <p>There are thirteen such primes below $100$: $2, 3, 5, 7, 11, 13, 17, 31, 37, 71, 73, 79$, and $97$.</p>\n",
    "    <p>How many circular primes are there below one million?</p>"
   ]
  },
  {
   "cell_type": "code",
   "execution_count": 1,
   "metadata": {
    "execution": {
     "iopub.execute_input": "2025-04-01T20:28:09.479351Z",
     "iopub.status.busy": "2025-04-01T20:28:09.478771Z",
     "iopub.status.idle": "2025-04-01T20:28:14.528353Z",
     "shell.execute_reply": "2025-04-01T20:28:14.527261Z"
    }
   },
   "outputs": [
    {
     "name": "stdout",
     "output_type": "stream",
     "text": [
      "55\n"
     ]
    }
   ],
   "source": [
    "def is_prime(n):\n",
    "    n = int(n)\n",
    "    if n <= 1:\n",
    "        return False\n",
    "    for i in range(2, int(n**0.5+1)):\n",
    "        if n % i == 0:\n",
    "            return False\n",
    "    return True\n",
    "\n",
    "def is_circular(n):\n",
    "    for i in range(len(n)):\n",
    "        if not(is_prime(n)):\n",
    "            return False\n",
    "        n = n[1:]+n[0]\n",
    "    return True\n",
    "\n",
    "s=0\n",
    "for i in range(10**6):\n",
    "    if is_circular(str(i)):\n",
    "        s+=1\n",
    "\n",
    "print(s)"
   ]
  }
 ],
 "metadata": {
  "kernelspec": {
   "display_name": "Python 3",
   "language": "python",
   "name": "python3"
  },
  "language_info": {
   "codemirror_mode": {
    "name": "ipython",
    "version": 3
   },
   "file_extension": ".py",
   "mimetype": "text/x-python",
   "name": "python",
   "nbconvert_exporter": "python",
   "pygments_lexer": "ipython3",
   "version": "3.12.3"
  }
 },
 "nbformat": 4,
 "nbformat_minor": 2
}
