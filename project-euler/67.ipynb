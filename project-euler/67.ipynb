{
 "cells": [
  {
   "cell_type": "markdown",
   "metadata": {},
   "source": [
    "## 67 - Maximum Path Sum II\n",
    "> By starting at the top of the triangle below and moving to adjacent numbers on the row below, the maximum total from top to bottom is 23.\n",
    "    <p style=\"text-align: center;\"><span class=\"red\"><b>3</b></span><br><span class=\"red\"><b>7</b></span> 4<br>\n",
    "    2 <span class=\"red\"><b>4</b></span> 6<br>\n",
    "    8 5 <span class=\"red\"><b>9</b></span> 3</p>\n",
    "    <p>That is, 3 + 7 + 4 + 9 = 23.</p>\n",
    "    <p>Find the maximum total from top to bottom in <a href=\"https://projecteuler.net/resources/documents/0067_triangle.txt\">triangle.txt</a> (right click and 'Save Link/Target As...'), a 15K text file containing a triangle with one-hundred rows.</p>\n",
    "    <p class=\"smaller\"><b>NOTE:</b> This is a much more difficult version of <a href=\"https://projecteuler.net/problem=18\">Problem 18</a>. It is not possible to try every route to solve this problem, as there are 2<sup>99</sup> altogether! If you could check one trillion (10<sup>12</sup>) routes every second it would take over twenty billion years to check them all. There is an efficient algorithm to solve it. ;o)</p>\n",
    "\n",
    "I used the same method as for problem 18.\n"
   ]
  },
  {
   "cell_type": "code",
   "execution_count": 1,
   "metadata": {
    "execution": {
     "iopub.execute_input": "2025-04-01T20:31:08.221276Z",
     "iopub.status.busy": "2025-04-01T20:31:08.220869Z",
     "iopub.status.idle": "2025-04-01T20:31:08.248413Z",
     "shell.execute_reply": "2025-04-01T20:31:08.247333Z"
    }
   },
   "outputs": [
    {
     "name": "stdout",
     "output_type": "stream",
     "text": [
      "7273\n"
     ]
    }
   ],
   "source": [
    "triangle = open(\"0067_triangle.txt\").read().splitlines()\n",
    "\n",
    "n = 100\n",
    "for i in range(n):\n",
    "    triangle[i] = triangle[i].split()\n",
    "    triangle[i] = list(map(int, triangle[i]))\n",
    "    triangle[i] = triangle[i] + [0]*(n-len(triangle[i]))\n",
    "\n",
    "d = {}\n",
    "for j in range(n):\n",
    "    d[(n-1,j)] = triangle[n-1][j]\n",
    "i = n-2\n",
    "while i >= 0:\n",
    "    for j in range(i+1):\n",
    "        d[(i,j)] = triangle[i][j] + max(d[(i+1,j)],d[(i+1,j+1)])\n",
    "    i -= 1\n",
    "print(d[(0,0)])"
   ]
  }
 ],
 "metadata": {
  "kernelspec": {
   "display_name": "Python 3",
   "language": "python",
   "name": "python3"
  },
  "language_info": {
   "codemirror_mode": {
    "name": "ipython",
    "version": 3
   },
   "file_extension": ".py",
   "mimetype": "text/x-python",
   "name": "python",
   "nbconvert_exporter": "python",
   "pygments_lexer": "ipython3",
   "version": "3.12.3"
  }
 },
 "nbformat": 4,
 "nbformat_minor": 2
}
