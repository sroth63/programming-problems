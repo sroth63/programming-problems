{
 "cells": [
  {
   "cell_type": "markdown",
   "metadata": {},
   "source": [
    "## 48 - Self Powers\n",
    "> The series, $1^1 + 2^2 + 3^3 + \\cdots + 10^{10} = 10405071317$.\n",
    "    <p>Find the last ten digits of the series, $1^1 + 2^2 + 3^3 + \\cdots + 1000^{1000}$.</p>\n",
    "\n",
    "Again an easy one with Python."
   ]
  },
  {
   "cell_type": "code",
   "execution_count": 1,
   "metadata": {
    "execution": {
     "iopub.execute_input": "2025-04-01T20:29:55.908575Z",
     "iopub.status.busy": "2025-04-01T20:29:55.908122Z",
     "iopub.status.idle": "2025-04-01T20:29:55.933309Z",
     "shell.execute_reply": "2025-04-01T20:29:55.932266Z"
    }
   },
   "outputs": [
    {
     "name": "stdout",
     "output_type": "stream",
     "text": [
      "9110846700\n"
     ]
    }
   ],
   "source": [
    "print(int(str(sum(n**n for n in range(1,1001)))[-10:]))"
   ]
  }
 ],
 "metadata": {
  "kernelspec": {
   "display_name": "Python 3",
   "language": "python",
   "name": "python3"
  },
  "language_info": {
   "codemirror_mode": {
    "name": "ipython",
    "version": 3
   },
   "file_extension": ".py",
   "mimetype": "text/x-python",
   "name": "python",
   "nbconvert_exporter": "python",
   "pygments_lexer": "ipython3",
   "version": "3.12.3"
  }
 },
 "nbformat": 4,
 "nbformat_minor": 2
}
