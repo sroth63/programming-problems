{
 "cells": [
  {
   "cell_type": "markdown",
   "metadata": {},
   "source": [
    "## 36 - Double-base Palindromes\n",
    "> The decimal number, $585 = 1001001001_2$ (binary), is palindromic in both bases.\\\n",
    "    <p>Find the sum of all numbers, less than one million, which are palindromic in base $10$ and base $2$.</p>\n",
    "    <p class=\"smaller\">(Please note that the palindromic number, in either base, may not include leading zeros.)</p>\n",
    "\n"
   ]
  },
  {
   "cell_type": "code",
   "execution_count": 1,
   "metadata": {
    "execution": {
     "iopub.execute_input": "2025-04-01T20:28:15.652979Z",
     "iopub.status.busy": "2025-04-01T20:28:15.652563Z",
     "iopub.status.idle": "2025-04-01T20:28:15.963257Z",
     "shell.execute_reply": "2025-04-01T20:28:15.962478Z"
    }
   },
   "outputs": [
    {
     "name": "stdout",
     "output_type": "stream",
     "text": [
      "872187\n"
     ]
    }
   ],
   "source": [
    "def is_palindromic(n):\n",
    "    s = str(n)\n",
    "    if len(s) <= 1:\n",
    "        return True\n",
    "    if s[0] == s[-1]:\n",
    "        return is_palindromic(s[1:-1])\n",
    "    return False\n",
    "\n",
    "s=0\n",
    "for i in range(1000000):\n",
    "    if is_palindromic(i) and is_palindromic(bin(i)[2:]):\n",
    "        s+=i\n",
    "        \n",
    "print(s)"
   ]
  }
 ],
 "metadata": {
  "kernelspec": {
   "display_name": "Python 3",
   "language": "python",
   "name": "python3"
  },
  "language_info": {
   "codemirror_mode": {
    "name": "ipython",
    "version": 3
   },
   "file_extension": ".py",
   "mimetype": "text/x-python",
   "name": "python",
   "nbconvert_exporter": "python",
   "pygments_lexer": "ipython3",
   "version": "3.12.3"
  }
 },
 "nbformat": 4,
 "nbformat_minor": 2
}
