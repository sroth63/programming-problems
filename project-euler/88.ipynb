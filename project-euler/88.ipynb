{
 "cells": [
  {
   "cell_type": "markdown",
   "metadata": {},
   "source": [
    "## 88 - Product-sum Numbers\n",
    "> A natural number, $N$, that can be written as the sum and product of a given set of at least two natural numbers, $\\{a_1, a_2, \\dots, a_k\\}$ is called a product-sum number: $N = a_1 + a_2 + \\cdots + a_k = a_1 \\times a_2 \\times \\cdots \\times a_k$.\n",
    "    <p>For example, $6 = 1 + 2 + 3 = 1 \\times 2 \\times 3$.\n",
    "    <p>For a given set of size, $k$, we shall call the smallest $N$ with this property a minimal product-sum number. The minimal product-sum numbers for sets of size, $k = 2, 3, 4, 5$, and $6$ are as follows.</p>\n",
    "    <ul style=\"list-style-type:none;\">\n",
    "    <li>$k=2$: $4 = 2 \\times 2 = 2 + 2$</li>\n",
    "    <li>$k=3$: $6 = 1 \\times 2 \\times 3 = 1 + 2 + 3$</li>\n",
    "    <li>$k=4$: $8 = 1 \\times 1 \\times 2 \\times 4 = 1 + 1 + 2 + 4$</li>\n",
    "    <li>$k=5$: $8 = 1 \\times 1 \\times 2 \\times 2 \\times 2 = 1 + 1 + 2 + 2 + 2$</li><li>$k=6$: $12 = 1 \\times 1 \\times 1 \\times 1 \\times 2 \\times 6 = 1 + 1 + 1 + 1 + 2 + 6$</li></ul>\n",
    "    <p>Hence for $2 \\le k \\le 6$, the sum of all the minimal product-sum numbers is $4+6+8+12 = 30$; note that $8$ is only counted once in the sum.</p>\n",
    "    <p>In fact, as the complete set of minimal product-sum numbers for $2 \\le k \\le 12$ is $\\{4, 6, 8, 12, 15, 16\\}$, the sum is $61$.</p>\n",
    "    <p>What is the sum of all the minimal product-sum numbers for $2 \\le k \\le 12000$?</p>\n",
    "\n",
    "Given any factorization $N = a_1 \\times a_2 \\times \\cdots \\times a_k$ with $a_i \\ge 2$, we can create a product-sum number by adding ones in the set. So I bruteforced all the possible factorizations of each number."
   ]
  },
  {
   "cell_type": "code",
   "execution_count": 1,
   "metadata": {},
   "outputs": [
    {
     "name": "stdout",
     "output_type": "stream",
     "text": [
      "7587457\n"
     ]
    }
   ],
   "source": [
    "LIMIT = 24000\n",
    "\n",
    "def product(numbers):\n",
    "    result = 1\n",
    "    for num in numbers:\n",
    "        result *= num\n",
    "    return result\n",
    "\n",
    "\n",
    "def generate_factorizations(n, start=2, current=None):\n",
    "    \"\"\"\n",
    "    Recursively generate all lists of factors (each >= start) whose product equals n.\n",
    "    \"\"\"\n",
    "    if current is None:\n",
    "        current = []\n",
    "    if n == 1:\n",
    "        if current:\n",
    "            yield current\n",
    "        return\n",
    "    \n",
    "    for factor in range(start, n + 1):\n",
    "        if n % factor == 0:\n",
    "            yield from generate_factorizations(n // factor, factor, current + [factor])\n",
    "\n",
    "\n",
    "# Create a sequence array where index k will eventually hold the minimal product-sum number for k factors.\n",
    "sequence = [float('inf')] * (LIMIT // 2 + 1)\n",
    "\n",
    "for n in range(4, LIMIT + 1):\n",
    "    factorizations = list(generate_factorizations(n))\n",
    "    for factors in factorizations:\n",
    "        prod_val = product(factors)\n",
    "        sum_val = sum(factors)\n",
    "        extra_terms = prod_val - sum_val # number of ones to add to balance the product-sum equation\n",
    "        k = extra_terms + len(factors) # total number of terms\n",
    "        # If k is within our sequence array, update if we found a smaller product-sum number.\n",
    "        if k < len(sequence) and prod_val < sequence[k]:\n",
    "            sequence[k] = prod_val\n",
    "\n",
    "minimal_product_sum_numbers = set(sequence[2:])\n",
    "print(sum(minimal_product_sum_numbers))"
   ]
  }
 ],
 "metadata": {
  "kernelspec": {
   "display_name": "Python 3",
   "language": "python",
   "name": "python3"
  },
  "language_info": {
   "codemirror_mode": {
    "name": "ipython",
    "version": 3
   },
   "file_extension": ".py",
   "mimetype": "text/x-python",
   "name": "python",
   "nbconvert_exporter": "python",
   "pygments_lexer": "ipython3",
   "version": "3.12.3"
  }
 },
 "nbformat": 4,
 "nbformat_minor": 2
}
