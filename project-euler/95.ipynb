{
 "cells": [
  {
   "cell_type": "markdown",
   "metadata": {},
   "source": [
    "## 95 - Amicable Chains\n",
    "> The proper divisors of a number are all the divisors excluding the number itself. For example, the proper divisors of $28$ are $1$, $2$, $4$, $7$, and $14$. As the sum of these divisors is equal to $28$, we call it a perfect number.\n",
    "    <p>Interestingly the sum of the proper divisors of $220$ is $284$ and the sum of the proper divisors of $284$ is $220$, forming a chain of two numbers. For this reason, $220$ and $284$ are called an amicable pair.</p>\n",
    "    <p>Perhaps less well known are longer chains. For example, starting with $12496$, we form a chain of five numbers:$$12496 \\to 14288 \\to 15472 \\to 14536 \\to 14264 (\\to 12496 \\to \\cdots)$$</p>\n",
    "    <p>Since this chain returns to its starting point, it is called an amicable chain.</p>\n",
    "    <p>Find the smallest member of the longest amicable chain with no element exceeding one million.</p>\n",
    "\n",
    "Nothing too fancy here, my solution isn't very efficient (but still runs in under a minute)."
   ]
  },
  {
   "cell_type": "code",
   "execution_count": 3,
   "metadata": {},
   "outputs": [
    {
     "name": "stdout",
     "output_type": "stream",
     "text": [
      "14316\n"
     ]
    }
   ],
   "source": [
    "def sum_divisors(n):\n",
    "    \"\"\"Return the sum of proper divisors of n (excluding n itself).\"\"\"\n",
    "    if n == 1:\n",
    "        return 0\n",
    "    total = 1\n",
    "    limit = int(n ** 0.5)\n",
    "    for i in range(2, limit + 1):\n",
    "        if n % i == 0:\n",
    "            total += i\n",
    "            other = n // i\n",
    "            if i != other:\n",
    "                total += other\n",
    "    return total\n",
    "\n",
    "\n",
    "def compute_amicable_chains(limit=10**6):\n",
    "    \"\"\"\n",
    "    Compute amicable chain lengths for numbers less than or equal to 'limit'.\n",
    "    \n",
    "    Returns a dictionary mapping each starting number to its chain length if it forms\n",
    "    a valid cycle, or -float('inf') if it does not.\n",
    "    \"\"\"\n",
    "    chain_lengths = {}\n",
    "    \n",
    "    for i in range(limit):\n",
    "        # Skip numbers already processed.\n",
    "        if i in chain_lengths:\n",
    "            continue\n",
    "        \n",
    "        chain = [i]\n",
    "        \n",
    "        while True:\n",
    "            next_num = sum_divisors(chain[-1])\n",
    "            \n",
    "            # If next_num is out of range or already computed, mark entire chain as invalid.\n",
    "            if next_num > limit or next_num in chain_lengths:\n",
    "                for num in chain:\n",
    "                    chain_lengths[num] = -float('inf')\n",
    "                break\n",
    "            \n",
    "            # Cycle found if next_num is already in the current chain.\n",
    "            if next_num in chain:\n",
    "                cycle_start = chain.index(next_num)\n",
    "                cycle_length = len(chain) - cycle_start\n",
    "                \n",
    "                # Mark numbers within the cycle with their cycle length.\n",
    "                for num in chain[cycle_start:]:\n",
    "                    chain_lengths[num] = cycle_length\n",
    "                # Mark numbers outside the cycle as invalid.\n",
    "                for num in chain[:cycle_start]:\n",
    "                    chain_lengths[num] = -float('inf')\n",
    "                break\n",
    "            \n",
    "            chain.append(next_num)\n",
    "    \n",
    "    return chain_lengths\n",
    "\n",
    "\n",
    "def print_max_cycle(chain_lengths):\n",
    "    \"\"\"Print the numbers that set a new maximum cycle length.\"\"\"\n",
    "    max_cycle_length, max_number = 0, 0\n",
    "    for number, cycle_length in chain_lengths.items():\n",
    "        if cycle_length > max_cycle_length:\n",
    "            max_cycle_length = cycle_length\n",
    "            max_number = number\n",
    "    print(max_number)\n",
    "\n",
    "chain_lengths = compute_amicable_chains()\n",
    "print_max_cycle(chain_lengths)\n"
   ]
  }
 ],
 "metadata": {
  "kernelspec": {
   "display_name": "Python 3",
   "language": "python",
   "name": "python3"
  },
  "language_info": {
   "codemirror_mode": {
    "name": "ipython",
    "version": 3
   },
   "file_extension": ".py",
   "mimetype": "text/x-python",
   "name": "python",
   "nbconvert_exporter": "python",
   "pygments_lexer": "ipython3",
   "version": "3.12.3"
  }
 },
 "nbformat": 4,
 "nbformat_minor": 2
}
