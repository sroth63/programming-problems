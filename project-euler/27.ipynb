{
 "cells": [
  {
   "cell_type": "markdown",
   "metadata": {},
   "source": [
    "## 27 - Quadratic Primes\n",
    "> Euler discovered the remarkable quadratic formula:\\\n",
    "    <p>$n^2 + n + 41$</p>\n",
    "    <p>It turns out that the formula will produce $40$ primes for the consecutive integer values $0 \\le n \\le 39$. However, when $n = 40, 40^2 + 40 + 41 = 40(40 + 1) + 41$ is divisible by $41$, and certainly when $n = 41, 41^2 + 41 + 41$ is clearly divisible by $41$.</p>\n",
    "    <p>The incredible formula $n^2 - 79n + 1601$ was discovered, which produces $80$ primes for the consecutive values $0 \\le n \\le 79$. The product of the coefficients, $-79$ and $1601$, is $-126479$.</p>\n",
    "    <p>Considering quadratics of the form:</p>\n",
    "    $n^2 + an + b$, where $|a| \\lt 1000$ and $|b| \\le 1000$<br><br>where $|n|$ is the modulus/absolute value of $n$<br>e.g. $|11| = 11$ and $|-4| = 4$\n",
    "    <p>Find the product of the coefficients, $a$ and $b$, for the quadratic expression that produces the maximum number of primes for consecutive values of $n$, starting with $n = 0$.</p>\n",
    "\n",
    "$b$ has to be prime because of the case $n=0$. Knowing this, we can just go through all possible values of $a$ and $b$."
   ]
  },
  {
   "cell_type": "code",
   "execution_count": 1,
   "metadata": {
    "execution": {
     "iopub.execute_input": "2025-04-01T20:27:46.615379Z",
     "iopub.status.busy": "2025-04-01T20:27:46.614955Z",
     "iopub.status.idle": "2025-04-01T20:27:46.885671Z",
     "shell.execute_reply": "2025-04-01T20:27:46.884583Z"
    }
   },
   "outputs": [
    {
     "name": "stdout",
     "output_type": "stream",
     "text": [
      "-59231\n"
     ]
    }
   ],
   "source": [
    "def is_prime(n):\n",
    "    if n <= 1:\n",
    "        return False\n",
    "    for i in range(2,int(n**0.5)+1):\n",
    "       if n % i == 0:\n",
    "            return False\n",
    "    return True\n",
    "\n",
    "primes = [i for i in range(1000) if is_prime(i)]\n",
    "\n",
    "max_length = 0\n",
    "for a in range(-999, 1000, 2):\n",
    "    for b in primes:\n",
    "        n = 1\n",
    "        while is_prime(n**2 + a*n + b):\n",
    "            n += 1\n",
    "        if n > max_length:\n",
    "            max_length = n\n",
    "            ab = a*b\n",
    "\n",
    "print(ab)"
   ]
  }
 ],
 "metadata": {
  "kernelspec": {
   "display_name": "Python 3",
   "language": "python",
   "name": "python3"
  },
  "language_info": {
   "codemirror_mode": {
    "name": "ipython",
    "version": 3
   },
   "file_extension": ".py",
   "mimetype": "text/x-python",
   "name": "python",
   "nbconvert_exporter": "python",
   "pygments_lexer": "ipython3",
   "version": "3.12.3"
  }
 },
 "nbformat": 4,
 "nbformat_minor": 2
}
