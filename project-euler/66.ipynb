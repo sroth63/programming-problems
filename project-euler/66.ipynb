{
 "cells": [
  {
   "cell_type": "markdown",
   "metadata": {},
   "source": [
    "## 66 - Diophantine Equation\n",
    "> Consider quadratic Diophantine equations of the form:$$x^2 - Dy^2 = 1$$\n",
    "    <p>For example, when $D=13$, the minimal solution in $x$ is $649^2 - 13 \\times 180^2 = 1$.</p>\n",
    "    <p>It can be assumed that there are no solutions in positive integers when $D$ is square.</p>\n",
    "    <p>By finding minimal solutions in $x$ for $D = \\{2, 3, 5, 6, 7\\}$, we obtain the following:</p>$$\\begin{align}\n",
    "    3^2 - 2 \\times 2^2 &= 1\\\\\n",
    "    2^2 - 3 \\times 1^2 &= 1\\\\\n",
    "    {\\color{red}{\\mathbf 9}}^2 - 5 \\times 4^2 &= 1\\\\\n",
    "    5^2 - 6 \\times 2^2 &= 1\\\\\n",
    "    8^2 - 7 \\times 3^2 &= 1\n",
    "    \\end{align}$$\n",
    "    <p>Hence, by considering minimal solutions in $x$ for $D \\le 7$, the largest $x$ is obtained when $D=5$.</p>\n",
    "    <p>Find the value of $D \\le 1000$ in minimal solutions of $x$ for which the largest value of $x$ is obtained.</p>\n",
    "\n",
    "We are looking for [Fundamental solutions of Pell's equation](https://en.wikipedia.org/wiki/Pell%27s_equation#Fundamental_solution_via_continued_fractions). It can be computed with the convergents of the continued fraction for $\\sqrt D$. So I reused the code of the two previous problems."
   ]
  },
  {
   "cell_type": "code",
   "execution_count": 1,
   "metadata": {
    "execution": {
     "iopub.execute_input": "2025-04-01T20:31:07.137161Z",
     "iopub.status.busy": "2025-04-01T20:31:07.136242Z",
     "iopub.status.idle": "2025-04-01T20:31:07.218465Z",
     "shell.execute_reply": "2025-04-01T20:31:07.218072Z"
    }
   },
   "outputs": [
    {
     "name": "stdout",
     "output_type": "stream",
     "text": [
      "661\n"
     ]
    }
   ],
   "source": [
    "def gcd(a, b):\n",
    "    while b:\n",
    "        a, b = b, a % b\n",
    "    return abs(a)\n",
    "\n",
    "class Fraction:\n",
    "    def reduce(self):\n",
    "        d = gcd(self.numerator, self.denominator)\n",
    "        self.numerator //= d\n",
    "        self.denominator //= d\n",
    "    def __init__(self, numerator, denominator):\n",
    "        self.numerator = numerator\n",
    "        self.denominator = denominator\n",
    "        self.reduce()\n",
    "    def sum(self, x):\n",
    "        num = self.numerator * x.denominator + self.denominator * x.numerator\n",
    "        denom = self.denominator * x.denominator\n",
    "        return Fraction(num, denom)\n",
    "    def inverse(self):\n",
    "        return Fraction(self.denominator, self.numerator)\n",
    "\n",
    "class Zsqrt:\n",
    "    def __init__(self, params): # Zsqrt((N, a, b, c)) represents (a * sqrt(N) + b)/c\n",
    "        self.N = params[0]\n",
    "        self.a = params[1]\n",
    "        self.b = params[2]\n",
    "        self.c = params[3]\n",
    "    def floor(self):\n",
    "        return int((self.a * self.N**0.5 + self.b) / self.c)\n",
    "    def next(self):\n",
    "        k = self.b - self.c * self.floor()\n",
    "        nexta = self.c * self.a\n",
    "        nextb = -self.c * k\n",
    "        nextc = self.a**2 * self.N - k**2\n",
    "        d = gcd(nexta, gcd(nextb, nextc))\n",
    "        return Zsqrt((self.N,nexta//d, nextb//d, nextc//d))\n",
    "    def to_tuple(self):\n",
    "        return (self.N, self.a, self.b, self.c)\n",
    "\n",
    "def coeffs(D):\n",
    "    f = Zsqrt((D, 1, 0, 1))\n",
    "    c = [f.floor()]\n",
    "    f = f.next()\n",
    "    x = f.floor()\n",
    "    stop = f.to_tuple()\n",
    "    while True:\n",
    "        c.append(x)\n",
    "        f = f.next()\n",
    "        x = f.floor()\n",
    "        if f.to_tuple() == stop:\n",
    "            break\n",
    "    return c\n",
    "\n",
    "def convergent(c): # returns the numerator of c[0] + 1 / (c[1] + 1 / (... + 1/c[-1]))\n",
    "    f = Fraction(0,1)\n",
    "    for i in range(len(c)-1):\n",
    "        f = f.sum(Fraction(c[-i-1], 1)).inverse()\n",
    "    f = f.sum(c[0])\n",
    "    return f.numerator\n",
    "\n",
    "next_square = 2\n",
    "largest_x = 0\n",
    "D0 = 0\n",
    "\n",
    "for D in range(2, 1001):\n",
    "    if D != next_square**2:\n",
    "        c = coeffs(D)\n",
    "        if len(c) % 2 == 1:\n",
    "            c.pop()\n",
    "        else:\n",
    "            c = c + c[1:-1]\n",
    "        x = convergent(c)\n",
    "        if x > largest_x:\n",
    "            largest_x = x\n",
    "            D0 = D\n",
    "    else:\n",
    "        next_square += 1\n",
    "\n",
    "print(D0)"
   ]
  }
 ],
 "metadata": {
  "kernelspec": {
   "display_name": "Python 3",
   "language": "python",
   "name": "python3"
  },
  "language_info": {
   "codemirror_mode": {
    "name": "ipython",
    "version": 3
   },
   "file_extension": ".py",
   "mimetype": "text/x-python",
   "name": "python",
   "nbconvert_exporter": "python",
   "pygments_lexer": "ipython3",
   "version": "3.12.3"
  }
 },
 "nbformat": 4,
 "nbformat_minor": 2
}
