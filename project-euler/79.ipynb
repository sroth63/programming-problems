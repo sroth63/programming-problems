{
 "cells": [
  {
   "cell_type": "markdown",
   "metadata": {},
   "source": [
    "## 79 - Passcode Derivation\n",
    "> A common security method used for online banking is to ask the user for three random characters from a passcode. For example, if the passcode was 531278, they may ask for the 2nd, 3rd, and 5th characters; the expected reply would be: 317.\n",
    "    <p>The text file, <a href=\"https://projecteuler.net/resources/documents/0079_keylog.txt\">keylog.txt</a>, contains fifty successful login attempts.</p>\n",
    "    <p>Given that the three characters are always asked for in order, analyse the file so as to determine the shortest possible secret passcode of unknown length.</p>\n",
    "\n",
    "I created a graph in which, for each 3-digit code abc, there are edges a -> b -> c. It turns out that this graph is acyclic. Thus, the passcode contains each digit at most once (because we are looking for the shortest possible passcode), and can be obtained by a topological sort on the graph."
   ]
  },
  {
   "cell_type": "code",
   "execution_count": 1,
   "metadata": {
    "execution": {
     "iopub.execute_input": "2025-04-01T20:31:40.030629Z",
     "iopub.status.busy": "2025-04-01T20:31:40.030188Z",
     "iopub.status.idle": "2025-04-01T20:31:40.045207Z",
     "shell.execute_reply": "2025-04-01T20:31:40.043925Z"
    }
   },
   "outputs": [
    {
     "name": "stdout",
     "output_type": "stream",
     "text": [
      "73162890\n"
     ]
    }
   ],
   "source": [
    "log = open(\"0079_keylog.txt\").read().splitlines()\n",
    "G = {}\n",
    "for code in log:\n",
    "    a, b, c = int(code[0]), int(code[1]), int(code[2])\n",
    "    if not a in G:\n",
    "        G[a] = [b]\n",
    "    else:\n",
    "        G[a].append(b)\n",
    "    if not b in G:\n",
    "        G[b] = [c]\n",
    "    else:\n",
    "        G[b].append(c) #multi arcs ?\n",
    "    if not c in G:\n",
    "        G[c] = []\n",
    "\n",
    "def topological_sort(G, s):\n",
    "    if not(visited[s]):\n",
    "        visited[s] = True\n",
    "        for t in G[s]:\n",
    "            topological_sort(G, t)\n",
    "        top_sort.append(s)\n",
    "\n",
    "visited = {s: False for s in G}\n",
    "top_sort = []\n",
    "for s in G:\n",
    "    if not(visited[s]):\n",
    "        topological_sort(G,s)\n",
    "\n",
    "top_sort.reverse()\n",
    "print(\"\".join(map(str, top_sort)))"
   ]
  }
 ],
 "metadata": {
  "kernelspec": {
   "display_name": "Python 3",
   "language": "python",
   "name": "python3"
  },
  "language_info": {
   "codemirror_mode": {
    "name": "ipython",
    "version": 3
   },
   "file_extension": ".py",
   "mimetype": "text/x-python",
   "name": "python",
   "nbconvert_exporter": "python",
   "pygments_lexer": "ipython3",
   "version": "3.12.3"
  }
 },
 "nbformat": 4,
 "nbformat_minor": 2
}
